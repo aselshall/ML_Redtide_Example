{
  "cells": [
    {
      "cell_type": "markdown",
      "metadata": {
        "id": "view-in-github",
        "colab_type": "text"
      },
      "source": [
        "<a href=\"https://colab.research.google.com/github/aselshall/ML_Redtide_Example/blob/main/Redtide.ipynb\" target=\"_parent\"><img src=\"https://colab.research.google.com/assets/colab-badge.svg\" alt=\"Open In Colab\"/></a>"
      ]
    },
    {
      "cell_type": "markdown",
      "metadata": {
        "id": "gw5mBq5qvj8z"
      },
      "source": [
        "### Example 2: Red tide classification problem (large bloom, no bloom)\n",
        "Decision trees with python (scikit-learn, and graphviz)"
      ]
    },
    {
      "cell_type": "code",
      "execution_count": 15,
      "metadata": {
        "id": "-fzhhPl0vj85"
      },
      "outputs": [],
      "source": [
        "#General\n",
        "import pandas as pd\n",
        "import numpy as np\n",
        "import matplotlib.pyplot as plt\n",
        "\n",
        "\n",
        "#ML\n",
        "from sklearn.model_selection import train_test_split\n",
        "from sklearn.tree import DecisionTreeClassifier\n",
        "from sklearn.ensemble import RandomForestClassifier\n",
        "from sklearn.metrics import accuracy_score\n",
        "from sklearn import tree\n",
        "import graphviz\n",
        "import pydotplus\n",
        "import joblib"
      ]
    },
    {
      "cell_type": "code",
      "source": [
        "from pathlib import Path\n",
        "import random\n",
        "\n",
        "import gdown\n",
        "from pathlib import Path\n",
        "Path('Input').mkdir(parents=True, exist_ok=True)\n",
        "Path('Output').mkdir(parents=True, exist_ok=True)\n",
        "file='maze_data.csv'\n",
        "file_ID='11G2mPehgqroxBLPIFf7mIEFnDHL0m9qp'\n",
        "url='https://drive.google.com/uc?id='\n",
        "print('Input files download')\n",
        "source=url+file_ID\n",
        "destination='Input/{}'.format(file)\n",
        "print('from {} to {}'.format(source,destination))\n",
        "gdown.download(source, destination, quiet=True)"
      ],
      "metadata": {
        "colab": {
          "base_uri": "https://localhost:8080/",
          "height": 70
        },
        "id": "CfC6nxoEwpwY",
        "outputId": "00685e97-4d0e-482b-9f40-78bd047e7bd2"
      },
      "execution_count": 16,
      "outputs": [
        {
          "output_type": "stream",
          "name": "stdout",
          "text": [
            "Input files download\n",
            "from https://drive.google.com/uc?id=1z7Y7cDHtWhKmAbFNl0ABlMp3NOA2fVQr to Input/maze_data.csv\n"
          ]
        },
        {
          "output_type": "execute_result",
          "data": {
            "application/vnd.google.colaboratory.intrinsic+json": {
              "type": "string"
            },
            "text/plain": [
              "'Input/maze_data.csv'"
            ]
          },
          "metadata": {},
          "execution_count": 16
        }
      ]
    },
    {
      "cell_type": "code",
      "execution_count": 17,
      "metadata": {
        "id": "aee5CQ_dvj89"
      },
      "outputs": [],
      "source": [
        "df=pd.read_csv('Input/maze_data.csv')\n",
        "#display(df) "
      ]
    },
    {
      "cell_type": "markdown",
      "metadata": {
        "id": "KfLU0utuvj89"
      },
      "source": [
        "#### [2] Clean and prepare data"
      ]
    },
    {
      "cell_type": "code",
      "execution_count": 18,
      "metadata": {
        "id": "_XOsVt9wvj8-"
      },
      "outputs": [],
      "source": [
        "# Predictor variables\n",
        "X=df.drop(columns=['index','bloom','output'])\n",
        "#display(X)\n",
        "\n",
        "#Target variable(or label, or predictand)\n",
        "y=df.output\n",
        "#display(y)"
      ]
    },
    {
      "cell_type": "markdown",
      "metadata": {
        "id": "M2I0ZAeuvj8_"
      },
      "source": [
        "#### [3] Split data "
      ]
    },
    {
      "cell_type": "code",
      "execution_count": 19,
      "metadata": {
        "id": "cnl8tSURvj9A"
      },
      "outputs": [],
      "source": [
        "#Split to train and test\n",
        "X_train, X_test, y_train, y_test =train_test_split(X,y,test_size=0.2)\n",
        "\n",
        "# #Save splitted data\n",
        "# X_train.to_csv('X_train.csv') \n",
        "# X_test.to_csv('X_test.csv') \n",
        "# y_train .to_csv('y_train.csv') \n",
        "# y_test.to_csv('y_test.csv') \n",
        "\n",
        "#Display data\n",
        "#display(X_train)\n",
        "#display(y_train)"
      ]
    },
    {
      "cell_type": "markdown",
      "metadata": {
        "id": "AitakwsPvj9B"
      },
      "source": [
        "#### [4] Create, train, evaluate and save model "
      ]
    },
    {
      "cell_type": "code",
      "execution_count": 22,
      "metadata": {
        "colab": {
          "base_uri": "https://localhost:8080/"
        },
        "id": "BHaGpYmwvj9B",
        "outputId": "dbd86f7c-b1e3-4cba-9164-d69bc54edae6"
      },
      "outputs": [
        {
          "output_type": "stream",
          "name": "stdout",
          "text": [
            "Accuracy: 0.92\n"
          ]
        },
        {
          "output_type": "execute_result",
          "data": {
            "text/plain": [
              "['Redtide_Bloom_Pred.joblib']"
            ]
          },
          "metadata": {},
          "execution_count": 22
        }
      ],
      "source": [
        "#Split to train and test\n",
        "X_train, X_test, y_train, y_test =train_test_split(X,y,test_size=0.2)\n",
        "\n",
        "# Define model: decision treee  \n",
        "model=DecisionTreeClassifier()\n",
        "#model=RandomForestClassifier()\n",
        "\n",
        "#Train model \n",
        "model.fit(X_train,y_train)\n",
        "\n",
        "#Make predictions\n",
        "y_pred=model.predict(X_test)\n",
        "\n",
        "#Evalaute predictions\n",
        "#fine tune the model, choose another algorithm or model, or application<br>\n",
        "#Accuracy:size_train_dataset, clean data (duplicates, missing data), irrelevent data\n",
        "score=accuracy_score(y_test,y_pred)\n",
        "print('Accuracy: {:0.2f}'.format(score))\n",
        "\n",
        "#Save model to a file \n",
        "joblib.dump(model,'Redtide_Bloom_Pred.joblib')"
      ]
    },
    {
      "cell_type": "markdown",
      "metadata": {
        "id": "8F8aukzIvj9C"
      },
      "source": [
        "#### [5] Model interpretation\n",
        "https://towardsdatascience.com/understanding-decision-trees-for-classification-python-9663d683c952<br>\n",
        "Plot decision tree starting from root+decision node, to decision node, and to terminal node (leaf).<br>\n",
        "Pure node means further spliting will not lead to further information gain, so classification trees do noy split on pure nodes.However, impure nodes can split further.<br>\n",
        "The figure shows that setosa was correctly classified for all 12 points.The right side shows that many points are misclassified as no_bloom.<br>\n",
        "Classification trees are a greedy algorithm which mean\n",
        "s by default it will continue to split until it has a pure node.<br> \n",
        "The algorithm chooses the best split point (i.e., gini) for the impure node.<br>\n",
        "Decision trees split on the feature that results in the largest information gain (e.g., gini or entropy criterion).<br>\n",
        "IG = information before splitting (parent) — information after splitting \n",
        "If the impurity criterion is not zero then we can furthr split."
      ]
    },
    {
      "cell_type": "markdown",
      "source": [
        "Season: (1) fall (dark blue) , (2) winter (light blue),\n",
        "(3) spring (green), (4) summer (red) <br>\n",
        "SSH: (0) Loop Current South, (1) Loop Current North in the Gulf of Mexico <br>\n",
        "wind_os: Off-shore wind speed (0) below average, (1) above average <br>\n",
        "wind_as_ Along-shre wind speed (0) below average, (1) above average <br>\n",
        "river_ch: Caloosahatchee river outflow (0) below average, (1) above average <br>\n",
        "river_pc: Peace River outflow (0) below average, (1) above average <br>"
      ],
      "metadata": {
        "id": "bLfuZdG3N8J6"
      }
    },
    {
      "cell_type": "code",
      "execution_count": 23,
      "metadata": {
        "colab": {
          "base_uri": "https://localhost:8080/",
          "height": 1000
        },
        "id": "LXvsEKuTvj9D",
        "outputId": "d2d870dc-b7b3-42f8-f025-afd388cf47f7"
      },
      "outputs": [
        {
          "output_type": "execute_result",
          "data": {
            "text/plain": [
              "<graphviz.files.Source at 0x7f31b6e6c710>"
            ],
            "image/svg+xml": "<?xml version=\"1.0\" encoding=\"UTF-8\" standalone=\"no\"?>\n<!DOCTYPE svg PUBLIC \"-//W3C//DTD SVG 1.1//EN\"\n \"http://www.w3.org/Graphics/SVG/1.1/DTD/svg11.dtd\">\n<!-- Generated by graphviz version 2.40.1 (20161225.0304)\n -->\n<!-- Title: Tree Pages: 1 -->\n<svg width=\"1008pt\" height=\"974pt\"\n viewBox=\"0.00 0.00 1008.00 973.89\" xmlns=\"http://www.w3.org/2000/svg\" xmlns:xlink=\"http://www.w3.org/1999/xlink\">\n<g id=\"graph0\" class=\"graph\" transform=\"scale(.9474 .9474) rotate(0) translate(4 1024)\">\n<title>Tree</title>\n<polygon fill=\"#ffffff\" stroke=\"transparent\" points=\"-4,4 -4,-1024 1060,-1024 1060,4 -4,4\"/>\n<!-- 0 -->\n<g id=\"node1\" class=\"node\">\n<title>0</title>\n<path fill=\"#7bbeee\" stroke=\"#000000\" d=\"M584,-1020C584,-1020 477,-1020 477,-1020 471,-1020 465,-1014 465,-1008 465,-1008 465,-949 465,-949 465,-943 471,-937 477,-937 477,-937 584,-937 584,-937 590,-937 596,-943 596,-949 596,-949 596,-1008 596,-1008 596,-1014 590,-1020 584,-1020\"/>\n<text text-anchor=\"middle\" x=\"530.5\" y=\"-1004.8\" font-family=\"Helvetica,sans-Serif\" font-size=\"14.00\" fill=\"#000000\">SSH &lt;= 0.0</text>\n<text text-anchor=\"middle\" x=\"530.5\" y=\"-989.8\" font-family=\"Helvetica,sans-Serif\" font-size=\"14.00\" fill=\"#000000\">gini = 0.375</text>\n<text text-anchor=\"middle\" x=\"530.5\" y=\"-974.8\" font-family=\"Helvetica,sans-Serif\" font-size=\"14.00\" fill=\"#000000\">samples = 48</text>\n<text text-anchor=\"middle\" x=\"530.5\" y=\"-959.8\" font-family=\"Helvetica,sans-Serif\" font-size=\"14.00\" fill=\"#000000\">value = [12, 36]</text>\n<text text-anchor=\"middle\" x=\"530.5\" y=\"-944.8\" font-family=\"Helvetica,sans-Serif\" font-size=\"14.00\" fill=\"#000000\">class = no_bloom</text>\n</g>\n<!-- 1 -->\n<g id=\"node2\" class=\"node\">\n<title>1</title>\n<path fill=\"#399de5\" stroke=\"#000000\" d=\"M510,-893.5C510,-893.5 403,-893.5 403,-893.5 397,-893.5 391,-887.5 391,-881.5 391,-881.5 391,-837.5 391,-837.5 391,-831.5 397,-825.5 403,-825.5 403,-825.5 510,-825.5 510,-825.5 516,-825.5 522,-831.5 522,-837.5 522,-837.5 522,-881.5 522,-881.5 522,-887.5 516,-893.5 510,-893.5\"/>\n<text text-anchor=\"middle\" x=\"456.5\" y=\"-878.3\" font-family=\"Helvetica,sans-Serif\" font-size=\"14.00\" fill=\"#000000\">gini = 0.0</text>\n<text text-anchor=\"middle\" x=\"456.5\" y=\"-863.3\" font-family=\"Helvetica,sans-Serif\" font-size=\"14.00\" fill=\"#000000\">samples = 15</text>\n<text text-anchor=\"middle\" x=\"456.5\" y=\"-848.3\" font-family=\"Helvetica,sans-Serif\" font-size=\"14.00\" fill=\"#000000\">value = [0, 15]</text>\n<text text-anchor=\"middle\" x=\"456.5\" y=\"-833.3\" font-family=\"Helvetica,sans-Serif\" font-size=\"14.00\" fill=\"#000000\">class = no_bloom</text>\n</g>\n<!-- 0&#45;&gt;1 -->\n<g id=\"edge1\" class=\"edge\">\n<title>0&#45;&gt;1</title>\n<path fill=\"none\" stroke=\"#000000\" d=\"M504.6184,-936.8796C497.7121,-925.7735 490.2361,-913.7513 483.2825,-902.5691\"/>\n<polygon fill=\"#000000\" stroke=\"#000000\" points=\"486.0917,-900.4587 477.8387,-893.8149 480.1473,-904.1552 486.0917,-900.4587\"/>\n<text text-anchor=\"middle\" x=\"472.1619\" y=\"-914.4619\" font-family=\"Helvetica,sans-Serif\" font-size=\"14.00\" fill=\"#000000\">True</text>\n</g>\n<!-- 2 -->\n<g id=\"node3\" class=\"node\">\n<title>2</title>\n<path fill=\"#aad5f4\" stroke=\"#000000\" d=\"M659,-901C659,-901 552,-901 552,-901 546,-901 540,-895 540,-889 540,-889 540,-830 540,-830 540,-824 546,-818 552,-818 552,-818 659,-818 659,-818 665,-818 671,-824 671,-830 671,-830 671,-889 671,-889 671,-895 665,-901 659,-901\"/>\n<text text-anchor=\"middle\" x=\"605.5\" y=\"-885.8\" font-family=\"Helvetica,sans-Serif\" font-size=\"14.00\" fill=\"#000000\">wind_as &lt;= &#45;0.5</text>\n<text text-anchor=\"middle\" x=\"605.5\" y=\"-870.8\" font-family=\"Helvetica,sans-Serif\" font-size=\"14.00\" fill=\"#000000\">gini = 0.463</text>\n<text text-anchor=\"middle\" x=\"605.5\" y=\"-855.8\" font-family=\"Helvetica,sans-Serif\" font-size=\"14.00\" fill=\"#000000\">samples = 33</text>\n<text text-anchor=\"middle\" x=\"605.5\" y=\"-840.8\" font-family=\"Helvetica,sans-Serif\" font-size=\"14.00\" fill=\"#000000\">value = [12, 21]</text>\n<text text-anchor=\"middle\" x=\"605.5\" y=\"-825.8\" font-family=\"Helvetica,sans-Serif\" font-size=\"14.00\" fill=\"#000000\">class = no_bloom</text>\n</g>\n<!-- 0&#45;&gt;2 -->\n<g id=\"edge2\" class=\"edge\">\n<title>0&#45;&gt;2</title>\n<path fill=\"none\" stroke=\"#000000\" d=\"M556.7314,-936.8796C562.2373,-928.1434 568.1006,-918.8404 573.7824,-909.8253\"/>\n<polygon fill=\"#000000\" stroke=\"#000000\" points=\"576.7857,-911.6242 579.1567,-901.2981 570.8637,-907.8919 576.7857,-911.6242\"/>\n<text text-anchor=\"middle\" x=\"584.6863\" y=\"-921.9789\" font-family=\"Helvetica,sans-Serif\" font-size=\"14.00\" fill=\"#000000\">False</text>\n</g>\n<!-- 3 -->\n<g id=\"node4\" class=\"node\">\n<title>3</title>\n<path fill=\"#edf6fd\" stroke=\"#000000\" d=\"M581,-782C581,-782 474,-782 474,-782 468,-782 462,-776 462,-770 462,-770 462,-711 462,-711 462,-705 468,-699 474,-699 474,-699 581,-699 581,-699 587,-699 593,-705 593,-711 593,-711 593,-770 593,-770 593,-776 587,-782 581,-782\"/>\n<text text-anchor=\"middle\" x=\"527.5\" y=\"-766.8\" font-family=\"Helvetica,sans-Serif\" font-size=\"14.00\" fill=\"#000000\">season &lt;= 1.5</text>\n<text text-anchor=\"middle\" x=\"527.5\" y=\"-751.8\" font-family=\"Helvetica,sans-Serif\" font-size=\"14.00\" fill=\"#000000\">gini = 0.499</text>\n<text text-anchor=\"middle\" x=\"527.5\" y=\"-736.8\" font-family=\"Helvetica,sans-Serif\" font-size=\"14.00\" fill=\"#000000\">samples = 21</text>\n<text text-anchor=\"middle\" x=\"527.5\" y=\"-721.8\" font-family=\"Helvetica,sans-Serif\" font-size=\"14.00\" fill=\"#000000\">value = [10, 11]</text>\n<text text-anchor=\"middle\" x=\"527.5\" y=\"-706.8\" font-family=\"Helvetica,sans-Serif\" font-size=\"14.00\" fill=\"#000000\">class = no_bloom</text>\n</g>\n<!-- 2&#45;&gt;3 -->\n<g id=\"edge3\" class=\"edge\">\n<title>2&#45;&gt;3</title>\n<path fill=\"none\" stroke=\"#000000\" d=\"M578.2194,-817.8796C572.4932,-809.1434 566.3954,-799.8404 560.4863,-790.8253\"/>\n<polygon fill=\"#000000\" stroke=\"#000000\" points=\"563.3063,-788.7429 554.8971,-782.2981 557.4518,-792.5803 563.3063,-788.7429\"/>\n</g>\n<!-- 24 -->\n<g id=\"node25\" class=\"node\">\n<title>24</title>\n<path fill=\"#61b1ea\" stroke=\"#000000\" d=\"M738,-782C738,-782 631,-782 631,-782 625,-782 619,-776 619,-770 619,-770 619,-711 619,-711 619,-705 625,-699 631,-699 631,-699 738,-699 738,-699 744,-699 750,-705 750,-711 750,-711 750,-770 750,-770 750,-776 744,-782 738,-782\"/>\n<text text-anchor=\"middle\" x=\"684.5\" y=\"-766.8\" font-family=\"Helvetica,sans-Serif\" font-size=\"14.00\" fill=\"#000000\">wind_os &lt;= &#45;0.5</text>\n<text text-anchor=\"middle\" x=\"684.5\" y=\"-751.8\" font-family=\"Helvetica,sans-Serif\" font-size=\"14.00\" fill=\"#000000\">gini = 0.278</text>\n<text text-anchor=\"middle\" x=\"684.5\" y=\"-736.8\" font-family=\"Helvetica,sans-Serif\" font-size=\"14.00\" fill=\"#000000\">samples = 12</text>\n<text text-anchor=\"middle\" x=\"684.5\" y=\"-721.8\" font-family=\"Helvetica,sans-Serif\" font-size=\"14.00\" fill=\"#000000\">value = [2, 10]</text>\n<text text-anchor=\"middle\" x=\"684.5\" y=\"-706.8\" font-family=\"Helvetica,sans-Serif\" font-size=\"14.00\" fill=\"#000000\">class = no_bloom</text>\n</g>\n<!-- 2&#45;&gt;24 -->\n<g id=\"edge24\" class=\"edge\">\n<title>2&#45;&gt;24</title>\n<path fill=\"none\" stroke=\"#000000\" d=\"M633.1304,-817.8796C638.93,-809.1434 645.1059,-799.8404 651.0908,-790.8253\"/>\n<polygon fill=\"#000000\" stroke=\"#000000\" points=\"654.1368,-792.5652 656.7517,-782.2981 648.3049,-788.6935 654.1368,-792.5652\"/>\n</g>\n<!-- 4 -->\n<g id=\"node5\" class=\"node\">\n<title>4</title>\n<path fill=\"#eeab7b\" stroke=\"#000000\" d=\"M431.5,-663C431.5,-663 309.5,-663 309.5,-663 303.5,-663 297.5,-657 297.5,-651 297.5,-651 297.5,-592 297.5,-592 297.5,-586 303.5,-580 309.5,-580 309.5,-580 431.5,-580 431.5,-580 437.5,-580 443.5,-586 443.5,-592 443.5,-592 443.5,-651 443.5,-651 443.5,-657 437.5,-663 431.5,-663\"/>\n<text text-anchor=\"middle\" x=\"370.5\" y=\"-647.8\" font-family=\"Helvetica,sans-Serif\" font-size=\"14.00\" fill=\"#000000\">river_pc &lt;= 0.0</text>\n<text text-anchor=\"middle\" x=\"370.5\" y=\"-632.8\" font-family=\"Helvetica,sans-Serif\" font-size=\"14.00\" fill=\"#000000\">gini = 0.375</text>\n<text text-anchor=\"middle\" x=\"370.5\" y=\"-617.8\" font-family=\"Helvetica,sans-Serif\" font-size=\"14.00\" fill=\"#000000\">samples = 4</text>\n<text text-anchor=\"middle\" x=\"370.5\" y=\"-602.8\" font-family=\"Helvetica,sans-Serif\" font-size=\"14.00\" fill=\"#000000\">value = [3, 1]</text>\n<text text-anchor=\"middle\" x=\"370.5\" y=\"-587.8\" font-family=\"Helvetica,sans-Serif\" font-size=\"14.00\" fill=\"#000000\">class = large_bloom</text>\n</g>\n<!-- 3&#45;&gt;4 -->\n<g id=\"edge4\" class=\"edge\">\n<title>3&#45;&gt;4</title>\n<path fill=\"none\" stroke=\"#000000\" d=\"M472.589,-698.8796C459.9206,-689.2774 446.3485,-678.9903 433.3705,-669.1534\"/>\n<polygon fill=\"#000000\" stroke=\"#000000\" points=\"435.4636,-666.3482 425.38,-663.0969 431.2352,-671.9268 435.4636,-666.3482\"/>\n</g>\n<!-- 7 -->\n<g id=\"node8\" class=\"node\">\n<title>7</title>\n<path fill=\"#c4e2f7\" stroke=\"#000000\" d=\"M581,-663C581,-663 474,-663 474,-663 468,-663 462,-657 462,-651 462,-651 462,-592 462,-592 462,-586 468,-580 474,-580 474,-580 581,-580 581,-580 587,-580 593,-586 593,-592 593,-592 593,-651 593,-651 593,-657 587,-663 581,-663\"/>\n<text text-anchor=\"middle\" x=\"527.5\" y=\"-647.8\" font-family=\"Helvetica,sans-Serif\" font-size=\"14.00\" fill=\"#000000\">season &lt;= 3.5</text>\n<text text-anchor=\"middle\" x=\"527.5\" y=\"-632.8\" font-family=\"Helvetica,sans-Serif\" font-size=\"14.00\" fill=\"#000000\">gini = 0.484</text>\n<text text-anchor=\"middle\" x=\"527.5\" y=\"-617.8\" font-family=\"Helvetica,sans-Serif\" font-size=\"14.00\" fill=\"#000000\">samples = 17</text>\n<text text-anchor=\"middle\" x=\"527.5\" y=\"-602.8\" font-family=\"Helvetica,sans-Serif\" font-size=\"14.00\" fill=\"#000000\">value = [7, 10]</text>\n<text text-anchor=\"middle\" x=\"527.5\" y=\"-587.8\" font-family=\"Helvetica,sans-Serif\" font-size=\"14.00\" fill=\"#000000\">class = no_bloom</text>\n</g>\n<!-- 3&#45;&gt;7 -->\n<g id=\"edge7\" class=\"edge\">\n<title>3&#45;&gt;7</title>\n<path fill=\"none\" stroke=\"#000000\" d=\"M527.5,-698.8796C527.5,-690.6838 527.5,-681.9891 527.5,-673.5013\"/>\n<polygon fill=\"#000000\" stroke=\"#000000\" points=\"531.0001,-673.298 527.5,-663.2981 524.0001,-673.2981 531.0001,-673.298\"/>\n</g>\n<!-- 5 -->\n<g id=\"node6\" class=\"node\">\n<title>5</title>\n<path fill=\"#e58139\" stroke=\"#000000\" d=\"M267.5,-536.5C267.5,-536.5 145.5,-536.5 145.5,-536.5 139.5,-536.5 133.5,-530.5 133.5,-524.5 133.5,-524.5 133.5,-480.5 133.5,-480.5 133.5,-474.5 139.5,-468.5 145.5,-468.5 145.5,-468.5 267.5,-468.5 267.5,-468.5 273.5,-468.5 279.5,-474.5 279.5,-480.5 279.5,-480.5 279.5,-524.5 279.5,-524.5 279.5,-530.5 273.5,-536.5 267.5,-536.5\"/>\n<text text-anchor=\"middle\" x=\"206.5\" y=\"-521.3\" font-family=\"Helvetica,sans-Serif\" font-size=\"14.00\" fill=\"#000000\">gini = 0.0</text>\n<text text-anchor=\"middle\" x=\"206.5\" y=\"-506.3\" font-family=\"Helvetica,sans-Serif\" font-size=\"14.00\" fill=\"#000000\">samples = 2</text>\n<text text-anchor=\"middle\" x=\"206.5\" y=\"-491.3\" font-family=\"Helvetica,sans-Serif\" font-size=\"14.00\" fill=\"#000000\">value = [2, 0]</text>\n<text text-anchor=\"middle\" x=\"206.5\" y=\"-476.3\" font-family=\"Helvetica,sans-Serif\" font-size=\"14.00\" fill=\"#000000\">class = large_bloom</text>\n</g>\n<!-- 4&#45;&gt;5 -->\n<g id=\"edge5\" class=\"edge\">\n<title>4&#45;&gt;5</title>\n<path fill=\"none\" stroke=\"#000000\" d=\"M313.1408,-579.8796C296.5439,-567.8368 278.4625,-554.7167 261.9824,-542.7586\"/>\n<polygon fill=\"#000000\" stroke=\"#000000\" points=\"263.676,-539.6632 253.5267,-536.623 259.5649,-545.3288 263.676,-539.6632\"/>\n</g>\n<!-- 6 -->\n<g id=\"node7\" class=\"node\">\n<title>6</title>\n<path fill=\"#ffffff\" stroke=\"#000000\" d=\"M431.5,-536.5C431.5,-536.5 309.5,-536.5 309.5,-536.5 303.5,-536.5 297.5,-530.5 297.5,-524.5 297.5,-524.5 297.5,-480.5 297.5,-480.5 297.5,-474.5 303.5,-468.5 309.5,-468.5 309.5,-468.5 431.5,-468.5 431.5,-468.5 437.5,-468.5 443.5,-474.5 443.5,-480.5 443.5,-480.5 443.5,-524.5 443.5,-524.5 443.5,-530.5 437.5,-536.5 431.5,-536.5\"/>\n<text text-anchor=\"middle\" x=\"370.5\" y=\"-521.3\" font-family=\"Helvetica,sans-Serif\" font-size=\"14.00\" fill=\"#000000\">gini = 0.5</text>\n<text text-anchor=\"middle\" x=\"370.5\" y=\"-506.3\" font-family=\"Helvetica,sans-Serif\" font-size=\"14.00\" fill=\"#000000\">samples = 2</text>\n<text text-anchor=\"middle\" x=\"370.5\" y=\"-491.3\" font-family=\"Helvetica,sans-Serif\" font-size=\"14.00\" fill=\"#000000\">value = [1, 1]</text>\n<text text-anchor=\"middle\" x=\"370.5\" y=\"-476.3\" font-family=\"Helvetica,sans-Serif\" font-size=\"14.00\" fill=\"#000000\">class = large_bloom</text>\n</g>\n<!-- 4&#45;&gt;6 -->\n<g id=\"edge6\" class=\"edge\">\n<title>4&#45;&gt;6</title>\n<path fill=\"none\" stroke=\"#000000\" d=\"M370.5,-579.8796C370.5,-569.2134 370.5,-557.7021 370.5,-546.9015\"/>\n<polygon fill=\"#000000\" stroke=\"#000000\" points=\"374.0001,-546.8149 370.5,-536.8149 367.0001,-546.815 374.0001,-546.8149\"/>\n</g>\n<!-- 8 -->\n<g id=\"node9\" class=\"node\">\n<title>8</title>\n<path fill=\"#a7d3f3\" stroke=\"#000000\" d=\"M581,-544C581,-544 474,-544 474,-544 468,-544 462,-538 462,-532 462,-532 462,-473 462,-473 462,-467 468,-461 474,-461 474,-461 581,-461 581,-461 587,-461 593,-467 593,-473 593,-473 593,-532 593,-532 593,-538 587,-544 581,-544\"/>\n<text text-anchor=\"middle\" x=\"527.5\" y=\"-528.8\" font-family=\"Helvetica,sans-Serif\" font-size=\"14.00\" fill=\"#000000\">river_pc &lt;= 0.0</text>\n<text text-anchor=\"middle\" x=\"527.5\" y=\"-513.8\" font-family=\"Helvetica,sans-Serif\" font-size=\"14.00\" fill=\"#000000\">gini = 0.459</text>\n<text text-anchor=\"middle\" x=\"527.5\" y=\"-498.8\" font-family=\"Helvetica,sans-Serif\" font-size=\"14.00\" fill=\"#000000\">samples = 14</text>\n<text text-anchor=\"middle\" x=\"527.5\" y=\"-483.8\" font-family=\"Helvetica,sans-Serif\" font-size=\"14.00\" fill=\"#000000\">value = [5, 9]</text>\n<text text-anchor=\"middle\" x=\"527.5\" y=\"-468.8\" font-family=\"Helvetica,sans-Serif\" font-size=\"14.00\" fill=\"#000000\">class = no_bloom</text>\n</g>\n<!-- 7&#45;&gt;8 -->\n<g id=\"edge8\" class=\"edge\">\n<title>7&#45;&gt;8</title>\n<path fill=\"none\" stroke=\"#000000\" d=\"M527.5,-579.8796C527.5,-571.6838 527.5,-562.9891 527.5,-554.5013\"/>\n<polygon fill=\"#000000\" stroke=\"#000000\" points=\"531.0001,-554.298 527.5,-544.2981 524.0001,-554.2981 531.0001,-554.298\"/>\n</g>\n<!-- 21 -->\n<g id=\"node22\" class=\"node\">\n<title>21</title>\n<path fill=\"#f2c09c\" stroke=\"#000000\" d=\"M745.5,-544C745.5,-544 623.5,-544 623.5,-544 617.5,-544 611.5,-538 611.5,-532 611.5,-532 611.5,-473 611.5,-473 611.5,-467 617.5,-461 623.5,-461 623.5,-461 745.5,-461 745.5,-461 751.5,-461 757.5,-467 757.5,-473 757.5,-473 757.5,-532 757.5,-532 757.5,-538 751.5,-544 745.5,-544\"/>\n<text text-anchor=\"middle\" x=\"684.5\" y=\"-528.8\" font-family=\"Helvetica,sans-Serif\" font-size=\"14.00\" fill=\"#000000\">wind_os &lt;= 0.0</text>\n<text text-anchor=\"middle\" x=\"684.5\" y=\"-513.8\" font-family=\"Helvetica,sans-Serif\" font-size=\"14.00\" fill=\"#000000\">gini = 0.444</text>\n<text text-anchor=\"middle\" x=\"684.5\" y=\"-498.8\" font-family=\"Helvetica,sans-Serif\" font-size=\"14.00\" fill=\"#000000\">samples = 3</text>\n<text text-anchor=\"middle\" x=\"684.5\" y=\"-483.8\" font-family=\"Helvetica,sans-Serif\" font-size=\"14.00\" fill=\"#000000\">value = [2, 1]</text>\n<text text-anchor=\"middle\" x=\"684.5\" y=\"-468.8\" font-family=\"Helvetica,sans-Serif\" font-size=\"14.00\" fill=\"#000000\">class = large_bloom</text>\n</g>\n<!-- 7&#45;&gt;21 -->\n<g id=\"edge21\" class=\"edge\">\n<title>7&#45;&gt;21</title>\n<path fill=\"none\" stroke=\"#000000\" d=\"M582.411,-579.8796C595.0794,-570.2774 608.6515,-559.9903 621.6295,-550.1534\"/>\n<polygon fill=\"#000000\" stroke=\"#000000\" points=\"623.7648,-552.9268 629.62,-544.0969 619.5364,-547.3482 623.7648,-552.9268\"/>\n</g>\n<!-- 9 -->\n<g id=\"node10\" class=\"node\">\n<title>9</title>\n<path fill=\"#c6e3f8\" stroke=\"#000000\" d=\"M432,-425C432,-425 325,-425 325,-425 319,-425 313,-419 313,-413 313,-413 313,-354 313,-354 313,-348 319,-342 325,-342 325,-342 432,-342 432,-342 438,-342 444,-348 444,-354 444,-354 444,-413 444,-413 444,-419 438,-425 432,-425\"/>\n<text text-anchor=\"middle\" x=\"378.5\" y=\"-409.8\" font-family=\"Helvetica,sans-Serif\" font-size=\"14.00\" fill=\"#000000\">wind_os &lt;= 0.5</text>\n<text text-anchor=\"middle\" x=\"378.5\" y=\"-394.8\" font-family=\"Helvetica,sans-Serif\" font-size=\"14.00\" fill=\"#000000\">gini = 0.486</text>\n<text text-anchor=\"middle\" x=\"378.5\" y=\"-379.8\" font-family=\"Helvetica,sans-Serif\" font-size=\"14.00\" fill=\"#000000\">samples = 12</text>\n<text text-anchor=\"middle\" x=\"378.5\" y=\"-364.8\" font-family=\"Helvetica,sans-Serif\" font-size=\"14.00\" fill=\"#000000\">value = [5, 7]</text>\n<text text-anchor=\"middle\" x=\"378.5\" y=\"-349.8\" font-family=\"Helvetica,sans-Serif\" font-size=\"14.00\" fill=\"#000000\">class = no_bloom</text>\n</g>\n<!-- 8&#45;&gt;9 -->\n<g id=\"edge9\" class=\"edge\">\n<title>8&#45;&gt;9</title>\n<path fill=\"none\" stroke=\"#000000\" d=\"M475.387,-460.8796C463.4775,-451.368 450.7266,-441.1843 438.5156,-431.432\"/>\n<polygon fill=\"#000000\" stroke=\"#000000\" points=\"440.5816,-428.6027 430.5835,-425.0969 436.2132,-434.0724 440.5816,-428.6027\"/>\n</g>\n<!-- 20 -->\n<g id=\"node21\" class=\"node\">\n<title>20</title>\n<path fill=\"#399de5\" stroke=\"#000000\" d=\"M581,-417.5C581,-417.5 474,-417.5 474,-417.5 468,-417.5 462,-411.5 462,-405.5 462,-405.5 462,-361.5 462,-361.5 462,-355.5 468,-349.5 474,-349.5 474,-349.5 581,-349.5 581,-349.5 587,-349.5 593,-355.5 593,-361.5 593,-361.5 593,-405.5 593,-405.5 593,-411.5 587,-417.5 581,-417.5\"/>\n<text text-anchor=\"middle\" x=\"527.5\" y=\"-402.3\" font-family=\"Helvetica,sans-Serif\" font-size=\"14.00\" fill=\"#000000\">gini = 0.0</text>\n<text text-anchor=\"middle\" x=\"527.5\" y=\"-387.3\" font-family=\"Helvetica,sans-Serif\" font-size=\"14.00\" fill=\"#000000\">samples = 2</text>\n<text text-anchor=\"middle\" x=\"527.5\" y=\"-372.3\" font-family=\"Helvetica,sans-Serif\" font-size=\"14.00\" fill=\"#000000\">value = [0, 2]</text>\n<text text-anchor=\"middle\" x=\"527.5\" y=\"-357.3\" font-family=\"Helvetica,sans-Serif\" font-size=\"14.00\" fill=\"#000000\">class = no_bloom</text>\n</g>\n<!-- 8&#45;&gt;20 -->\n<g id=\"edge20\" class=\"edge\">\n<title>8&#45;&gt;20</title>\n<path fill=\"none\" stroke=\"#000000\" d=\"M527.5,-460.8796C527.5,-450.2134 527.5,-438.7021 527.5,-427.9015\"/>\n<polygon fill=\"#000000\" stroke=\"#000000\" points=\"531.0001,-427.8149 527.5,-417.8149 524.0001,-427.815 531.0001,-427.8149\"/>\n</g>\n<!-- 10 -->\n<g id=\"node11\" class=\"node\">\n<title>10</title>\n<path fill=\"#f6d5bd\" stroke=\"#000000\" d=\"M361.5,-306C361.5,-306 239.5,-306 239.5,-306 233.5,-306 227.5,-300 227.5,-294 227.5,-294 227.5,-235 227.5,-235 227.5,-229 233.5,-223 239.5,-223 239.5,-223 361.5,-223 361.5,-223 367.5,-223 373.5,-229 373.5,-235 373.5,-235 373.5,-294 373.5,-294 373.5,-300 367.5,-306 361.5,-306\"/>\n<text text-anchor=\"middle\" x=\"300.5\" y=\"-290.8\" font-family=\"Helvetica,sans-Serif\" font-size=\"14.00\" fill=\"#000000\">wind_os &lt;= &#45;0.5</text>\n<text text-anchor=\"middle\" x=\"300.5\" y=\"-275.8\" font-family=\"Helvetica,sans-Serif\" font-size=\"14.00\" fill=\"#000000\">gini = 0.48</text>\n<text text-anchor=\"middle\" x=\"300.5\" y=\"-260.8\" font-family=\"Helvetica,sans-Serif\" font-size=\"14.00\" fill=\"#000000\">samples = 5</text>\n<text text-anchor=\"middle\" x=\"300.5\" y=\"-245.8\" font-family=\"Helvetica,sans-Serif\" font-size=\"14.00\" fill=\"#000000\">value = [3, 2]</text>\n<text text-anchor=\"middle\" x=\"300.5\" y=\"-230.8\" font-family=\"Helvetica,sans-Serif\" font-size=\"14.00\" fill=\"#000000\">class = large_bloom</text>\n</g>\n<!-- 9&#45;&gt;10 -->\n<g id=\"edge10\" class=\"edge\">\n<title>9&#45;&gt;10</title>\n<path fill=\"none\" stroke=\"#000000\" d=\"M351.2194,-341.8796C345.4932,-333.1434 339.3954,-323.8404 333.4863,-314.8253\"/>\n<polygon fill=\"#000000\" stroke=\"#000000\" points=\"336.3063,-312.7429 327.8971,-306.2981 330.4518,-316.5803 336.3063,-312.7429\"/>\n</g>\n<!-- 15 -->\n<g id=\"node16\" class=\"node\">\n<title>15</title>\n<path fill=\"#88c4ef\" stroke=\"#000000\" d=\"M511,-306C511,-306 404,-306 404,-306 398,-306 392,-300 392,-294 392,-294 392,-235 392,-235 392,-229 398,-223 404,-223 404,-223 511,-223 511,-223 517,-223 523,-229 523,-235 523,-235 523,-294 523,-294 523,-300 517,-306 511,-306\"/>\n<text text-anchor=\"middle\" x=\"457.5\" y=\"-290.8\" font-family=\"Helvetica,sans-Serif\" font-size=\"14.00\" fill=\"#000000\">river_ch &lt;= 0.0</text>\n<text text-anchor=\"middle\" x=\"457.5\" y=\"-275.8\" font-family=\"Helvetica,sans-Serif\" font-size=\"14.00\" fill=\"#000000\">gini = 0.408</text>\n<text text-anchor=\"middle\" x=\"457.5\" y=\"-260.8\" font-family=\"Helvetica,sans-Serif\" font-size=\"14.00\" fill=\"#000000\">samples = 7</text>\n<text text-anchor=\"middle\" x=\"457.5\" y=\"-245.8\" font-family=\"Helvetica,sans-Serif\" font-size=\"14.00\" fill=\"#000000\">value = [2, 5]</text>\n<text text-anchor=\"middle\" x=\"457.5\" y=\"-230.8\" font-family=\"Helvetica,sans-Serif\" font-size=\"14.00\" fill=\"#000000\">class = no_bloom</text>\n</g>\n<!-- 9&#45;&gt;15 -->\n<g id=\"edge15\" class=\"edge\">\n<title>9&#45;&gt;15</title>\n<path fill=\"none\" stroke=\"#000000\" d=\"M406.1304,-341.8796C411.93,-333.1434 418.1059,-323.8404 424.0908,-314.8253\"/>\n<polygon fill=\"#000000\" stroke=\"#000000\" points=\"427.1368,-316.5652 429.7517,-306.2981 421.3049,-312.6935 427.1368,-316.5652\"/>\n</g>\n<!-- 11 -->\n<g id=\"node12\" class=\"node\">\n<title>11</title>\n<path fill=\"#ffffff\" stroke=\"#000000\" d=\"M197.5,-187C197.5,-187 75.5,-187 75.5,-187 69.5,-187 63.5,-181 63.5,-175 63.5,-175 63.5,-116 63.5,-116 63.5,-110 69.5,-104 75.5,-104 75.5,-104 197.5,-104 197.5,-104 203.5,-104 209.5,-110 209.5,-116 209.5,-116 209.5,-175 209.5,-175 209.5,-181 203.5,-187 197.5,-187\"/>\n<text text-anchor=\"middle\" x=\"136.5\" y=\"-171.8\" font-family=\"Helvetica,sans-Serif\" font-size=\"14.00\" fill=\"#000000\">river_ch &lt;= 0.0</text>\n<text text-anchor=\"middle\" x=\"136.5\" y=\"-156.8\" font-family=\"Helvetica,sans-Serif\" font-size=\"14.00\" fill=\"#000000\">gini = 0.5</text>\n<text text-anchor=\"middle\" x=\"136.5\" y=\"-141.8\" font-family=\"Helvetica,sans-Serif\" font-size=\"14.00\" fill=\"#000000\">samples = 4</text>\n<text text-anchor=\"middle\" x=\"136.5\" y=\"-126.8\" font-family=\"Helvetica,sans-Serif\" font-size=\"14.00\" fill=\"#000000\">value = [2, 2]</text>\n<text text-anchor=\"middle\" x=\"136.5\" y=\"-111.8\" font-family=\"Helvetica,sans-Serif\" font-size=\"14.00\" fill=\"#000000\">class = large_bloom</text>\n</g>\n<!-- 10&#45;&gt;11 -->\n<g id=\"edge11\" class=\"edge\">\n<title>10&#45;&gt;11</title>\n<path fill=\"none\" stroke=\"#000000\" d=\"M243.1408,-222.8796C229.9075,-213.2774 215.7303,-202.9903 202.1736,-193.1534\"/>\n<polygon fill=\"#000000\" stroke=\"#000000\" points=\"203.9762,-190.1371 193.8269,-187.0969 199.8651,-195.8027 203.9762,-190.1371\"/>\n</g>\n<!-- 14 -->\n<g id=\"node15\" class=\"node\">\n<title>14</title>\n<path fill=\"#e58139\" stroke=\"#000000\" d=\"M361.5,-179.5C361.5,-179.5 239.5,-179.5 239.5,-179.5 233.5,-179.5 227.5,-173.5 227.5,-167.5 227.5,-167.5 227.5,-123.5 227.5,-123.5 227.5,-117.5 233.5,-111.5 239.5,-111.5 239.5,-111.5 361.5,-111.5 361.5,-111.5 367.5,-111.5 373.5,-117.5 373.5,-123.5 373.5,-123.5 373.5,-167.5 373.5,-167.5 373.5,-173.5 367.5,-179.5 361.5,-179.5\"/>\n<text text-anchor=\"middle\" x=\"300.5\" y=\"-164.3\" font-family=\"Helvetica,sans-Serif\" font-size=\"14.00\" fill=\"#000000\">gini = 0.0</text>\n<text text-anchor=\"middle\" x=\"300.5\" y=\"-149.3\" font-family=\"Helvetica,sans-Serif\" font-size=\"14.00\" fill=\"#000000\">samples = 1</text>\n<text text-anchor=\"middle\" x=\"300.5\" y=\"-134.3\" font-family=\"Helvetica,sans-Serif\" font-size=\"14.00\" fill=\"#000000\">value = [1, 0]</text>\n<text text-anchor=\"middle\" x=\"300.5\" y=\"-119.3\" font-family=\"Helvetica,sans-Serif\" font-size=\"14.00\" fill=\"#000000\">class = large_bloom</text>\n</g>\n<!-- 10&#45;&gt;14 -->\n<g id=\"edge14\" class=\"edge\">\n<title>10&#45;&gt;14</title>\n<path fill=\"none\" stroke=\"#000000\" d=\"M300.5,-222.8796C300.5,-212.2134 300.5,-200.7021 300.5,-189.9015\"/>\n<polygon fill=\"#000000\" stroke=\"#000000\" points=\"304.0001,-189.8149 300.5,-179.8149 297.0001,-189.815 304.0001,-189.8149\"/>\n</g>\n<!-- 12 -->\n<g id=\"node13\" class=\"node\">\n<title>12</title>\n<path fill=\"#9ccef2\" stroke=\"#000000\" d=\"M119,-68C119,-68 12,-68 12,-68 6,-68 0,-62 0,-56 0,-56 0,-12 0,-12 0,-6 6,0 12,0 12,0 119,0 119,0 125,0 131,-6 131,-12 131,-12 131,-56 131,-56 131,-62 125,-68 119,-68\"/>\n<text text-anchor=\"middle\" x=\"65.5\" y=\"-52.8\" font-family=\"Helvetica,sans-Serif\" font-size=\"14.00\" fill=\"#000000\">gini = 0.444</text>\n<text text-anchor=\"middle\" x=\"65.5\" y=\"-37.8\" font-family=\"Helvetica,sans-Serif\" font-size=\"14.00\" fill=\"#000000\">samples = 3</text>\n<text text-anchor=\"middle\" x=\"65.5\" y=\"-22.8\" font-family=\"Helvetica,sans-Serif\" font-size=\"14.00\" fill=\"#000000\">value = [1, 2]</text>\n<text text-anchor=\"middle\" x=\"65.5\" y=\"-7.8\" font-family=\"Helvetica,sans-Serif\" font-size=\"14.00\" fill=\"#000000\">class = no_bloom</text>\n</g>\n<!-- 11&#45;&gt;12 -->\n<g id=\"edge12\" class=\"edge\">\n<title>11&#45;&gt;12</title>\n<path fill=\"none\" stroke=\"#000000\" d=\"M110.0622,-103.9815C104.444,-95.1585 98.5012,-85.8258 92.8497,-76.9506\"/>\n<polygon fill=\"#000000\" stroke=\"#000000\" points=\"95.6416,-74.8188 87.3181,-68.2637 89.7371,-78.5787 95.6416,-74.8188\"/>\n</g>\n<!-- 13 -->\n<g id=\"node14\" class=\"node\">\n<title>13</title>\n<path fill=\"#e58139\" stroke=\"#000000\" d=\"M283.5,-68C283.5,-68 161.5,-68 161.5,-68 155.5,-68 149.5,-62 149.5,-56 149.5,-56 149.5,-12 149.5,-12 149.5,-6 155.5,0 161.5,0 161.5,0 283.5,0 283.5,0 289.5,0 295.5,-6 295.5,-12 295.5,-12 295.5,-56 295.5,-56 295.5,-62 289.5,-68 283.5,-68\"/>\n<text text-anchor=\"middle\" x=\"222.5\" y=\"-52.8\" font-family=\"Helvetica,sans-Serif\" font-size=\"14.00\" fill=\"#000000\">gini = 0.0</text>\n<text text-anchor=\"middle\" x=\"222.5\" y=\"-37.8\" font-family=\"Helvetica,sans-Serif\" font-size=\"14.00\" fill=\"#000000\">samples = 1</text>\n<text text-anchor=\"middle\" x=\"222.5\" y=\"-22.8\" font-family=\"Helvetica,sans-Serif\" font-size=\"14.00\" fill=\"#000000\">value = [1, 0]</text>\n<text text-anchor=\"middle\" x=\"222.5\" y=\"-7.8\" font-family=\"Helvetica,sans-Serif\" font-size=\"14.00\" fill=\"#000000\">class = large_bloom</text>\n</g>\n<!-- 11&#45;&gt;13 -->\n<g id=\"edge13\" class=\"edge\">\n<title>11&#45;&gt;13</title>\n<path fill=\"none\" stroke=\"#000000\" d=\"M168.5232,-103.9815C175.4702,-94.9747 182.8269,-85.4367 189.7996,-76.3965\"/>\n<polygon fill=\"#000000\" stroke=\"#000000\" points=\"192.7364,-78.3196 196.0724,-68.2637 187.1936,-74.0444 192.7364,-78.3196\"/>\n</g>\n<!-- 16 -->\n<g id=\"node17\" class=\"node\">\n<title>16</title>\n<path fill=\"#9ccef2\" stroke=\"#000000\" d=\"M511,-187C511,-187 404,-187 404,-187 398,-187 392,-181 392,-175 392,-175 392,-116 392,-116 392,-110 398,-104 404,-104 404,-104 511,-104 511,-104 517,-104 523,-110 523,-116 523,-116 523,-175 523,-175 523,-181 517,-187 511,-187\"/>\n<text text-anchor=\"middle\" x=\"457.5\" y=\"-171.8\" font-family=\"Helvetica,sans-Serif\" font-size=\"14.00\" fill=\"#000000\">season &lt;= 2.5</text>\n<text text-anchor=\"middle\" x=\"457.5\" y=\"-156.8\" font-family=\"Helvetica,sans-Serif\" font-size=\"14.00\" fill=\"#000000\">gini = 0.444</text>\n<text text-anchor=\"middle\" x=\"457.5\" y=\"-141.8\" font-family=\"Helvetica,sans-Serif\" font-size=\"14.00\" fill=\"#000000\">samples = 6</text>\n<text text-anchor=\"middle\" x=\"457.5\" y=\"-126.8\" font-family=\"Helvetica,sans-Serif\" font-size=\"14.00\" fill=\"#000000\">value = [2, 4]</text>\n<text text-anchor=\"middle\" x=\"457.5\" y=\"-111.8\" font-family=\"Helvetica,sans-Serif\" font-size=\"14.00\" fill=\"#000000\">class = no_bloom</text>\n</g>\n<!-- 15&#45;&gt;16 -->\n<g id=\"edge16\" class=\"edge\">\n<title>15&#45;&gt;16</title>\n<path fill=\"none\" stroke=\"#000000\" d=\"M457.5,-222.8796C457.5,-214.6838 457.5,-205.9891 457.5,-197.5013\"/>\n<polygon fill=\"#000000\" stroke=\"#000000\" points=\"461.0001,-197.298 457.5,-187.2981 454.0001,-197.2981 461.0001,-197.298\"/>\n</g>\n<!-- 19 -->\n<g id=\"node20\" class=\"node\">\n<title>19</title>\n<path fill=\"#399de5\" stroke=\"#000000\" d=\"M660,-179.5C660,-179.5 553,-179.5 553,-179.5 547,-179.5 541,-173.5 541,-167.5 541,-167.5 541,-123.5 541,-123.5 541,-117.5 547,-111.5 553,-111.5 553,-111.5 660,-111.5 660,-111.5 666,-111.5 672,-117.5 672,-123.5 672,-123.5 672,-167.5 672,-167.5 672,-173.5 666,-179.5 660,-179.5\"/>\n<text text-anchor=\"middle\" x=\"606.5\" y=\"-164.3\" font-family=\"Helvetica,sans-Serif\" font-size=\"14.00\" fill=\"#000000\">gini = 0.0</text>\n<text text-anchor=\"middle\" x=\"606.5\" y=\"-149.3\" font-family=\"Helvetica,sans-Serif\" font-size=\"14.00\" fill=\"#000000\">samples = 1</text>\n<text text-anchor=\"middle\" x=\"606.5\" y=\"-134.3\" font-family=\"Helvetica,sans-Serif\" font-size=\"14.00\" fill=\"#000000\">value = [0, 1]</text>\n<text text-anchor=\"middle\" x=\"606.5\" y=\"-119.3\" font-family=\"Helvetica,sans-Serif\" font-size=\"14.00\" fill=\"#000000\">class = no_bloom</text>\n</g>\n<!-- 15&#45;&gt;19 -->\n<g id=\"edge19\" class=\"edge\">\n<title>15&#45;&gt;19</title>\n<path fill=\"none\" stroke=\"#000000\" d=\"M509.613,-222.8796C524.4826,-211.0038 540.664,-198.0804 555.4683,-186.2568\"/>\n<polygon fill=\"#000000\" stroke=\"#000000\" points=\"557.9046,-188.7904 563.5342,-179.8149 553.5362,-183.3207 557.9046,-188.7904\"/>\n</g>\n<!-- 17 -->\n<g id=\"node18\" class=\"node\">\n<title>17</title>\n<path fill=\"#9ccef2\" stroke=\"#000000\" d=\"M472,-68C472,-68 365,-68 365,-68 359,-68 353,-62 353,-56 353,-56 353,-12 353,-12 353,-6 359,0 365,0 365,0 472,0 472,0 478,0 484,-6 484,-12 484,-12 484,-56 484,-56 484,-62 478,-68 472,-68\"/>\n<text text-anchor=\"middle\" x=\"418.5\" y=\"-52.8\" font-family=\"Helvetica,sans-Serif\" font-size=\"14.00\" fill=\"#000000\">gini = 0.444</text>\n<text text-anchor=\"middle\" x=\"418.5\" y=\"-37.8\" font-family=\"Helvetica,sans-Serif\" font-size=\"14.00\" fill=\"#000000\">samples = 3</text>\n<text text-anchor=\"middle\" x=\"418.5\" y=\"-22.8\" font-family=\"Helvetica,sans-Serif\" font-size=\"14.00\" fill=\"#000000\">value = [1, 2]</text>\n<text text-anchor=\"middle\" x=\"418.5\" y=\"-7.8\" font-family=\"Helvetica,sans-Serif\" font-size=\"14.00\" fill=\"#000000\">class = no_bloom</text>\n</g>\n<!-- 16&#45;&gt;17 -->\n<g id=\"edge17\" class=\"edge\">\n<title>16&#45;&gt;17</title>\n<path fill=\"none\" stroke=\"#000000\" d=\"M442.9778,-103.9815C439.9882,-95.4342 436.8312,-86.4086 433.8146,-77.7839\"/>\n<polygon fill=\"#000000\" stroke=\"#000000\" points=\"437.09,-76.5473 430.4846,-68.2637 430.4826,-78.8585 437.09,-76.5473\"/>\n</g>\n<!-- 18 -->\n<g id=\"node19\" class=\"node\">\n<title>18</title>\n<path fill=\"#9ccef2\" stroke=\"#000000\" d=\"M621,-68C621,-68 514,-68 514,-68 508,-68 502,-62 502,-56 502,-56 502,-12 502,-12 502,-6 508,0 514,0 514,0 621,0 621,0 627,0 633,-6 633,-12 633,-12 633,-56 633,-56 633,-62 627,-68 621,-68\"/>\n<text text-anchor=\"middle\" x=\"567.5\" y=\"-52.8\" font-family=\"Helvetica,sans-Serif\" font-size=\"14.00\" fill=\"#000000\">gini = 0.444</text>\n<text text-anchor=\"middle\" x=\"567.5\" y=\"-37.8\" font-family=\"Helvetica,sans-Serif\" font-size=\"14.00\" fill=\"#000000\">samples = 3</text>\n<text text-anchor=\"middle\" x=\"567.5\" y=\"-22.8\" font-family=\"Helvetica,sans-Serif\" font-size=\"14.00\" fill=\"#000000\">value = [1, 2]</text>\n<text text-anchor=\"middle\" x=\"567.5\" y=\"-7.8\" font-family=\"Helvetica,sans-Serif\" font-size=\"14.00\" fill=\"#000000\">class = no_bloom</text>\n</g>\n<!-- 16&#45;&gt;18 -->\n<g id=\"edge18\" class=\"edge\">\n<title>16&#45;&gt;18</title>\n<path fill=\"none\" stroke=\"#000000\" d=\"M498.4599,-103.9815C507.6176,-94.6989 517.3319,-84.8522 526.4915,-75.5677\"/>\n<polygon fill=\"#000000\" stroke=\"#000000\" points=\"529.1658,-77.8406 533.6973,-68.2637 524.1826,-72.9244 529.1658,-77.8406\"/>\n</g>\n<!-- 22 -->\n<g id=\"node23\" class=\"node\">\n<title>22</title>\n<path fill=\"#ffffff\" stroke=\"#000000\" d=\"M745.5,-417.5C745.5,-417.5 623.5,-417.5 623.5,-417.5 617.5,-417.5 611.5,-411.5 611.5,-405.5 611.5,-405.5 611.5,-361.5 611.5,-361.5 611.5,-355.5 617.5,-349.5 623.5,-349.5 623.5,-349.5 745.5,-349.5 745.5,-349.5 751.5,-349.5 757.5,-355.5 757.5,-361.5 757.5,-361.5 757.5,-405.5 757.5,-405.5 757.5,-411.5 751.5,-417.5 745.5,-417.5\"/>\n<text text-anchor=\"middle\" x=\"684.5\" y=\"-402.3\" font-family=\"Helvetica,sans-Serif\" font-size=\"14.00\" fill=\"#000000\">gini = 0.5</text>\n<text text-anchor=\"middle\" x=\"684.5\" y=\"-387.3\" font-family=\"Helvetica,sans-Serif\" font-size=\"14.00\" fill=\"#000000\">samples = 2</text>\n<text text-anchor=\"middle\" x=\"684.5\" y=\"-372.3\" font-family=\"Helvetica,sans-Serif\" font-size=\"14.00\" fill=\"#000000\">value = [1, 1]</text>\n<text text-anchor=\"middle\" x=\"684.5\" y=\"-357.3\" font-family=\"Helvetica,sans-Serif\" font-size=\"14.00\" fill=\"#000000\">class = large_bloom</text>\n</g>\n<!-- 21&#45;&gt;22 -->\n<g id=\"edge22\" class=\"edge\">\n<title>21&#45;&gt;22</title>\n<path fill=\"none\" stroke=\"#000000\" d=\"M684.5,-460.8796C684.5,-450.2134 684.5,-438.7021 684.5,-427.9015\"/>\n<polygon fill=\"#000000\" stroke=\"#000000\" points=\"688.0001,-427.8149 684.5,-417.8149 681.0001,-427.815 688.0001,-427.8149\"/>\n</g>\n<!-- 23 -->\n<g id=\"node24\" class=\"node\">\n<title>23</title>\n<path fill=\"#e58139\" stroke=\"#000000\" d=\"M909.5,-417.5C909.5,-417.5 787.5,-417.5 787.5,-417.5 781.5,-417.5 775.5,-411.5 775.5,-405.5 775.5,-405.5 775.5,-361.5 775.5,-361.5 775.5,-355.5 781.5,-349.5 787.5,-349.5 787.5,-349.5 909.5,-349.5 909.5,-349.5 915.5,-349.5 921.5,-355.5 921.5,-361.5 921.5,-361.5 921.5,-405.5 921.5,-405.5 921.5,-411.5 915.5,-417.5 909.5,-417.5\"/>\n<text text-anchor=\"middle\" x=\"848.5\" y=\"-402.3\" font-family=\"Helvetica,sans-Serif\" font-size=\"14.00\" fill=\"#000000\">gini = 0.0</text>\n<text text-anchor=\"middle\" x=\"848.5\" y=\"-387.3\" font-family=\"Helvetica,sans-Serif\" font-size=\"14.00\" fill=\"#000000\">samples = 1</text>\n<text text-anchor=\"middle\" x=\"848.5\" y=\"-372.3\" font-family=\"Helvetica,sans-Serif\" font-size=\"14.00\" fill=\"#000000\">value = [1, 0]</text>\n<text text-anchor=\"middle\" x=\"848.5\" y=\"-357.3\" font-family=\"Helvetica,sans-Serif\" font-size=\"14.00\" fill=\"#000000\">class = large_bloom</text>\n</g>\n<!-- 21&#45;&gt;23 -->\n<g id=\"edge23\" class=\"edge\">\n<title>21&#45;&gt;23</title>\n<path fill=\"none\" stroke=\"#000000\" d=\"M741.8592,-460.8796C758.4561,-448.8368 776.5375,-435.7167 793.0176,-423.7586\"/>\n<polygon fill=\"#000000\" stroke=\"#000000\" points=\"795.4351,-426.3288 801.4733,-417.623 791.324,-420.6632 795.4351,-426.3288\"/>\n</g>\n<!-- 25 -->\n<g id=\"node26\" class=\"node\">\n<title>25</title>\n<path fill=\"#e58139\" stroke=\"#000000\" d=\"M745.5,-655.5C745.5,-655.5 623.5,-655.5 623.5,-655.5 617.5,-655.5 611.5,-649.5 611.5,-643.5 611.5,-643.5 611.5,-599.5 611.5,-599.5 611.5,-593.5 617.5,-587.5 623.5,-587.5 623.5,-587.5 745.5,-587.5 745.5,-587.5 751.5,-587.5 757.5,-593.5 757.5,-599.5 757.5,-599.5 757.5,-643.5 757.5,-643.5 757.5,-649.5 751.5,-655.5 745.5,-655.5\"/>\n<text text-anchor=\"middle\" x=\"684.5\" y=\"-640.3\" font-family=\"Helvetica,sans-Serif\" font-size=\"14.00\" fill=\"#000000\">gini = 0.0</text>\n<text text-anchor=\"middle\" x=\"684.5\" y=\"-625.3\" font-family=\"Helvetica,sans-Serif\" font-size=\"14.00\" fill=\"#000000\">samples = 1</text>\n<text text-anchor=\"middle\" x=\"684.5\" y=\"-610.3\" font-family=\"Helvetica,sans-Serif\" font-size=\"14.00\" fill=\"#000000\">value = [1, 0]</text>\n<text text-anchor=\"middle\" x=\"684.5\" y=\"-595.3\" font-family=\"Helvetica,sans-Serif\" font-size=\"14.00\" fill=\"#000000\">class = large_bloom</text>\n</g>\n<!-- 24&#45;&gt;25 -->\n<g id=\"edge25\" class=\"edge\">\n<title>24&#45;&gt;25</title>\n<path fill=\"none\" stroke=\"#000000\" d=\"M684.5,-698.8796C684.5,-688.2134 684.5,-676.7021 684.5,-665.9015\"/>\n<polygon fill=\"#000000\" stroke=\"#000000\" points=\"688.0001,-665.8149 684.5,-655.8149 681.0001,-665.815 688.0001,-665.8149\"/>\n</g>\n<!-- 26 -->\n<g id=\"node27\" class=\"node\">\n<title>26</title>\n<path fill=\"#4da7e8\" stroke=\"#000000\" d=\"M895,-663C895,-663 788,-663 788,-663 782,-663 776,-657 776,-651 776,-651 776,-592 776,-592 776,-586 782,-580 788,-580 788,-580 895,-580 895,-580 901,-580 907,-586 907,-592 907,-592 907,-651 907,-651 907,-657 901,-663 895,-663\"/>\n<text text-anchor=\"middle\" x=\"841.5\" y=\"-647.8\" font-family=\"Helvetica,sans-Serif\" font-size=\"14.00\" fill=\"#000000\">river_pc &lt;= 0.0</text>\n<text text-anchor=\"middle\" x=\"841.5\" y=\"-632.8\" font-family=\"Helvetica,sans-Serif\" font-size=\"14.00\" fill=\"#000000\">gini = 0.165</text>\n<text text-anchor=\"middle\" x=\"841.5\" y=\"-617.8\" font-family=\"Helvetica,sans-Serif\" font-size=\"14.00\" fill=\"#000000\">samples = 11</text>\n<text text-anchor=\"middle\" x=\"841.5\" y=\"-602.8\" font-family=\"Helvetica,sans-Serif\" font-size=\"14.00\" fill=\"#000000\">value = [1, 10]</text>\n<text text-anchor=\"middle\" x=\"841.5\" y=\"-587.8\" font-family=\"Helvetica,sans-Serif\" font-size=\"14.00\" fill=\"#000000\">class = no_bloom</text>\n</g>\n<!-- 24&#45;&gt;26 -->\n<g id=\"edge26\" class=\"edge\">\n<title>24&#45;&gt;26</title>\n<path fill=\"none\" stroke=\"#000000\" d=\"M739.411,-698.8796C752.0794,-689.2774 765.6515,-678.9903 778.6295,-669.1534\"/>\n<polygon fill=\"#000000\" stroke=\"#000000\" points=\"780.7648,-671.9268 786.62,-663.0969 776.5364,-666.3482 780.7648,-671.9268\"/>\n</g>\n<!-- 27 -->\n<g id=\"node28\" class=\"node\">\n<title>27</title>\n<path fill=\"#399de5\" stroke=\"#000000\" d=\"M895,-536.5C895,-536.5 788,-536.5 788,-536.5 782,-536.5 776,-530.5 776,-524.5 776,-524.5 776,-480.5 776,-480.5 776,-474.5 782,-468.5 788,-468.5 788,-468.5 895,-468.5 895,-468.5 901,-468.5 907,-474.5 907,-480.5 907,-480.5 907,-524.5 907,-524.5 907,-530.5 901,-536.5 895,-536.5\"/>\n<text text-anchor=\"middle\" x=\"841.5\" y=\"-521.3\" font-family=\"Helvetica,sans-Serif\" font-size=\"14.00\" fill=\"#000000\">gini = 0.0</text>\n<text text-anchor=\"middle\" x=\"841.5\" y=\"-506.3\" font-family=\"Helvetica,sans-Serif\" font-size=\"14.00\" fill=\"#000000\">samples = 8</text>\n<text text-anchor=\"middle\" x=\"841.5\" y=\"-491.3\" font-family=\"Helvetica,sans-Serif\" font-size=\"14.00\" fill=\"#000000\">value = [0, 8]</text>\n<text text-anchor=\"middle\" x=\"841.5\" y=\"-476.3\" font-family=\"Helvetica,sans-Serif\" font-size=\"14.00\" fill=\"#000000\">class = no_bloom</text>\n</g>\n<!-- 26&#45;&gt;27 -->\n<g id=\"edge27\" class=\"edge\">\n<title>26&#45;&gt;27</title>\n<path fill=\"none\" stroke=\"#000000\" d=\"M841.5,-579.8796C841.5,-569.2134 841.5,-557.7021 841.5,-546.9015\"/>\n<polygon fill=\"#000000\" stroke=\"#000000\" points=\"845.0001,-546.8149 841.5,-536.8149 838.0001,-546.815 845.0001,-546.8149\"/>\n</g>\n<!-- 28 -->\n<g id=\"node29\" class=\"node\">\n<title>28</title>\n<path fill=\"#9ccef2\" stroke=\"#000000\" d=\"M1044,-536.5C1044,-536.5 937,-536.5 937,-536.5 931,-536.5 925,-530.5 925,-524.5 925,-524.5 925,-480.5 925,-480.5 925,-474.5 931,-468.5 937,-468.5 937,-468.5 1044,-468.5 1044,-468.5 1050,-468.5 1056,-474.5 1056,-480.5 1056,-480.5 1056,-524.5 1056,-524.5 1056,-530.5 1050,-536.5 1044,-536.5\"/>\n<text text-anchor=\"middle\" x=\"990.5\" y=\"-521.3\" font-family=\"Helvetica,sans-Serif\" font-size=\"14.00\" fill=\"#000000\">gini = 0.444</text>\n<text text-anchor=\"middle\" x=\"990.5\" y=\"-506.3\" font-family=\"Helvetica,sans-Serif\" font-size=\"14.00\" fill=\"#000000\">samples = 3</text>\n<text text-anchor=\"middle\" x=\"990.5\" y=\"-491.3\" font-family=\"Helvetica,sans-Serif\" font-size=\"14.00\" fill=\"#000000\">value = [1, 2]</text>\n<text text-anchor=\"middle\" x=\"990.5\" y=\"-476.3\" font-family=\"Helvetica,sans-Serif\" font-size=\"14.00\" fill=\"#000000\">class = no_bloom</text>\n</g>\n<!-- 26&#45;&gt;28 -->\n<g id=\"edge28\" class=\"edge\">\n<title>26&#45;&gt;28</title>\n<path fill=\"none\" stroke=\"#000000\" d=\"M893.613,-579.8796C908.4826,-568.0038 924.664,-555.0804 939.4683,-543.2568\"/>\n<polygon fill=\"#000000\" stroke=\"#000000\" points=\"941.9046,-545.7904 947.5342,-536.8149 937.5362,-540.3207 941.9046,-545.7904\"/>\n</g>\n<!-- \\n -->\n<g id=\"node30\" class=\"node\">\n<title>\\n</title>\n<path fill=\"#000000\" stroke=\"#000000\" d=\"M656.5,-996.5C656.5,-996.5 626.5,-996.5 626.5,-996.5 620.5,-996.5 614.5,-990.5 614.5,-984.5 614.5,-984.5 614.5,-972.5 614.5,-972.5 614.5,-966.5 620.5,-960.5 626.5,-960.5 626.5,-960.5 656.5,-960.5 656.5,-960.5 662.5,-960.5 668.5,-966.5 668.5,-972.5 668.5,-972.5 668.5,-984.5 668.5,-984.5 668.5,-990.5 662.5,-996.5 656.5,-996.5\"/>\n</g>\n</g>\n</svg>\n"
          },
          "metadata": {},
          "execution_count": 23
        }
      ],
      "source": [
        "#load model from a file\n",
        "model=joblib.load('Redtide_Bloom_Pred.joblib')\n",
        "\n",
        "#Export model in visual format (to know how the model makes predictions)\n",
        "dot_data=tree.export_graphviz(model,out_file=None, max_depth=None,label='all',rounded=True,filled=True,\n",
        "                     feature_names=['season','SSH','river_ch','river_pc','wind_os','wind_as'],class_names=sorted(y.unique()))\n",
        "\n",
        "#pydot to resize and saving \n",
        "pydot_graph = pydotplus.graph_from_dot_data(dot_data)\n",
        "pydot_graph.set_size('\"14,14!\"')\n",
        "\n",
        "#graphviz for screen display \n",
        "graphviz.Source(pydot_graph.to_string())\n",
        "\n"
      ]
    },
    {
      "cell_type": "code",
      "execution_count": 21,
      "metadata": {
        "id": "G6vuvpWpvj9D"
      },
      "outputs": [],
      "source": [
        ""
      ]
    }
  ],
  "metadata": {
    "kernelspec": {
      "display_name": "Python 3",
      "language": "python",
      "name": "python3"
    },
    "language_info": {
      "codemirror_mode": {
        "name": "ipython",
        "version": 3
      },
      "file_extension": ".py",
      "mimetype": "text/x-python",
      "name": "python",
      "nbconvert_exporter": "python",
      "pygments_lexer": "ipython3",
      "version": "3.8.3"
    },
    "colab": {
      "name": "Redtide.ipynb",
      "provenance": [],
      "include_colab_link": true
    }
  },
  "nbformat": 4,
  "nbformat_minor": 0
}