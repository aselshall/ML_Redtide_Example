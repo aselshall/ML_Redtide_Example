{
  "cells": [
    {
      "cell_type": "markdown",
      "metadata": {
        "id": "view-in-github",
        "colab_type": "text"
      },
      "source": [
        "<a href=\"https://colab.research.google.com/github/aselshall/ML_Redtide_Example/blob/main/Redtide.ipynb\" target=\"_parent\"><img src=\"https://colab.research.google.com/assets/colab-badge.svg\" alt=\"Open In Colab\"/></a>"
      ]
    },
    {
      "cell_type": "markdown",
      "metadata": {
        "id": "gw5mBq5qvj8z"
      },
      "source": [
        "### Example 2: Red tide classification problem (large bloom, no bloom)\n",
        "Decision trees with python (scikit-learn, and graphviz)"
      ]
    },
    {
      "cell_type": "code",
      "execution_count": 26,
      "metadata": {
        "id": "-fzhhPl0vj85"
      },
      "outputs": [],
      "source": [
        "#General\n",
        "import pandas as pd\n",
        "import numpy as np\n",
        "import matplotlib.pyplot as plt\n",
        "\n",
        "\n",
        "#ML\n",
        "from sklearn.model_selection import train_test_split\n",
        "from sklearn.tree import DecisionTreeClassifier\n",
        "from sklearn.ensemble import RandomForestClassifier\n",
        "from sklearn.metrics import accuracy_score\n",
        "from sklearn import tree\n",
        "import graphviz\n",
        "import pydotplus\n",
        "import joblib"
      ]
    },
    {
      "cell_type": "code",
      "source": [
        "from pathlib import Path\n",
        "import random\n",
        "\n",
        "import gdown\n",
        "from pathlib import Path\n",
        "Path('Input').mkdir(parents=True, exist_ok=True)\n",
        "Path('Output').mkdir(parents=True, exist_ok=True)\n",
        "file='maze_data.csv'\n",
        "file_ID='1z7Y7cDHtWhKmAbFNl0ABlMp3NOA2fVQr'\n",
        "url='https://drive.google.com/uc?id='\n",
        "print('Input files download')\n",
        "source=url+file_ID\n",
        "destination='Input/{}'.format(file)\n",
        "print('from {} to {}'.format(source,destination))\n",
        "gdown.download(source, destination, quiet=True)"
      ],
      "metadata": {
        "colab": {
          "base_uri": "https://localhost:8080/",
          "height": 70
        },
        "id": "CfC6nxoEwpwY",
        "outputId": "a315730d-96c5-4f1e-fdba-dab4c7ad9de6"
      },
      "execution_count": 5,
      "outputs": [
        {
          "output_type": "stream",
          "name": "stdout",
          "text": [
            "Input files download\n",
            "from https://drive.google.com/uc?id=1z7Y7cDHtWhKmAbFNl0ABlMp3NOA2fVQr to Input/maze_data.csv\n"
          ]
        },
        {
          "output_type": "execute_result",
          "data": {
            "application/vnd.google.colaboratory.intrinsic+json": {
              "type": "string"
            },
            "text/plain": [
              "'Input/maze_data.csv'"
            ]
          },
          "metadata": {},
          "execution_count": 5
        }
      ]
    },
    {
      "cell_type": "code",
      "execution_count": 7,
      "metadata": {
        "id": "aee5CQ_dvj89"
      },
      "outputs": [],
      "source": [
        "df=pd.read_csv('Input/maze_data.csv')\n",
        "#display(df) "
      ]
    },
    {
      "cell_type": "markdown",
      "metadata": {
        "id": "KfLU0utuvj89"
      },
      "source": [
        "#### [2] Clean and prepare data"
      ]
    },
    {
      "cell_type": "code",
      "execution_count": 8,
      "metadata": {
        "id": "_XOsVt9wvj8-"
      },
      "outputs": [],
      "source": [
        "# Predictor variables\n",
        "X=df.drop(columns=['index','bloom','output'])\n",
        "#display(X)\n",
        "\n",
        "#Target variable(or label, or predictand)\n",
        "y=df.output\n",
        "#display(y)"
      ]
    },
    {
      "cell_type": "markdown",
      "metadata": {
        "id": "M2I0ZAeuvj8_"
      },
      "source": [
        "#### [3] Split data "
      ]
    },
    {
      "cell_type": "code",
      "execution_count": 9,
      "metadata": {
        "id": "cnl8tSURvj9A"
      },
      "outputs": [],
      "source": [
        "#Split to train and test\n",
        "X_train, X_test, y_train, y_test =train_test_split(X,y,test_size=0.2)\n",
        "\n",
        "# #Save splitted data\n",
        "# X_train.to_csv('X_train.csv') \n",
        "# X_test.to_csv('X_test.csv') \n",
        "# y_train .to_csv('y_train.csv') \n",
        "# y_test.to_csv('y_test.csv') \n",
        "\n",
        "#Display data\n",
        "#display(X_train)\n",
        "#display(y_train)"
      ]
    },
    {
      "cell_type": "markdown",
      "metadata": {
        "id": "AitakwsPvj9B"
      },
      "source": [
        "#### [4] Create, train, evaluate and save model "
      ]
    },
    {
      "cell_type": "code",
      "execution_count": 27,
      "metadata": {
        "colab": {
          "base_uri": "https://localhost:8080/"
        },
        "id": "BHaGpYmwvj9B",
        "outputId": "f28c18e6-0c71-4399-bde6-ce9617dfbf54"
      },
      "outputs": [
        {
          "output_type": "stream",
          "name": "stdout",
          "text": [
            "Accuracy: 0.75\n"
          ]
        },
        {
          "output_type": "execute_result",
          "data": {
            "text/plain": [
              "['Redtide_Bloom_Pred.joblib']"
            ]
          },
          "metadata": {},
          "execution_count": 27
        }
      ],
      "source": [
        "#Split to train and test\n",
        "X_train, X_test, y_train, y_test =train_test_split(X,y,test_size=0.2)\n",
        "\n",
        "# Define model: decision treee  \n",
        "model=DecisionTreeClassifier()\n",
        "#model=RandomForestClassifier()\n",
        "\n",
        "#Train model \n",
        "model.fit(X_train,y_train)\n",
        "\n",
        "#Make predictions\n",
        "y_pred=model.predict(X_test)\n",
        "\n",
        "#Evalaute predictions\n",
        "#fine tune the model, choose another algorithm or model, or application<br>\n",
        "#Accuracy:size_train_dataset, clean data (duplicates, missing data), irrelevent data\n",
        "score=accuracy_score(y_test,y_pred)\n",
        "print('Accuracy: {:0.2f}'.format(score))\n",
        "\n",
        "#Save model to a file \n",
        "joblib.dump(model,'Redtide_Bloom_Pred.joblib')"
      ]
    },
    {
      "cell_type": "markdown",
      "metadata": {
        "id": "8F8aukzIvj9C"
      },
      "source": [
        "#### [5] Model interpretation\n",
        "https://towardsdatascience.com/understanding-decision-trees-for-classification-python-9663d683c952<br>\n",
        "Plot decision tree starting from root+decision node, to decision node, and to terminal node (leaf).<br>\n",
        "Pure node means further spliting will not lead to further information gain, so classification trees do noy split on pure nodes.However, impure nodes can split further.<br>\n",
        "The figure shows that setosa was correctly classified for all 12 points.The right side shows that many points are misclassified as no_bloom.<br>\n",
        "Classification trees are a greedy algorithm which mean\n",
        "s by default it will continue to split until it has a pure node.<br> \n",
        "The algorithm chooses the best split point (i.e., gini) for the impure node.<br>\n",
        "Decision trees split on the feature that results in the largest information gain (e.g., gini or entropy criterion).<br>\n",
        "IG = information before splitting (parent) — information after splitting \n",
        "If the impurity criterion is not zero then we can furthr split."
      ]
    },
    {
      "cell_type": "code",
      "execution_count": 29,
      "metadata": {
        "colab": {
          "base_uri": "https://localhost:8080/",
          "height": 1000
        },
        "id": "LXvsEKuTvj9D",
        "outputId": "b405c98d-af49-418e-8fa7-f93ab46e1777"
      },
      "outputs": [
        {
          "output_type": "execute_result",
          "data": {
            "text/plain": [
              "<graphviz.files.Source at 0x7f2e5b75f150>"
            ],
            "image/svg+xml": "<?xml version=\"1.0\" encoding=\"UTF-8\" standalone=\"no\"?>\n<!DOCTYPE svg PUBLIC \"-//W3C//DTD SVG 1.1//EN\"\n \"http://www.w3.org/Graphics/SVG/1.1/DTD/svg11.dtd\">\n<!-- Generated by graphviz version 2.40.1 (20161225.0304)\n -->\n<!-- Title: Tree Pages: 1 -->\n<svg width=\"1008pt\" height=\"911pt\"\n viewBox=\"0.00 0.00 1008.00 910.57\" xmlns=\"http://www.w3.org/2000/svg\" xmlns:xlink=\"http://www.w3.org/1999/xlink\">\n<g id=\"graph0\" class=\"graph\" transform=\"scale(.8858 .8858) rotate(0) translate(4 1024)\">\n<title>Tree</title>\n<polygon fill=\"#ffffff\" stroke=\"transparent\" points=\"-4,4 -4,-1024 1134,-1024 1134,4 -4,4\"/>\n<!-- 0 -->\n<g id=\"node1\" class=\"node\">\n<title>0</title>\n<path fill=\"#74baed\" stroke=\"#000000\" d=\"M721.5,-1020C721.5,-1020 614.5,-1020 614.5,-1020 608.5,-1020 602.5,-1014 602.5,-1008 602.5,-1008 602.5,-949 602.5,-949 602.5,-943 608.5,-937 614.5,-937 614.5,-937 721.5,-937 721.5,-937 727.5,-937 733.5,-943 733.5,-949 733.5,-949 733.5,-1008 733.5,-1008 733.5,-1014 727.5,-1020 721.5,-1020\"/>\n<text text-anchor=\"middle\" x=\"668\" y=\"-1004.8\" font-family=\"Helvetica,sans-Serif\" font-size=\"14.00\" fill=\"#000000\">SSH &lt;= 0.0</text>\n<text text-anchor=\"middle\" x=\"668\" y=\"-989.8\" font-family=\"Helvetica,sans-Serif\" font-size=\"14.00\" fill=\"#000000\">gini = 0.353</text>\n<text text-anchor=\"middle\" x=\"668\" y=\"-974.8\" font-family=\"Helvetica,sans-Serif\" font-size=\"14.00\" fill=\"#000000\">samples = 48</text>\n<text text-anchor=\"middle\" x=\"668\" y=\"-959.8\" font-family=\"Helvetica,sans-Serif\" font-size=\"14.00\" fill=\"#000000\">value = [11, 37]</text>\n<text text-anchor=\"middle\" x=\"668\" y=\"-944.8\" font-family=\"Helvetica,sans-Serif\" font-size=\"14.00\" fill=\"#000000\">class = no_bloom</text>\n</g>\n<!-- 1 -->\n<g id=\"node2\" class=\"node\">\n<title>1</title>\n<path fill=\"#399de5\" stroke=\"#000000\" d=\"M647.5,-893.5C647.5,-893.5 540.5,-893.5 540.5,-893.5 534.5,-893.5 528.5,-887.5 528.5,-881.5 528.5,-881.5 528.5,-837.5 528.5,-837.5 528.5,-831.5 534.5,-825.5 540.5,-825.5 540.5,-825.5 647.5,-825.5 647.5,-825.5 653.5,-825.5 659.5,-831.5 659.5,-837.5 659.5,-837.5 659.5,-881.5 659.5,-881.5 659.5,-887.5 653.5,-893.5 647.5,-893.5\"/>\n<text text-anchor=\"middle\" x=\"594\" y=\"-878.3\" font-family=\"Helvetica,sans-Serif\" font-size=\"14.00\" fill=\"#000000\">gini = 0.0</text>\n<text text-anchor=\"middle\" x=\"594\" y=\"-863.3\" font-family=\"Helvetica,sans-Serif\" font-size=\"14.00\" fill=\"#000000\">samples = 13</text>\n<text text-anchor=\"middle\" x=\"594\" y=\"-848.3\" font-family=\"Helvetica,sans-Serif\" font-size=\"14.00\" fill=\"#000000\">value = [0, 13]</text>\n<text text-anchor=\"middle\" x=\"594\" y=\"-833.3\" font-family=\"Helvetica,sans-Serif\" font-size=\"14.00\" fill=\"#000000\">class = no_bloom</text>\n</g>\n<!-- 0&#45;&gt;1 -->\n<g id=\"edge1\" class=\"edge\">\n<title>0&#45;&gt;1</title>\n<path fill=\"none\" stroke=\"#000000\" d=\"M642.1184,-936.8796C635.2121,-925.7735 627.7361,-913.7513 620.7825,-902.5691\"/>\n<polygon fill=\"#000000\" stroke=\"#000000\" points=\"623.5917,-900.4587 615.3387,-893.8149 617.6473,-904.1552 623.5917,-900.4587\"/>\n<text text-anchor=\"middle\" x=\"609.6619\" y=\"-914.4619\" font-family=\"Helvetica,sans-Serif\" font-size=\"14.00\" fill=\"#000000\">True</text>\n</g>\n<!-- 2 -->\n<g id=\"node3\" class=\"node\">\n<title>2</title>\n<path fill=\"#94caf1\" stroke=\"#000000\" d=\"M796.5,-901C796.5,-901 689.5,-901 689.5,-901 683.5,-901 677.5,-895 677.5,-889 677.5,-889 677.5,-830 677.5,-830 677.5,-824 683.5,-818 689.5,-818 689.5,-818 796.5,-818 796.5,-818 802.5,-818 808.5,-824 808.5,-830 808.5,-830 808.5,-889 808.5,-889 808.5,-895 802.5,-901 796.5,-901\"/>\n<text text-anchor=\"middle\" x=\"743\" y=\"-885.8\" font-family=\"Helvetica,sans-Serif\" font-size=\"14.00\" fill=\"#000000\">wind_os &lt;= &#45;0.5</text>\n<text text-anchor=\"middle\" x=\"743\" y=\"-870.8\" font-family=\"Helvetica,sans-Serif\" font-size=\"14.00\" fill=\"#000000\">gini = 0.431</text>\n<text text-anchor=\"middle\" x=\"743\" y=\"-855.8\" font-family=\"Helvetica,sans-Serif\" font-size=\"14.00\" fill=\"#000000\">samples = 35</text>\n<text text-anchor=\"middle\" x=\"743\" y=\"-840.8\" font-family=\"Helvetica,sans-Serif\" font-size=\"14.00\" fill=\"#000000\">value = [11, 24]</text>\n<text text-anchor=\"middle\" x=\"743\" y=\"-825.8\" font-family=\"Helvetica,sans-Serif\" font-size=\"14.00\" fill=\"#000000\">class = no_bloom</text>\n</g>\n<!-- 0&#45;&gt;2 -->\n<g id=\"edge2\" class=\"edge\">\n<title>0&#45;&gt;2</title>\n<path fill=\"none\" stroke=\"#000000\" d=\"M694.2314,-936.8796C699.7373,-928.1434 705.6006,-918.8404 711.2824,-909.8253\"/>\n<polygon fill=\"#000000\" stroke=\"#000000\" points=\"714.2857,-911.6242 716.6567,-901.2981 708.3637,-907.8919 714.2857,-911.6242\"/>\n<text text-anchor=\"middle\" x=\"722.1863\" y=\"-921.9789\" font-family=\"Helvetica,sans-Serif\" font-size=\"14.00\" fill=\"#000000\">False</text>\n</g>\n<!-- 3 -->\n<g id=\"node4\" class=\"node\">\n<title>3</title>\n<path fill=\"#fbeade\" stroke=\"#000000\" d=\"M725,-782C725,-782 603,-782 603,-782 597,-782 591,-776 591,-770 591,-770 591,-711 591,-711 591,-705 597,-699 603,-699 603,-699 725,-699 725,-699 731,-699 737,-705 737,-711 737,-711 737,-770 737,-770 737,-776 731,-782 725,-782\"/>\n<text text-anchor=\"middle\" x=\"664\" y=\"-766.8\" font-family=\"Helvetica,sans-Serif\" font-size=\"14.00\" fill=\"#000000\">wind_as &lt;= 0.0</text>\n<text text-anchor=\"middle\" x=\"664\" y=\"-751.8\" font-family=\"Helvetica,sans-Serif\" font-size=\"14.00\" fill=\"#000000\">gini = 0.496</text>\n<text text-anchor=\"middle\" x=\"664\" y=\"-736.8\" font-family=\"Helvetica,sans-Serif\" font-size=\"14.00\" fill=\"#000000\">samples = 11</text>\n<text text-anchor=\"middle\" x=\"664\" y=\"-721.8\" font-family=\"Helvetica,sans-Serif\" font-size=\"14.00\" fill=\"#000000\">value = [6, 5]</text>\n<text text-anchor=\"middle\" x=\"664\" y=\"-706.8\" font-family=\"Helvetica,sans-Serif\" font-size=\"14.00\" fill=\"#000000\">class = large_bloom</text>\n</g>\n<!-- 2&#45;&gt;3 -->\n<g id=\"edge3\" class=\"edge\">\n<title>2&#45;&gt;3</title>\n<path fill=\"none\" stroke=\"#000000\" d=\"M715.3696,-817.8796C709.57,-809.1434 703.3941,-799.8404 697.4092,-790.8253\"/>\n<polygon fill=\"#000000\" stroke=\"#000000\" points=\"700.1951,-788.6935 691.7483,-782.2981 694.3632,-792.5652 700.1951,-788.6935\"/>\n</g>\n<!-- 18 -->\n<g id=\"node19\" class=\"node\">\n<title>18</title>\n<path fill=\"#6db7ec\" stroke=\"#000000\" d=\"M874.5,-782C874.5,-782 767.5,-782 767.5,-782 761.5,-782 755.5,-776 755.5,-770 755.5,-770 755.5,-711 755.5,-711 755.5,-705 761.5,-699 767.5,-699 767.5,-699 874.5,-699 874.5,-699 880.5,-699 886.5,-705 886.5,-711 886.5,-711 886.5,-770 886.5,-770 886.5,-776 880.5,-782 874.5,-782\"/>\n<text text-anchor=\"middle\" x=\"821\" y=\"-766.8\" font-family=\"Helvetica,sans-Serif\" font-size=\"14.00\" fill=\"#000000\">wind_as &lt;= &#45;0.5</text>\n<text text-anchor=\"middle\" x=\"821\" y=\"-751.8\" font-family=\"Helvetica,sans-Serif\" font-size=\"14.00\" fill=\"#000000\">gini = 0.33</text>\n<text text-anchor=\"middle\" x=\"821\" y=\"-736.8\" font-family=\"Helvetica,sans-Serif\" font-size=\"14.00\" fill=\"#000000\">samples = 24</text>\n<text text-anchor=\"middle\" x=\"821\" y=\"-721.8\" font-family=\"Helvetica,sans-Serif\" font-size=\"14.00\" fill=\"#000000\">value = [5, 19]</text>\n<text text-anchor=\"middle\" x=\"821\" y=\"-706.8\" font-family=\"Helvetica,sans-Serif\" font-size=\"14.00\" fill=\"#000000\">class = no_bloom</text>\n</g>\n<!-- 2&#45;&gt;18 -->\n<g id=\"edge18\" class=\"edge\">\n<title>2&#45;&gt;18</title>\n<path fill=\"none\" stroke=\"#000000\" d=\"M770.2806,-817.8796C776.0068,-809.1434 782.1046,-799.8404 788.0137,-790.8253\"/>\n<polygon fill=\"#000000\" stroke=\"#000000\" points=\"791.0482,-792.5803 793.6029,-782.2981 785.1937,-788.7429 791.0482,-792.5803\"/>\n</g>\n<!-- 4 -->\n<g id=\"node5\" class=\"node\">\n<title>4</title>\n<path fill=\"#d7ebfa\" stroke=\"#000000\" d=\"M560.5,-663C560.5,-663 453.5,-663 453.5,-663 447.5,-663 441.5,-657 441.5,-651 441.5,-651 441.5,-592 441.5,-592 441.5,-586 447.5,-580 453.5,-580 453.5,-580 560.5,-580 560.5,-580 566.5,-580 572.5,-586 572.5,-592 572.5,-592 572.5,-651 572.5,-651 572.5,-657 566.5,-663 560.5,-663\"/>\n<text text-anchor=\"middle\" x=\"507\" y=\"-647.8\" font-family=\"Helvetica,sans-Serif\" font-size=\"14.00\" fill=\"#000000\">season &lt;= 2.5</text>\n<text text-anchor=\"middle\" x=\"507\" y=\"-632.8\" font-family=\"Helvetica,sans-Serif\" font-size=\"14.00\" fill=\"#000000\">gini = 0.494</text>\n<text text-anchor=\"middle\" x=\"507\" y=\"-617.8\" font-family=\"Helvetica,sans-Serif\" font-size=\"14.00\" fill=\"#000000\">samples = 9</text>\n<text text-anchor=\"middle\" x=\"507\" y=\"-602.8\" font-family=\"Helvetica,sans-Serif\" font-size=\"14.00\" fill=\"#000000\">value = [4, 5]</text>\n<text text-anchor=\"middle\" x=\"507\" y=\"-587.8\" font-family=\"Helvetica,sans-Serif\" font-size=\"14.00\" fill=\"#000000\">class = no_bloom</text>\n</g>\n<!-- 3&#45;&gt;4 -->\n<g id=\"edge4\" class=\"edge\">\n<title>3&#45;&gt;4</title>\n<path fill=\"none\" stroke=\"#000000\" d=\"M609.089,-698.8796C596.4206,-689.2774 582.8485,-678.9903 569.8705,-669.1534\"/>\n<polygon fill=\"#000000\" stroke=\"#000000\" points=\"571.9636,-666.3482 561.88,-663.0969 567.7352,-671.9268 571.9636,-666.3482\"/>\n</g>\n<!-- 17 -->\n<g id=\"node18\" class=\"node\">\n<title>17</title>\n<path fill=\"#e58139\" stroke=\"#000000\" d=\"M725,-655.5C725,-655.5 603,-655.5 603,-655.5 597,-655.5 591,-649.5 591,-643.5 591,-643.5 591,-599.5 591,-599.5 591,-593.5 597,-587.5 603,-587.5 603,-587.5 725,-587.5 725,-587.5 731,-587.5 737,-593.5 737,-599.5 737,-599.5 737,-643.5 737,-643.5 737,-649.5 731,-655.5 725,-655.5\"/>\n<text text-anchor=\"middle\" x=\"664\" y=\"-640.3\" font-family=\"Helvetica,sans-Serif\" font-size=\"14.00\" fill=\"#000000\">gini = 0.0</text>\n<text text-anchor=\"middle\" x=\"664\" y=\"-625.3\" font-family=\"Helvetica,sans-Serif\" font-size=\"14.00\" fill=\"#000000\">samples = 2</text>\n<text text-anchor=\"middle\" x=\"664\" y=\"-610.3\" font-family=\"Helvetica,sans-Serif\" font-size=\"14.00\" fill=\"#000000\">value = [2, 0]</text>\n<text text-anchor=\"middle\" x=\"664\" y=\"-595.3\" font-family=\"Helvetica,sans-Serif\" font-size=\"14.00\" fill=\"#000000\">class = large_bloom</text>\n</g>\n<!-- 3&#45;&gt;17 -->\n<g id=\"edge17\" class=\"edge\">\n<title>3&#45;&gt;17</title>\n<path fill=\"none\" stroke=\"#000000\" d=\"M664,-698.8796C664,-688.2134 664,-676.7021 664,-665.9015\"/>\n<polygon fill=\"#000000\" stroke=\"#000000\" points=\"667.5001,-665.8149 664,-655.8149 660.5001,-665.815 667.5001,-665.8149\"/>\n</g>\n<!-- 5 -->\n<g id=\"node6\" class=\"node\">\n<title>5</title>\n<path fill=\"#ffffff\" stroke=\"#000000\" d=\"M451,-544C451,-544 329,-544 329,-544 323,-544 317,-538 317,-532 317,-532 317,-473 317,-473 317,-467 323,-461 329,-461 329,-461 451,-461 451,-461 457,-461 463,-467 463,-473 463,-473 463,-532 463,-532 463,-538 457,-544 451,-544\"/>\n<text text-anchor=\"middle\" x=\"390\" y=\"-528.8\" font-family=\"Helvetica,sans-Serif\" font-size=\"14.00\" fill=\"#000000\">river_ch &lt;= 0.0</text>\n<text text-anchor=\"middle\" x=\"390\" y=\"-513.8\" font-family=\"Helvetica,sans-Serif\" font-size=\"14.00\" fill=\"#000000\">gini = 0.5</text>\n<text text-anchor=\"middle\" x=\"390\" y=\"-498.8\" font-family=\"Helvetica,sans-Serif\" font-size=\"14.00\" fill=\"#000000\">samples = 6</text>\n<text text-anchor=\"middle\" x=\"390\" y=\"-483.8\" font-family=\"Helvetica,sans-Serif\" font-size=\"14.00\" fill=\"#000000\">value = [3, 3]</text>\n<text text-anchor=\"middle\" x=\"390\" y=\"-468.8\" font-family=\"Helvetica,sans-Serif\" font-size=\"14.00\" fill=\"#000000\">class = large_bloom</text>\n</g>\n<!-- 4&#45;&gt;5 -->\n<g id=\"edge5\" class=\"edge\">\n<title>4&#45;&gt;5</title>\n<path fill=\"none\" stroke=\"#000000\" d=\"M466.0791,-579.8796C457.047,-570.6931 447.3987,-560.8798 438.1112,-551.4336\"/>\n<polygon fill=\"#000000\" stroke=\"#000000\" points=\"440.6023,-548.975 431.0956,-544.2981 435.6107,-553.8827 440.6023,-548.975\"/>\n</g>\n<!-- 14 -->\n<g id=\"node15\" class=\"node\">\n<title>14</title>\n<path fill=\"#9ccef2\" stroke=\"#000000\" d=\"M600.5,-544C600.5,-544 493.5,-544 493.5,-544 487.5,-544 481.5,-538 481.5,-532 481.5,-532 481.5,-473 481.5,-473 481.5,-467 487.5,-461 493.5,-461 493.5,-461 600.5,-461 600.5,-461 606.5,-461 612.5,-467 612.5,-473 612.5,-473 612.5,-532 612.5,-532 612.5,-538 606.5,-544 600.5,-544\"/>\n<text text-anchor=\"middle\" x=\"547\" y=\"-528.8\" font-family=\"Helvetica,sans-Serif\" font-size=\"14.00\" fill=\"#000000\">river_ch &lt;= 0.0</text>\n<text text-anchor=\"middle\" x=\"547\" y=\"-513.8\" font-family=\"Helvetica,sans-Serif\" font-size=\"14.00\" fill=\"#000000\">gini = 0.444</text>\n<text text-anchor=\"middle\" x=\"547\" y=\"-498.8\" font-family=\"Helvetica,sans-Serif\" font-size=\"14.00\" fill=\"#000000\">samples = 3</text>\n<text text-anchor=\"middle\" x=\"547\" y=\"-483.8\" font-family=\"Helvetica,sans-Serif\" font-size=\"14.00\" fill=\"#000000\">value = [1, 2]</text>\n<text text-anchor=\"middle\" x=\"547\" y=\"-468.8\" font-family=\"Helvetica,sans-Serif\" font-size=\"14.00\" fill=\"#000000\">class = no_bloom</text>\n</g>\n<!-- 4&#45;&gt;14 -->\n<g id=\"edge14\" class=\"edge\">\n<title>4&#45;&gt;14</title>\n<path fill=\"none\" stroke=\"#000000\" d=\"M520.9901,-579.8796C523.8055,-571.5037 526.7961,-562.6067 529.7086,-553.942\"/>\n<polygon fill=\"#000000\" stroke=\"#000000\" points=\"533.0816,-554.8921 532.9502,-544.2981 526.4464,-552.6617 533.0816,-554.8921\"/>\n</g>\n<!-- 6 -->\n<g id=\"node7\" class=\"node\">\n<title>6</title>\n<path fill=\"#ffffff\" stroke=\"#000000\" d=\"M287,-425C287,-425 165,-425 165,-425 159,-425 153,-419 153,-413 153,-413 153,-354 153,-354 153,-348 159,-342 165,-342 165,-342 287,-342 287,-342 293,-342 299,-348 299,-354 299,-354 299,-413 299,-413 299,-419 293,-425 287,-425\"/>\n<text text-anchor=\"middle\" x=\"226\" y=\"-409.8\" font-family=\"Helvetica,sans-Serif\" font-size=\"14.00\" fill=\"#000000\">season &lt;= 1.5</text>\n<text text-anchor=\"middle\" x=\"226\" y=\"-394.8\" font-family=\"Helvetica,sans-Serif\" font-size=\"14.00\" fill=\"#000000\">gini = 0.5</text>\n<text text-anchor=\"middle\" x=\"226\" y=\"-379.8\" font-family=\"Helvetica,sans-Serif\" font-size=\"14.00\" fill=\"#000000\">samples = 2</text>\n<text text-anchor=\"middle\" x=\"226\" y=\"-364.8\" font-family=\"Helvetica,sans-Serif\" font-size=\"14.00\" fill=\"#000000\">value = [1, 1]</text>\n<text text-anchor=\"middle\" x=\"226\" y=\"-349.8\" font-family=\"Helvetica,sans-Serif\" font-size=\"14.00\" fill=\"#000000\">class = large_bloom</text>\n</g>\n<!-- 5&#45;&gt;6 -->\n<g id=\"edge6\" class=\"edge\">\n<title>5&#45;&gt;6</title>\n<path fill=\"none\" stroke=\"#000000\" d=\"M332.6408,-460.8796C319.4075,-451.2774 305.2303,-440.9903 291.6736,-431.1534\"/>\n<polygon fill=\"#000000\" stroke=\"#000000\" points=\"293.4762,-428.1371 283.3269,-425.0969 289.3651,-433.8027 293.4762,-428.1371\"/>\n</g>\n<!-- 9 -->\n<g id=\"node10\" class=\"node\">\n<title>9</title>\n<path fill=\"#ffffff\" stroke=\"#000000\" d=\"M451,-425C451,-425 329,-425 329,-425 323,-425 317,-419 317,-413 317,-413 317,-354 317,-354 317,-348 323,-342 329,-342 329,-342 451,-342 451,-342 457,-342 463,-348 463,-354 463,-354 463,-413 463,-413 463,-419 457,-425 451,-425\"/>\n<text text-anchor=\"middle\" x=\"390\" y=\"-409.8\" font-family=\"Helvetica,sans-Serif\" font-size=\"14.00\" fill=\"#000000\">season &lt;= 1.5</text>\n<text text-anchor=\"middle\" x=\"390\" y=\"-394.8\" font-family=\"Helvetica,sans-Serif\" font-size=\"14.00\" fill=\"#000000\">gini = 0.5</text>\n<text text-anchor=\"middle\" x=\"390\" y=\"-379.8\" font-family=\"Helvetica,sans-Serif\" font-size=\"14.00\" fill=\"#000000\">samples = 4</text>\n<text text-anchor=\"middle\" x=\"390\" y=\"-364.8\" font-family=\"Helvetica,sans-Serif\" font-size=\"14.00\" fill=\"#000000\">value = [2, 2]</text>\n<text text-anchor=\"middle\" x=\"390\" y=\"-349.8\" font-family=\"Helvetica,sans-Serif\" font-size=\"14.00\" fill=\"#000000\">class = large_bloom</text>\n</g>\n<!-- 5&#45;&gt;9 -->\n<g id=\"edge9\" class=\"edge\">\n<title>5&#45;&gt;9</title>\n<path fill=\"none\" stroke=\"#000000\" d=\"M390,-460.8796C390,-452.6838 390,-443.9891 390,-435.5013\"/>\n<polygon fill=\"#000000\" stroke=\"#000000\" points=\"393.5001,-435.298 390,-425.2981 386.5001,-435.2981 393.5001,-435.298\"/>\n</g>\n<!-- 7 -->\n<g id=\"node8\" class=\"node\">\n<title>7</title>\n<path fill=\"#e58139\" stroke=\"#000000\" d=\"M134,-298.5C134,-298.5 12,-298.5 12,-298.5 6,-298.5 0,-292.5 0,-286.5 0,-286.5 0,-242.5 0,-242.5 0,-236.5 6,-230.5 12,-230.5 12,-230.5 134,-230.5 134,-230.5 140,-230.5 146,-236.5 146,-242.5 146,-242.5 146,-286.5 146,-286.5 146,-292.5 140,-298.5 134,-298.5\"/>\n<text text-anchor=\"middle\" x=\"73\" y=\"-283.3\" font-family=\"Helvetica,sans-Serif\" font-size=\"14.00\" fill=\"#000000\">gini = 0.0</text>\n<text text-anchor=\"middle\" x=\"73\" y=\"-268.3\" font-family=\"Helvetica,sans-Serif\" font-size=\"14.00\" fill=\"#000000\">samples = 1</text>\n<text text-anchor=\"middle\" x=\"73\" y=\"-253.3\" font-family=\"Helvetica,sans-Serif\" font-size=\"14.00\" fill=\"#000000\">value = [1, 0]</text>\n<text text-anchor=\"middle\" x=\"73\" y=\"-238.3\" font-family=\"Helvetica,sans-Serif\" font-size=\"14.00\" fill=\"#000000\">class = large_bloom</text>\n</g>\n<!-- 6&#45;&gt;7 -->\n<g id=\"edge7\" class=\"edge\">\n<title>6&#45;&gt;7</title>\n<path fill=\"none\" stroke=\"#000000\" d=\"M172.488,-341.8796C157.2192,-330.0038 140.6034,-317.0804 125.4016,-305.2568\"/>\n<polygon fill=\"#000000\" stroke=\"#000000\" points=\"127.1616,-302.1916 117.1192,-298.8149 122.8639,-307.7171 127.1616,-302.1916\"/>\n</g>\n<!-- 8 -->\n<g id=\"node9\" class=\"node\">\n<title>8</title>\n<path fill=\"#399de5\" stroke=\"#000000\" d=\"M283.5,-298.5C283.5,-298.5 176.5,-298.5 176.5,-298.5 170.5,-298.5 164.5,-292.5 164.5,-286.5 164.5,-286.5 164.5,-242.5 164.5,-242.5 164.5,-236.5 170.5,-230.5 176.5,-230.5 176.5,-230.5 283.5,-230.5 283.5,-230.5 289.5,-230.5 295.5,-236.5 295.5,-242.5 295.5,-242.5 295.5,-286.5 295.5,-286.5 295.5,-292.5 289.5,-298.5 283.5,-298.5\"/>\n<text text-anchor=\"middle\" x=\"230\" y=\"-283.3\" font-family=\"Helvetica,sans-Serif\" font-size=\"14.00\" fill=\"#000000\">gini = 0.0</text>\n<text text-anchor=\"middle\" x=\"230\" y=\"-268.3\" font-family=\"Helvetica,sans-Serif\" font-size=\"14.00\" fill=\"#000000\">samples = 1</text>\n<text text-anchor=\"middle\" x=\"230\" y=\"-253.3\" font-family=\"Helvetica,sans-Serif\" font-size=\"14.00\" fill=\"#000000\">value = [0, 1]</text>\n<text text-anchor=\"middle\" x=\"230\" y=\"-238.3\" font-family=\"Helvetica,sans-Serif\" font-size=\"14.00\" fill=\"#000000\">class = no_bloom</text>\n</g>\n<!-- 6&#45;&gt;8 -->\n<g id=\"edge8\" class=\"edge\">\n<title>6&#45;&gt;8</title>\n<path fill=\"none\" stroke=\"#000000\" d=\"M227.399,-341.8796C227.7575,-331.2134 228.1445,-319.7021 228.5075,-308.9015\"/>\n<polygon fill=\"#000000\" stroke=\"#000000\" points=\"232.0085,-308.9269 228.8466,-298.8149 225.0125,-308.6917 232.0085,-308.9269\"/>\n</g>\n<!-- 10 -->\n<g id=\"node11\" class=\"node\">\n<title>10</title>\n<path fill=\"#9ccef2\" stroke=\"#000000\" d=\"M439.5,-306C439.5,-306 332.5,-306 332.5,-306 326.5,-306 320.5,-300 320.5,-294 320.5,-294 320.5,-235 320.5,-235 320.5,-229 326.5,-223 332.5,-223 332.5,-223 439.5,-223 439.5,-223 445.5,-223 451.5,-229 451.5,-235 451.5,-235 451.5,-294 451.5,-294 451.5,-300 445.5,-306 439.5,-306\"/>\n<text text-anchor=\"middle\" x=\"386\" y=\"-290.8\" font-family=\"Helvetica,sans-Serif\" font-size=\"14.00\" fill=\"#000000\">river_pc &lt;= 0.0</text>\n<text text-anchor=\"middle\" x=\"386\" y=\"-275.8\" font-family=\"Helvetica,sans-Serif\" font-size=\"14.00\" fill=\"#000000\">gini = 0.444</text>\n<text text-anchor=\"middle\" x=\"386\" y=\"-260.8\" font-family=\"Helvetica,sans-Serif\" font-size=\"14.00\" fill=\"#000000\">samples = 3</text>\n<text text-anchor=\"middle\" x=\"386\" y=\"-245.8\" font-family=\"Helvetica,sans-Serif\" font-size=\"14.00\" fill=\"#000000\">value = [1, 2]</text>\n<text text-anchor=\"middle\" x=\"386\" y=\"-230.8\" font-family=\"Helvetica,sans-Serif\" font-size=\"14.00\" fill=\"#000000\">class = no_bloom</text>\n</g>\n<!-- 9&#45;&gt;10 -->\n<g id=\"edge10\" class=\"edge\">\n<title>9&#45;&gt;10</title>\n<path fill=\"none\" stroke=\"#000000\" d=\"M388.601,-341.8796C388.3255,-333.6838 388.0332,-324.9891 387.7479,-316.5013\"/>\n<polygon fill=\"#000000\" stroke=\"#000000\" points=\"391.239,-316.1748 387.405,-306.2981 384.243,-316.41 391.239,-316.1748\"/>\n</g>\n<!-- 13 -->\n<g id=\"node14\" class=\"node\">\n<title>13</title>\n<path fill=\"#e58139\" stroke=\"#000000\" d=\"M604,-298.5C604,-298.5 482,-298.5 482,-298.5 476,-298.5 470,-292.5 470,-286.5 470,-286.5 470,-242.5 470,-242.5 470,-236.5 476,-230.5 482,-230.5 482,-230.5 604,-230.5 604,-230.5 610,-230.5 616,-236.5 616,-242.5 616,-242.5 616,-286.5 616,-286.5 616,-292.5 610,-298.5 604,-298.5\"/>\n<text text-anchor=\"middle\" x=\"543\" y=\"-283.3\" font-family=\"Helvetica,sans-Serif\" font-size=\"14.00\" fill=\"#000000\">gini = 0.0</text>\n<text text-anchor=\"middle\" x=\"543\" y=\"-268.3\" font-family=\"Helvetica,sans-Serif\" font-size=\"14.00\" fill=\"#000000\">samples = 1</text>\n<text text-anchor=\"middle\" x=\"543\" y=\"-253.3\" font-family=\"Helvetica,sans-Serif\" font-size=\"14.00\" fill=\"#000000\">value = [1, 0]</text>\n<text text-anchor=\"middle\" x=\"543\" y=\"-238.3\" font-family=\"Helvetica,sans-Serif\" font-size=\"14.00\" fill=\"#000000\">class = large_bloom</text>\n</g>\n<!-- 9&#45;&gt;13 -->\n<g id=\"edge13\" class=\"edge\">\n<title>9&#45;&gt;13</title>\n<path fill=\"none\" stroke=\"#000000\" d=\"M443.512,-341.8796C458.7808,-330.0038 475.3966,-317.0804 490.5984,-305.2568\"/>\n<polygon fill=\"#000000\" stroke=\"#000000\" points=\"493.1361,-307.7171 498.8808,-298.8149 488.8384,-302.1916 493.1361,-307.7171\"/>\n</g>\n<!-- 11 -->\n<g id=\"node12\" class=\"node\">\n<title>11</title>\n<path fill=\"#399de5\" stroke=\"#000000\" d=\"M360.5,-179.5C360.5,-179.5 253.5,-179.5 253.5,-179.5 247.5,-179.5 241.5,-173.5 241.5,-167.5 241.5,-167.5 241.5,-123.5 241.5,-123.5 241.5,-117.5 247.5,-111.5 253.5,-111.5 253.5,-111.5 360.5,-111.5 360.5,-111.5 366.5,-111.5 372.5,-117.5 372.5,-123.5 372.5,-123.5 372.5,-167.5 372.5,-167.5 372.5,-173.5 366.5,-179.5 360.5,-179.5\"/>\n<text text-anchor=\"middle\" x=\"307\" y=\"-164.3\" font-family=\"Helvetica,sans-Serif\" font-size=\"14.00\" fill=\"#000000\">gini = 0.0</text>\n<text text-anchor=\"middle\" x=\"307\" y=\"-149.3\" font-family=\"Helvetica,sans-Serif\" font-size=\"14.00\" fill=\"#000000\">samples = 1</text>\n<text text-anchor=\"middle\" x=\"307\" y=\"-134.3\" font-family=\"Helvetica,sans-Serif\" font-size=\"14.00\" fill=\"#000000\">value = [0, 1]</text>\n<text text-anchor=\"middle\" x=\"307\" y=\"-119.3\" font-family=\"Helvetica,sans-Serif\" font-size=\"14.00\" fill=\"#000000\">class = no_bloom</text>\n</g>\n<!-- 10&#45;&gt;11 -->\n<g id=\"edge11\" class=\"edge\">\n<title>10&#45;&gt;11</title>\n<path fill=\"none\" stroke=\"#000000\" d=\"M358.3696,-222.8796C350.9237,-211.6636 342.8575,-199.5131 335.3718,-188.2372\"/>\n<polygon fill=\"#000000\" stroke=\"#000000\" points=\"338.2273,-186.2104 329.7805,-179.8149 332.3954,-190.082 338.2273,-186.2104\"/>\n</g>\n<!-- 12 -->\n<g id=\"node13\" class=\"node\">\n<title>12</title>\n<path fill=\"#ffffff\" stroke=\"#000000\" d=\"M525,-179.5C525,-179.5 403,-179.5 403,-179.5 397,-179.5 391,-173.5 391,-167.5 391,-167.5 391,-123.5 391,-123.5 391,-117.5 397,-111.5 403,-111.5 403,-111.5 525,-111.5 525,-111.5 531,-111.5 537,-117.5 537,-123.5 537,-123.5 537,-167.5 537,-167.5 537,-173.5 531,-179.5 525,-179.5\"/>\n<text text-anchor=\"middle\" x=\"464\" y=\"-164.3\" font-family=\"Helvetica,sans-Serif\" font-size=\"14.00\" fill=\"#000000\">gini = 0.5</text>\n<text text-anchor=\"middle\" x=\"464\" y=\"-149.3\" font-family=\"Helvetica,sans-Serif\" font-size=\"14.00\" fill=\"#000000\">samples = 2</text>\n<text text-anchor=\"middle\" x=\"464\" y=\"-134.3\" font-family=\"Helvetica,sans-Serif\" font-size=\"14.00\" fill=\"#000000\">value = [1, 1]</text>\n<text text-anchor=\"middle\" x=\"464\" y=\"-119.3\" font-family=\"Helvetica,sans-Serif\" font-size=\"14.00\" fill=\"#000000\">class = large_bloom</text>\n</g>\n<!-- 10&#45;&gt;12 -->\n<g id=\"edge12\" class=\"edge\">\n<title>10&#45;&gt;12</title>\n<path fill=\"none\" stroke=\"#000000\" d=\"M413.2806,-222.8796C420.6323,-211.6636 428.5964,-199.5131 435.9874,-188.2372\"/>\n<polygon fill=\"#000000\" stroke=\"#000000\" points=\"438.9531,-190.0972 441.5079,-179.8149 433.0986,-186.2598 438.9531,-190.0972\"/>\n</g>\n<!-- 15 -->\n<g id=\"node16\" class=\"node\">\n<title>15</title>\n<path fill=\"#399de5\" stroke=\"#000000\" d=\"M600.5,-417.5C600.5,-417.5 493.5,-417.5 493.5,-417.5 487.5,-417.5 481.5,-411.5 481.5,-405.5 481.5,-405.5 481.5,-361.5 481.5,-361.5 481.5,-355.5 487.5,-349.5 493.5,-349.5 493.5,-349.5 600.5,-349.5 600.5,-349.5 606.5,-349.5 612.5,-355.5 612.5,-361.5 612.5,-361.5 612.5,-405.5 612.5,-405.5 612.5,-411.5 606.5,-417.5 600.5,-417.5\"/>\n<text text-anchor=\"middle\" x=\"547\" y=\"-402.3\" font-family=\"Helvetica,sans-Serif\" font-size=\"14.00\" fill=\"#000000\">gini = 0.0</text>\n<text text-anchor=\"middle\" x=\"547\" y=\"-387.3\" font-family=\"Helvetica,sans-Serif\" font-size=\"14.00\" fill=\"#000000\">samples = 1</text>\n<text text-anchor=\"middle\" x=\"547\" y=\"-372.3\" font-family=\"Helvetica,sans-Serif\" font-size=\"14.00\" fill=\"#000000\">value = [0, 1]</text>\n<text text-anchor=\"middle\" x=\"547\" y=\"-357.3\" font-family=\"Helvetica,sans-Serif\" font-size=\"14.00\" fill=\"#000000\">class = no_bloom</text>\n</g>\n<!-- 14&#45;&gt;15 -->\n<g id=\"edge15\" class=\"edge\">\n<title>14&#45;&gt;15</title>\n<path fill=\"none\" stroke=\"#000000\" d=\"M547,-460.8796C547,-450.2134 547,-438.7021 547,-427.9015\"/>\n<polygon fill=\"#000000\" stroke=\"#000000\" points=\"550.5001,-427.8149 547,-417.8149 543.5001,-427.815 550.5001,-427.8149\"/>\n</g>\n<!-- 16 -->\n<g id=\"node17\" class=\"node\">\n<title>16</title>\n<path fill=\"#ffffff\" stroke=\"#000000\" d=\"M765,-417.5C765,-417.5 643,-417.5 643,-417.5 637,-417.5 631,-411.5 631,-405.5 631,-405.5 631,-361.5 631,-361.5 631,-355.5 637,-349.5 643,-349.5 643,-349.5 765,-349.5 765,-349.5 771,-349.5 777,-355.5 777,-361.5 777,-361.5 777,-405.5 777,-405.5 777,-411.5 771,-417.5 765,-417.5\"/>\n<text text-anchor=\"middle\" x=\"704\" y=\"-402.3\" font-family=\"Helvetica,sans-Serif\" font-size=\"14.00\" fill=\"#000000\">gini = 0.5</text>\n<text text-anchor=\"middle\" x=\"704\" y=\"-387.3\" font-family=\"Helvetica,sans-Serif\" font-size=\"14.00\" fill=\"#000000\">samples = 2</text>\n<text text-anchor=\"middle\" x=\"704\" y=\"-372.3\" font-family=\"Helvetica,sans-Serif\" font-size=\"14.00\" fill=\"#000000\">value = [1, 1]</text>\n<text text-anchor=\"middle\" x=\"704\" y=\"-357.3\" font-family=\"Helvetica,sans-Serif\" font-size=\"14.00\" fill=\"#000000\">class = large_bloom</text>\n</g>\n<!-- 14&#45;&gt;16 -->\n<g id=\"edge16\" class=\"edge\">\n<title>14&#45;&gt;16</title>\n<path fill=\"none\" stroke=\"#000000\" d=\"M601.911,-460.8796C617.7994,-448.8368 635.1091,-435.7167 650.8857,-423.7586\"/>\n<polygon fill=\"#000000\" stroke=\"#000000\" points=\"653.1253,-426.4529 658.9805,-417.623 648.8969,-420.8743 653.1253,-426.4529\"/>\n</g>\n<!-- 19 -->\n<g id=\"node20\" class=\"node\">\n<title>19</title>\n<path fill=\"#b5daf5\" stroke=\"#000000\" d=\"M874.5,-663C874.5,-663 767.5,-663 767.5,-663 761.5,-663 755.5,-657 755.5,-651 755.5,-651 755.5,-592 755.5,-592 755.5,-586 761.5,-580 767.5,-580 767.5,-580 874.5,-580 874.5,-580 880.5,-580 886.5,-586 886.5,-592 886.5,-592 886.5,-651 886.5,-651 886.5,-657 880.5,-663 874.5,-663\"/>\n<text text-anchor=\"middle\" x=\"821\" y=\"-647.8\" font-family=\"Helvetica,sans-Serif\" font-size=\"14.00\" fill=\"#000000\">season &lt;= 1.5</text>\n<text text-anchor=\"middle\" x=\"821\" y=\"-632.8\" font-family=\"Helvetica,sans-Serif\" font-size=\"14.00\" fill=\"#000000\">gini = 0.473</text>\n<text text-anchor=\"middle\" x=\"821\" y=\"-617.8\" font-family=\"Helvetica,sans-Serif\" font-size=\"14.00\" fill=\"#000000\">samples = 13</text>\n<text text-anchor=\"middle\" x=\"821\" y=\"-602.8\" font-family=\"Helvetica,sans-Serif\" font-size=\"14.00\" fill=\"#000000\">value = [5, 8]</text>\n<text text-anchor=\"middle\" x=\"821\" y=\"-587.8\" font-family=\"Helvetica,sans-Serif\" font-size=\"14.00\" fill=\"#000000\">class = no_bloom</text>\n</g>\n<!-- 18&#45;&gt;19 -->\n<g id=\"edge19\" class=\"edge\">\n<title>18&#45;&gt;19</title>\n<path fill=\"none\" stroke=\"#000000\" d=\"M821,-698.8796C821,-690.6838 821,-681.9891 821,-673.5013\"/>\n<polygon fill=\"#000000\" stroke=\"#000000\" points=\"824.5001,-673.298 821,-663.2981 817.5001,-673.2981 824.5001,-673.298\"/>\n</g>\n<!-- 30 -->\n<g id=\"node31\" class=\"node\">\n<title>30</title>\n<path fill=\"#399de5\" stroke=\"#000000\" d=\"M1023.5,-655.5C1023.5,-655.5 916.5,-655.5 916.5,-655.5 910.5,-655.5 904.5,-649.5 904.5,-643.5 904.5,-643.5 904.5,-599.5 904.5,-599.5 904.5,-593.5 910.5,-587.5 916.5,-587.5 916.5,-587.5 1023.5,-587.5 1023.5,-587.5 1029.5,-587.5 1035.5,-593.5 1035.5,-599.5 1035.5,-599.5 1035.5,-643.5 1035.5,-643.5 1035.5,-649.5 1029.5,-655.5 1023.5,-655.5\"/>\n<text text-anchor=\"middle\" x=\"970\" y=\"-640.3\" font-family=\"Helvetica,sans-Serif\" font-size=\"14.00\" fill=\"#000000\">gini = 0.0</text>\n<text text-anchor=\"middle\" x=\"970\" y=\"-625.3\" font-family=\"Helvetica,sans-Serif\" font-size=\"14.00\" fill=\"#000000\">samples = 11</text>\n<text text-anchor=\"middle\" x=\"970\" y=\"-610.3\" font-family=\"Helvetica,sans-Serif\" font-size=\"14.00\" fill=\"#000000\">value = [0, 11]</text>\n<text text-anchor=\"middle\" x=\"970\" y=\"-595.3\" font-family=\"Helvetica,sans-Serif\" font-size=\"14.00\" fill=\"#000000\">class = no_bloom</text>\n</g>\n<!-- 18&#45;&gt;30 -->\n<g id=\"edge30\" class=\"edge\">\n<title>18&#45;&gt;30</title>\n<path fill=\"none\" stroke=\"#000000\" d=\"M873.113,-698.8796C887.9826,-687.0038 904.164,-674.0804 918.9683,-662.2568\"/>\n<polygon fill=\"#000000\" stroke=\"#000000\" points=\"921.4046,-664.7904 927.0342,-655.8149 917.0362,-659.3207 921.4046,-664.7904\"/>\n</g>\n<!-- 20 -->\n<g id=\"node21\" class=\"node\">\n<title>20</title>\n<path fill=\"#e58139\" stroke=\"#000000\" d=\"M843,-536.5C843,-536.5 721,-536.5 721,-536.5 715,-536.5 709,-530.5 709,-524.5 709,-524.5 709,-480.5 709,-480.5 709,-474.5 715,-468.5 721,-468.5 721,-468.5 843,-468.5 843,-468.5 849,-468.5 855,-474.5 855,-480.5 855,-480.5 855,-524.5 855,-524.5 855,-530.5 849,-536.5 843,-536.5\"/>\n<text text-anchor=\"middle\" x=\"782\" y=\"-521.3\" font-family=\"Helvetica,sans-Serif\" font-size=\"14.00\" fill=\"#000000\">gini = 0.0</text>\n<text text-anchor=\"middle\" x=\"782\" y=\"-506.3\" font-family=\"Helvetica,sans-Serif\" font-size=\"14.00\" fill=\"#000000\">samples = 1</text>\n<text text-anchor=\"middle\" x=\"782\" y=\"-491.3\" font-family=\"Helvetica,sans-Serif\" font-size=\"14.00\" fill=\"#000000\">value = [1, 0]</text>\n<text text-anchor=\"middle\" x=\"782\" y=\"-476.3\" font-family=\"Helvetica,sans-Serif\" font-size=\"14.00\" fill=\"#000000\">class = large_bloom</text>\n</g>\n<!-- 19&#45;&gt;20 -->\n<g id=\"edge20\" class=\"edge\">\n<title>19&#45;&gt;20</title>\n<path fill=\"none\" stroke=\"#000000\" d=\"M807.3597,-579.8796C803.828,-569.1034 800.0136,-557.4647 796.4424,-546.5677\"/>\n<polygon fill=\"#000000\" stroke=\"#000000\" points=\"799.6864,-545.2276 793.2461,-536.8149 793.0345,-547.4077 799.6864,-545.2276\"/>\n</g>\n<!-- 21 -->\n<g id=\"node22\" class=\"node\">\n<title>21</title>\n<path fill=\"#9ccef2\" stroke=\"#000000\" d=\"M992.5,-544C992.5,-544 885.5,-544 885.5,-544 879.5,-544 873.5,-538 873.5,-532 873.5,-532 873.5,-473 873.5,-473 873.5,-467 879.5,-461 885.5,-461 885.5,-461 992.5,-461 992.5,-461 998.5,-461 1004.5,-467 1004.5,-473 1004.5,-473 1004.5,-532 1004.5,-532 1004.5,-538 998.5,-544 992.5,-544\"/>\n<text text-anchor=\"middle\" x=\"939\" y=\"-528.8\" font-family=\"Helvetica,sans-Serif\" font-size=\"14.00\" fill=\"#000000\">season &lt;= 3.5</text>\n<text text-anchor=\"middle\" x=\"939\" y=\"-513.8\" font-family=\"Helvetica,sans-Serif\" font-size=\"14.00\" fill=\"#000000\">gini = 0.444</text>\n<text text-anchor=\"middle\" x=\"939\" y=\"-498.8\" font-family=\"Helvetica,sans-Serif\" font-size=\"14.00\" fill=\"#000000\">samples = 12</text>\n<text text-anchor=\"middle\" x=\"939\" y=\"-483.8\" font-family=\"Helvetica,sans-Serif\" font-size=\"14.00\" fill=\"#000000\">value = [4, 8]</text>\n<text text-anchor=\"middle\" x=\"939\" y=\"-468.8\" font-family=\"Helvetica,sans-Serif\" font-size=\"14.00\" fill=\"#000000\">class = no_bloom</text>\n</g>\n<!-- 19&#45;&gt;21 -->\n<g id=\"edge21\" class=\"edge\">\n<title>19&#45;&gt;21</title>\n<path fill=\"none\" stroke=\"#000000\" d=\"M862.2707,-579.8796C871.3799,-570.6931 881.1108,-560.8798 890.4776,-551.4336\"/>\n<polygon fill=\"#000000\" stroke=\"#000000\" points=\"892.9973,-553.8634 897.5532,-544.2981 888.0267,-548.9345 892.9973,-553.8634\"/>\n</g>\n<!-- 22 -->\n<g id=\"node23\" class=\"node\">\n<title>22</title>\n<path fill=\"#83c2ef\" stroke=\"#000000\" d=\"M953.5,-425C953.5,-425 846.5,-425 846.5,-425 840.5,-425 834.5,-419 834.5,-413 834.5,-413 834.5,-354 834.5,-354 834.5,-348 840.5,-342 846.5,-342 846.5,-342 953.5,-342 953.5,-342 959.5,-342 965.5,-348 965.5,-354 965.5,-354 965.5,-413 965.5,-413 965.5,-419 959.5,-425 953.5,-425\"/>\n<text text-anchor=\"middle\" x=\"900\" y=\"-409.8\" font-family=\"Helvetica,sans-Serif\" font-size=\"14.00\" fill=\"#000000\">river_ch &lt;= 0.0</text>\n<text text-anchor=\"middle\" x=\"900\" y=\"-394.8\" font-family=\"Helvetica,sans-Serif\" font-size=\"14.00\" fill=\"#000000\">gini = 0.397</text>\n<text text-anchor=\"middle\" x=\"900\" y=\"-379.8\" font-family=\"Helvetica,sans-Serif\" font-size=\"14.00\" fill=\"#000000\">samples = 11</text>\n<text text-anchor=\"middle\" x=\"900\" y=\"-364.8\" font-family=\"Helvetica,sans-Serif\" font-size=\"14.00\" fill=\"#000000\">value = [3, 8]</text>\n<text text-anchor=\"middle\" x=\"900\" y=\"-349.8\" font-family=\"Helvetica,sans-Serif\" font-size=\"14.00\" fill=\"#000000\">class = no_bloom</text>\n</g>\n<!-- 21&#45;&gt;22 -->\n<g id=\"edge22\" class=\"edge\">\n<title>21&#45;&gt;22</title>\n<path fill=\"none\" stroke=\"#000000\" d=\"M925.3597,-460.8796C922.6147,-452.5037 919.6988,-443.6067 916.8591,-434.942\"/>\n<polygon fill=\"#000000\" stroke=\"#000000\" points=\"920.1389,-433.7107 913.6985,-425.2981 913.487,-435.8908 920.1389,-433.7107\"/>\n</g>\n<!-- 29 -->\n<g id=\"node30\" class=\"node\">\n<title>29</title>\n<path fill=\"#e58139\" stroke=\"#000000\" d=\"M1118,-417.5C1118,-417.5 996,-417.5 996,-417.5 990,-417.5 984,-411.5 984,-405.5 984,-405.5 984,-361.5 984,-361.5 984,-355.5 990,-349.5 996,-349.5 996,-349.5 1118,-349.5 1118,-349.5 1124,-349.5 1130,-355.5 1130,-361.5 1130,-361.5 1130,-405.5 1130,-405.5 1130,-411.5 1124,-417.5 1118,-417.5\"/>\n<text text-anchor=\"middle\" x=\"1057\" y=\"-402.3\" font-family=\"Helvetica,sans-Serif\" font-size=\"14.00\" fill=\"#000000\">gini = 0.0</text>\n<text text-anchor=\"middle\" x=\"1057\" y=\"-387.3\" font-family=\"Helvetica,sans-Serif\" font-size=\"14.00\" fill=\"#000000\">samples = 1</text>\n<text text-anchor=\"middle\" x=\"1057\" y=\"-372.3\" font-family=\"Helvetica,sans-Serif\" font-size=\"14.00\" fill=\"#000000\">value = [1, 0]</text>\n<text text-anchor=\"middle\" x=\"1057\" y=\"-357.3\" font-family=\"Helvetica,sans-Serif\" font-size=\"14.00\" fill=\"#000000\">class = large_bloom</text>\n</g>\n<!-- 21&#45;&gt;29 -->\n<g id=\"edge29\" class=\"edge\">\n<title>21&#45;&gt;29</title>\n<path fill=\"none\" stroke=\"#000000\" d=\"M980.2707,-460.8796C991.7195,-449.3337 1004.1503,-436.7976 1015.6062,-425.2446\"/>\n<polygon fill=\"#000000\" stroke=\"#000000\" points=\"1018.4175,-427.3802 1022.9734,-417.8149 1013.4469,-422.4514 1018.4175,-427.3802\"/>\n</g>\n<!-- 23 -->\n<g id=\"node24\" class=\"node\">\n<title>23</title>\n<path fill=\"#cee6f8\" stroke=\"#000000\" d=\"M878.5,-306C878.5,-306 771.5,-306 771.5,-306 765.5,-306 759.5,-300 759.5,-294 759.5,-294 759.5,-235 759.5,-235 759.5,-229 765.5,-223 771.5,-223 771.5,-223 878.5,-223 878.5,-223 884.5,-223 890.5,-229 890.5,-235 890.5,-235 890.5,-294 890.5,-294 890.5,-300 884.5,-306 878.5,-306\"/>\n<text text-anchor=\"middle\" x=\"825\" y=\"-290.8\" font-family=\"Helvetica,sans-Serif\" font-size=\"14.00\" fill=\"#000000\">wind_os &lt;= 0.5</text>\n<text text-anchor=\"middle\" x=\"825\" y=\"-275.8\" font-family=\"Helvetica,sans-Serif\" font-size=\"14.00\" fill=\"#000000\">gini = 0.49</text>\n<text text-anchor=\"middle\" x=\"825\" y=\"-260.8\" font-family=\"Helvetica,sans-Serif\" font-size=\"14.00\" fill=\"#000000\">samples = 7</text>\n<text text-anchor=\"middle\" x=\"825\" y=\"-245.8\" font-family=\"Helvetica,sans-Serif\" font-size=\"14.00\" fill=\"#000000\">value = [3, 4]</text>\n<text text-anchor=\"middle\" x=\"825\" y=\"-230.8\" font-family=\"Helvetica,sans-Serif\" font-size=\"14.00\" fill=\"#000000\">class = no_bloom</text>\n</g>\n<!-- 22&#45;&gt;23 -->\n<g id=\"edge23\" class=\"edge\">\n<title>22&#45;&gt;23</title>\n<path fill=\"none\" stroke=\"#000000\" d=\"M873.7686,-341.8796C868.2627,-333.1434 862.3994,-323.8404 856.7176,-314.8253\"/>\n<polygon fill=\"#000000\" stroke=\"#000000\" points=\"859.6363,-312.8919 851.3433,-306.2981 853.7143,-316.6242 859.6363,-312.8919\"/>\n</g>\n<!-- 28 -->\n<g id=\"node29\" class=\"node\">\n<title>28</title>\n<path fill=\"#399de5\" stroke=\"#000000\" d=\"M1027.5,-298.5C1027.5,-298.5 920.5,-298.5 920.5,-298.5 914.5,-298.5 908.5,-292.5 908.5,-286.5 908.5,-286.5 908.5,-242.5 908.5,-242.5 908.5,-236.5 914.5,-230.5 920.5,-230.5 920.5,-230.5 1027.5,-230.5 1027.5,-230.5 1033.5,-230.5 1039.5,-236.5 1039.5,-242.5 1039.5,-242.5 1039.5,-286.5 1039.5,-286.5 1039.5,-292.5 1033.5,-298.5 1027.5,-298.5\"/>\n<text text-anchor=\"middle\" x=\"974\" y=\"-283.3\" font-family=\"Helvetica,sans-Serif\" font-size=\"14.00\" fill=\"#000000\">gini = 0.0</text>\n<text text-anchor=\"middle\" x=\"974\" y=\"-268.3\" font-family=\"Helvetica,sans-Serif\" font-size=\"14.00\" fill=\"#000000\">samples = 4</text>\n<text text-anchor=\"middle\" x=\"974\" y=\"-253.3\" font-family=\"Helvetica,sans-Serif\" font-size=\"14.00\" fill=\"#000000\">value = [0, 4]</text>\n<text text-anchor=\"middle\" x=\"974\" y=\"-238.3\" font-family=\"Helvetica,sans-Serif\" font-size=\"14.00\" fill=\"#000000\">class = no_bloom</text>\n</g>\n<!-- 22&#45;&gt;28 -->\n<g id=\"edge28\" class=\"edge\">\n<title>22&#45;&gt;28</title>\n<path fill=\"none\" stroke=\"#000000\" d=\"M925.8816,-341.8796C932.7879,-330.7735 940.2639,-318.7513 947.2175,-307.5691\"/>\n<polygon fill=\"#000000\" stroke=\"#000000\" points=\"950.3527,-309.1552 952.6613,-298.8149 944.4083,-305.4587 950.3527,-309.1552\"/>\n</g>\n<!-- 24 -->\n<g id=\"node25\" class=\"node\">\n<title>24</title>\n<path fill=\"#e58139\" stroke=\"#000000\" d=\"M807,-179.5C807,-179.5 685,-179.5 685,-179.5 679,-179.5 673,-173.5 673,-167.5 673,-167.5 673,-123.5 673,-123.5 673,-117.5 679,-111.5 685,-111.5 685,-111.5 807,-111.5 807,-111.5 813,-111.5 819,-117.5 819,-123.5 819,-123.5 819,-167.5 819,-167.5 819,-173.5 813,-179.5 807,-179.5\"/>\n<text text-anchor=\"middle\" x=\"746\" y=\"-164.3\" font-family=\"Helvetica,sans-Serif\" font-size=\"14.00\" fill=\"#000000\">gini = 0.0</text>\n<text text-anchor=\"middle\" x=\"746\" y=\"-149.3\" font-family=\"Helvetica,sans-Serif\" font-size=\"14.00\" fill=\"#000000\">samples = 1</text>\n<text text-anchor=\"middle\" x=\"746\" y=\"-134.3\" font-family=\"Helvetica,sans-Serif\" font-size=\"14.00\" fill=\"#000000\">value = [1, 0]</text>\n<text text-anchor=\"middle\" x=\"746\" y=\"-119.3\" font-family=\"Helvetica,sans-Serif\" font-size=\"14.00\" fill=\"#000000\">class = large_bloom</text>\n</g>\n<!-- 23&#45;&gt;24 -->\n<g id=\"edge24\" class=\"edge\">\n<title>23&#45;&gt;24</title>\n<path fill=\"none\" stroke=\"#000000\" d=\"M797.3696,-222.8796C789.9237,-211.6636 781.8575,-199.5131 774.3718,-188.2372\"/>\n<polygon fill=\"#000000\" stroke=\"#000000\" points=\"777.2273,-186.2104 768.7805,-179.8149 771.3954,-190.082 777.2273,-186.2104\"/>\n</g>\n<!-- 25 -->\n<g id=\"node26\" class=\"node\">\n<title>25</title>\n<path fill=\"#9ccef2\" stroke=\"#000000\" d=\"M956.5,-187C956.5,-187 849.5,-187 849.5,-187 843.5,-187 837.5,-181 837.5,-175 837.5,-175 837.5,-116 837.5,-116 837.5,-110 843.5,-104 849.5,-104 849.5,-104 956.5,-104 956.5,-104 962.5,-104 968.5,-110 968.5,-116 968.5,-116 968.5,-175 968.5,-175 968.5,-181 962.5,-187 956.5,-187\"/>\n<text text-anchor=\"middle\" x=\"903\" y=\"-171.8\" font-family=\"Helvetica,sans-Serif\" font-size=\"14.00\" fill=\"#000000\">season &lt;= 2.5</text>\n<text text-anchor=\"middle\" x=\"903\" y=\"-156.8\" font-family=\"Helvetica,sans-Serif\" font-size=\"14.00\" fill=\"#000000\">gini = 0.444</text>\n<text text-anchor=\"middle\" x=\"903\" y=\"-141.8\" font-family=\"Helvetica,sans-Serif\" font-size=\"14.00\" fill=\"#000000\">samples = 6</text>\n<text text-anchor=\"middle\" x=\"903\" y=\"-126.8\" font-family=\"Helvetica,sans-Serif\" font-size=\"14.00\" fill=\"#000000\">value = [2, 4]</text>\n<text text-anchor=\"middle\" x=\"903\" y=\"-111.8\" font-family=\"Helvetica,sans-Serif\" font-size=\"14.00\" fill=\"#000000\">class = no_bloom</text>\n</g>\n<!-- 23&#45;&gt;25 -->\n<g id=\"edge25\" class=\"edge\">\n<title>23&#45;&gt;25</title>\n<path fill=\"none\" stroke=\"#000000\" d=\"M852.2806,-222.8796C858.0068,-214.1434 864.1046,-204.8404 870.0137,-195.8253\"/>\n<polygon fill=\"#000000\" stroke=\"#000000\" points=\"873.0482,-197.5803 875.6029,-187.2981 867.1937,-193.7429 873.0482,-197.5803\"/>\n</g>\n<!-- 26 -->\n<g id=\"node27\" class=\"node\">\n<title>26</title>\n<path fill=\"#9ccef2\" stroke=\"#000000\" d=\"M881.5,-68C881.5,-68 774.5,-68 774.5,-68 768.5,-68 762.5,-62 762.5,-56 762.5,-56 762.5,-12 762.5,-12 762.5,-6 768.5,0 774.5,0 774.5,0 881.5,0 881.5,0 887.5,0 893.5,-6 893.5,-12 893.5,-12 893.5,-56 893.5,-56 893.5,-62 887.5,-68 881.5,-68\"/>\n<text text-anchor=\"middle\" x=\"828\" y=\"-52.8\" font-family=\"Helvetica,sans-Serif\" font-size=\"14.00\" fill=\"#000000\">gini = 0.444</text>\n<text text-anchor=\"middle\" x=\"828\" y=\"-37.8\" font-family=\"Helvetica,sans-Serif\" font-size=\"14.00\" fill=\"#000000\">samples = 3</text>\n<text text-anchor=\"middle\" x=\"828\" y=\"-22.8\" font-family=\"Helvetica,sans-Serif\" font-size=\"14.00\" fill=\"#000000\">value = [1, 2]</text>\n<text text-anchor=\"middle\" x=\"828\" y=\"-7.8\" font-family=\"Helvetica,sans-Serif\" font-size=\"14.00\" fill=\"#000000\">class = no_bloom</text>\n</g>\n<!-- 25&#45;&gt;26 -->\n<g id=\"edge26\" class=\"edge\">\n<title>25&#45;&gt;26</title>\n<path fill=\"none\" stroke=\"#000000\" d=\"M875.0728,-103.9815C869.0762,-95.0666 862.7296,-85.6313 856.7041,-76.6734\"/>\n<polygon fill=\"#000000\" stroke=\"#000000\" points=\"859.5328,-74.6078 851.0473,-68.2637 853.7245,-78.5147 859.5328,-74.6078\"/>\n</g>\n<!-- 27 -->\n<g id=\"node28\" class=\"node\">\n<title>27</title>\n<path fill=\"#9ccef2\" stroke=\"#000000\" d=\"M1030.5,-68C1030.5,-68 923.5,-68 923.5,-68 917.5,-68 911.5,-62 911.5,-56 911.5,-56 911.5,-12 911.5,-12 911.5,-6 917.5,0 923.5,0 923.5,0 1030.5,0 1030.5,0 1036.5,0 1042.5,-6 1042.5,-12 1042.5,-12 1042.5,-56 1042.5,-56 1042.5,-62 1036.5,-68 1030.5,-68\"/>\n<text text-anchor=\"middle\" x=\"977\" y=\"-52.8\" font-family=\"Helvetica,sans-Serif\" font-size=\"14.00\" fill=\"#000000\">gini = 0.444</text>\n<text text-anchor=\"middle\" x=\"977\" y=\"-37.8\" font-family=\"Helvetica,sans-Serif\" font-size=\"14.00\" fill=\"#000000\">samples = 3</text>\n<text text-anchor=\"middle\" x=\"977\" y=\"-22.8\" font-family=\"Helvetica,sans-Serif\" font-size=\"14.00\" fill=\"#000000\">value = [1, 2]</text>\n<text text-anchor=\"middle\" x=\"977\" y=\"-7.8\" font-family=\"Helvetica,sans-Serif\" font-size=\"14.00\" fill=\"#000000\">class = no_bloom</text>\n</g>\n<!-- 25&#45;&gt;27 -->\n<g id=\"edge27\" class=\"edge\">\n<title>25&#45;&gt;27</title>\n<path fill=\"none\" stroke=\"#000000\" d=\"M930.5549,-103.9815C936.4715,-95.0666 942.7335,-85.6313 948.6787,-76.6734\"/>\n<polygon fill=\"#000000\" stroke=\"#000000\" points=\"951.6464,-78.5311 954.26,-68.2637 945.814,-74.6602 951.6464,-78.5311\"/>\n</g>\n<!-- \\n -->\n<g id=\"node32\" class=\"node\">\n<title>\\n</title>\n<path fill=\"#000000\" stroke=\"#000000\" d=\"M794,-996.5C794,-996.5 764,-996.5 764,-996.5 758,-996.5 752,-990.5 752,-984.5 752,-984.5 752,-972.5 752,-972.5 752,-966.5 758,-960.5 764,-960.5 764,-960.5 794,-960.5 794,-960.5 800,-960.5 806,-966.5 806,-972.5 806,-972.5 806,-984.5 806,-984.5 806,-990.5 800,-996.5 794,-996.5\"/>\n</g>\n</g>\n</svg>\n"
          },
          "metadata": {},
          "execution_count": 29
        }
      ],
      "source": [
        "#load model from a file\n",
        "model=joblib.load('Redtide_Bloom_Pred.joblib')\n",
        "\n",
        "#Export model in visual format (to know how the model makes predictions)\n",
        "dot_data=tree.export_graphviz(model,out_file=None, max_depth=None,label='all',rounded=True,filled=True,\n",
        "                     feature_names=['season','SSH','river_ch','river_pc','wind_os','wind_as'],class_names=sorted(y.unique()))\n",
        "\n",
        "#pydot to resize and saving \n",
        "pydot_graph = pydotplus.graph_from_dot_data(dot_data)\n",
        "pydot_graph.set_size('\"14,14!\"')\n",
        "\n",
        "#graphviz for screen display \n",
        "graphviz.Source(pydot_graph.to_string())\n",
        "\n"
      ]
    },
    {
      "cell_type": "code",
      "execution_count": null,
      "metadata": {
        "id": "G6vuvpWpvj9D"
      },
      "outputs": [],
      "source": [
        ""
      ]
    }
  ],
  "metadata": {
    "kernelspec": {
      "display_name": "Python 3",
      "language": "python",
      "name": "python3"
    },
    "language_info": {
      "codemirror_mode": {
        "name": "ipython",
        "version": 3
      },
      "file_extension": ".py",
      "mimetype": "text/x-python",
      "name": "python",
      "nbconvert_exporter": "python",
      "pygments_lexer": "ipython3",
      "version": "3.8.3"
    },
    "colab": {
      "name": "Redtide.ipynb",
      "provenance": [],
      "include_colab_link": true
    }
  },
  "nbformat": 4,
  "nbformat_minor": 0
}