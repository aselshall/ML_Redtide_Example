{
  "cells": [
    {
      "cell_type": "markdown",
      "metadata": {
        "id": "view-in-github",
        "colab_type": "text"
      },
      "source": [
        "<a href=\"https://colab.research.google.com/github/aselshall/ML_Redtide_Example/blob/main/Redtide.ipynb\" target=\"_parent\"><img src=\"https://colab.research.google.com/assets/colab-badge.svg\" alt=\"Open In Colab\"/></a>"
      ]
    },
    {
      "cell_type": "markdown",
      "metadata": {
        "id": "gw5mBq5qvj8z"
      },
      "source": [
        "### Example 2: Red tide classification problem (large bloom, no bloom)\n",
        "Decision trees with python (scikit-learn, and graphviz)"
      ]
    },
    {
      "cell_type": "code",
      "execution_count": 154,
      "metadata": {
        "id": "-fzhhPl0vj85"
      },
      "outputs": [],
      "source": [
        "#General\n",
        "import pandas as pd\n",
        "import numpy as np\n",
        "import matplotlib.pyplot as plt\n",
        "\n",
        "\n",
        "#ML\n",
        "from sklearn.model_selection import train_test_split\n",
        "from sklearn.neural_network import MLPClassifier\n",
        "from sklearn.neighbors import KNeighborsClassifier\n",
        "from sklearn.svm import SVC\n",
        "from sklearn.gaussian_process import GaussianProcessClassifier\n",
        "from sklearn.gaussian_process.kernels import RBF\n",
        "from sklearn.tree import DecisionTreeClassifier\n",
        "from sklearn.ensemble import RandomForestClassifier, AdaBoostClassifier\n",
        "from sklearn.naive_bayes import GaussianNB\n",
        "from sklearn.discriminant_analysis import QuadraticDiscriminantAnalysis\n",
        "\n",
        "\n",
        "from sklearn.exceptions import ConvergenceWarning\n",
        "from warnings import filterwarnings\n",
        "filterwarnings('ignore')\n",
        "\n",
        "from sklearn.metrics import accuracy_score\n",
        "from sklearn import tree\n",
        "import graphviz\n",
        "import pydotplus\n",
        "import joblib\n",
        "\n",
        "#Plotting\n",
        "import seaborn as sns\n",
        "import matplotlib.pyplot as plt\n"
      ]
    },
    {
      "cell_type": "code",
      "source": [
        "from pathlib import Path\n",
        "import random\n",
        "\n",
        "import gdown\n",
        "from pathlib import Path\n",
        "Path('Input').mkdir(parents=True, exist_ok=True)\n",
        "Path('Output').mkdir(parents=True, exist_ok=True)\n",
        "file='maze_data.csv'\n",
        "file_ID='1z7Y7cDHtWhKmAbFNl0ABlMp3NOA2fVQr'\n",
        "url='https://drive.google.com/uc?id='\n",
        "\n",
        "print('Input files download')\n",
        "source=url+file_ID\n",
        "destination='Input/{}'.format(file)\n",
        "print('from {} to {}'.format(source,destination))\n",
        "gdown.download(source, destination, quiet=True)"
      ],
      "metadata": {
        "colab": {
          "base_uri": "https://localhost:8080/",
          "height": 70
        },
        "id": "CfC6nxoEwpwY",
        "outputId": "6b8438e6-7c7f-4b0b-ca4b-5b467509bb08"
      },
      "execution_count": 106,
      "outputs": [
        {
          "output_type": "stream",
          "name": "stdout",
          "text": [
            "Input files download\n",
            "from https://drive.google.com/uc?id=1z7Y7cDHtWhKmAbFNl0ABlMp3NOA2fVQr to Input/maze_data.csv\n"
          ]
        },
        {
          "output_type": "execute_result",
          "data": {
            "application/vnd.google.colaboratory.intrinsic+json": {
              "type": "string"
            },
            "text/plain": [
              "'Input/maze_data.csv'"
            ]
          },
          "metadata": {},
          "execution_count": 106
        }
      ]
    },
    {
      "cell_type": "code",
      "execution_count": 78,
      "metadata": {
        "id": "aee5CQ_dvj89"
      },
      "outputs": [],
      "source": [
        "df=pd.read_csv('Input/maze_data.csv')\n",
        "#display(df) "
      ]
    },
    {
      "cell_type": "markdown",
      "metadata": {
        "id": "KfLU0utuvj89"
      },
      "source": [
        "#### [2] Clean and prepare data"
      ]
    },
    {
      "cell_type": "code",
      "execution_count": 102,
      "metadata": {
        "id": "_XOsVt9wvj8-"
      },
      "outputs": [],
      "source": [
        "# Predictor variables\n",
        "X=df.drop(columns=['index','bloom','output'])\n",
        "#display(X)\n",
        "\n",
        "#Target variable(or label, or predictand)\n",
        "y=df.output\n",
        "#display(y)"
      ]
    },
    {
      "cell_type": "markdown",
      "metadata": {
        "id": "M2I0ZAeuvj8_"
      },
      "source": [
        "#### [3] Split data "
      ]
    },
    {
      "cell_type": "code",
      "execution_count": 103,
      "metadata": {
        "id": "cnl8tSURvj9A",
        "outputId": "a2191a89-9aba-42a4-b417-0489543ca776",
        "colab": {
          "base_uri": "https://localhost:8080/"
        }
      },
      "outputs": [
        {
          "output_type": "stream",
          "name": "stdout",
          "text": [
            "X_train (20, 48, 6) X_test (20, 12, 6) y_train (48, 20) y_test (12, 20)\n"
          ]
        }
      ],
      "source": [
        "#Split to train and test\n",
        "test_size=0.2\n",
        "n_dataset=20\n",
        "X_train=np.empty(shape=(n_dataset, int(X.shape[0]*(1-test_size)),X.shape[1]), dtype=int)\n",
        "X_test=np.empty(shape=(n_dataset, int(X.shape[0]*test_size),X.shape[1]), dtype=int)\n",
        "y_train=np.empty(shape=(int(X.shape[0]*(1-test_size)),n_dataset), dtype=object)\n",
        "y_test=np.empty(shape=(int(X.shape[0]*test_size),n_dataset), dtype=object)\n",
        "for x in range(n_dataset):\n",
        "  X_train[x,:,:], X_test[x,:,:], y_train[:,x], y_test[:,x] =train_test_split(X,y,test_size=test_size)\n",
        "print('X_train', X_train.shape,'X_test', X_test.shape,'y_train', y_train.shape,'y_test', y_test.shape)"
      ]
    },
    {
      "cell_type": "code",
      "source": [
        "a=2\n",
        "b=3\n",
        "c=np.empty(shape=(a*b))\n",
        "c\n"
      ],
      "metadata": {
        "id": "Bf0y56QXPyhb",
        "outputId": "43165264-5a76-4ef7-8283-1847baeaed4c",
        "colab": {
          "base_uri": "https://localhost:8080/"
        }
      },
      "execution_count": 115,
      "outputs": [
        {
          "output_type": "execute_result",
          "data": {
            "text/plain": [
              "array([4.940656e-324, 8.289046e-317, 0.000000e+000, 0.000000e+000,\n",
              "       0.000000e+000, 0.000000e+000])"
            ]
          },
          "metadata": {},
          "execution_count": 115
        }
      ]
    },
    {
      "cell_type": "markdown",
      "metadata": {
        "id": "AitakwsPvj9B"
      },
      "source": [
        "#### [4] Create, train, evaluate and save model "
      ]
    },
    {
      "cell_type": "code",
      "source": [
        "\n"
      ],
      "metadata": {
        "id": "GUr8rYv4fliM",
        "outputId": "09333d25-f559-4c75-d69c-8c7277ee17a2",
        "colab": {
          "base_uri": "https://localhost:8080/"
        }
      },
      "execution_count": 148,
      "outputs": [
        {
          "output_type": "execute_result",
          "data": {
            "text/plain": [
              "10"
            ]
          },
          "metadata": {},
          "execution_count": 148
        }
      ]
    },
    {
      "cell_type": "code",
      "execution_count": 155,
      "metadata": {
        "colab": {
          "base_uri": "https://localhost:8080/"
        },
        "id": "BHaGpYmwvj9B",
        "outputId": "592dc05d-dcd0-4730-c330-b6cc5a10b489"
      },
      "outputs": [
        {
          "output_type": "stream",
          "name": "stdout",
          "text": [
            "DecisionTree\n",
            "0 0 Accuracy: 0.83\n",
            "4 0 Accuracy: 0.92\n",
            "RandomForest\n",
            "0 0 Accuracy: 0.83\n",
            "0 1 Accuracy: 0.92\n",
            "4 2 Accuracy: 1.00\n",
            "KNeighbors\n",
            "0 0 Accuracy: 0.92\n",
            "SVC_linear\n",
            "0 0 Accuracy: 1.00\n",
            "SVC_gamma\n",
            "0 0 Accuracy: 0.92\n",
            "4 0 Accuracy: 1.00\n",
            "GaussianProcess\n",
            "0 0 Accuracy: 1.00\n",
            "QDiscriminantAnalysis\n",
            "0 0 Accuracy: 0.92\n",
            "MLP\n",
            "0 0 Accuracy: 0.92\n",
            "AdaBoost\n",
            "0 0 Accuracy: 0.92\n",
            "GaussianNB\n",
            "0 0 Accuracy: 0.42\n",
            "1 0 Accuracy: 0.67\n",
            "[0.69       0.72541667 0.74583333 0.825      0.79166667 0.8\n",
            " 0.65       0.71166667 0.71666667 0.44166667]\n"
          ]
        }
      ],
      "source": [
        "models=['DecisionTree', 'RandomForest', 'KNeighbors', 'SVC_linear', 'SVC_gamma', 'GaussianProcess', 'QDiscriminantAnalysis', 'MLP', 'AdaBoost', 'GaussianNB']\n",
        "n_realization=10\n",
        "n_model=len(models)\n",
        "Score=np.empty(shape=(n_dataset*n_realization,n_model))\n",
        "\n",
        "for mmodel in range(n_model):\n",
        "  print(models[mmodel])\n",
        "  # Define model: decision treee  \n",
        "  if mmodel==0:\n",
        "    model=DecisionTreeClassifier()\n",
        "  elif mmodel==1:\n",
        "    model=RandomForestClassifier()\n",
        "  elif mmodel==2:\n",
        "    model=KNeighborsClassifier()\n",
        "  elif mmodel==3:\n",
        "    model=SVC(kernel=\"linear\", C=0.025)\n",
        "  elif mmodel==4:\n",
        "    model=SVC(gamma=2, C=1)\n",
        "  elif mmodel==5:\n",
        "    model=GaussianProcessClassifier(1.0 * RBF(1.0))\n",
        "  elif mmodel==6:\n",
        "    model=QuadraticDiscriminantAnalysis()\n",
        "  elif mmodel==7:\n",
        "    model=MLPClassifier()\n",
        "  elif mmodel==8:\n",
        "    model=AdaBoostClassifier()\n",
        "  elif mmodel==9:\n",
        "    model=GaussianNB()\n",
        "\n",
        "  \n",
        "  cont=0\n",
        "  best_score=0\n",
        "  for x in range(n_dataset):\n",
        "    for y in range(n_realization):\n",
        "      #Train model \n",
        "      model.fit(X_train[x,:,:],y_train[:,x])\n",
        "\n",
        "      #Make predictions\n",
        "      y_pred=model.predict(X_test[x,:,:])\n",
        "\n",
        "      #Evalaute predictions\n",
        "      #fine tune the model, choose another algorithm or model, or application<br>\n",
        "      #Accuracy:size_train_dataset, clean data (duplicates, missing data), irrelevent data\n",
        "      score=accuracy_score(y_test[:,x],y_pred)\n",
        "      Score[cont,mmodel]=score\n",
        "      cont=cont+1\n",
        "      if score>best_score:\n",
        "        best_score=score\n",
        "        print(x,y,'Accuracy: {:0.2f}'.format(score))\n",
        "\n",
        "      #Save model to a file \n",
        "      #joblib.dump(model,'Redtide_Bloom_Pred.joblib')\n",
        "\n",
        "print(np.mean(Score, axis=0))"
      ]
    },
    {
      "cell_type": "code",
      "source": [
        "models=['DecisionTree', 'RandomForest', 'KNeighbors', 'SupportVectorC_linear', 'SupportVectorC_gamma', \\\n",
        "        'GaussianProcess', 'QuadDiscriminantAnalysis', 'MultilayerPerceptron', 'AdaBoost', 'GaussianNaiveBayes']\n",
        "fig, ax = plt.subplots()\n",
        "fig.set_size_inches(10, 5)\n",
        "g=sns.boxplot(data=Score,ax=ax)\n",
        "g.set_xticklabels(models)\n",
        "\n",
        "fontsize=14\n",
        "ax.tick_params(axis='x', rotation=270,labelsize=fontsize)\n",
        "ax.tick_params(axis='y', labelsize=fontsize)\n",
        "plt.ylabel(\"Accuracy Score\",fontsize=fontsize)\n",
        "fig.savefig('Figure2_ML.png')\n",
        "\n"
      ],
      "metadata": {
        "id": "kWijKFmUXU5C",
        "outputId": "05a72eb4-0f1f-47c9-ca36-8b4283467cbf",
        "colab": {
          "base_uri": "https://localhost:8080/",
          "height": 494
        }
      },
      "execution_count": 218,
      "outputs": [
        {
          "output_type": "display_data",
          "data": {
            "image/png": "[encoded data removed]",
            "text/plain": [
              "<Figure size 720x360 with 1 Axes>"
            ]
          },
          "metadata": {
            "needs_background": "light"
          }
        }
      ]
    },
    {
      "cell_type": "markdown",
      "metadata": {
        "id": "8F8aukzIvj9C"
      },
      "source": [
        "#### [5] Model interpretation\n",
        "https://towardsdatascience.com/understanding-decision-trees-for-classification-python-9663d683c952<br>\n",
        "Plot decision tree starting from root+decision node, to decision node, and to terminal node (leaf).<br>\n",
        "Pure node means further spliting will not lead to further information gain, so classification trees do noy split on pure nodes.However, impure nodes can split further.<br>\n",
        "The figure shows that setosa was correctly classified for all 12 points.The right side shows that many points are misclassified as no_bloom.<br>\n",
        "Classification trees are a greedy algorithm which mean\n",
        "s by default it will continue to split until it has a pure node.<br> \n",
        "The algorithm chooses the best split point (i.e., gini) for the impure node.<br>\n",
        "Decision trees split on the feature that results in the largest information gain (e.g., gini or entropy criterion).<br>\n",
        "IG = information before splitting (parent) — information after splitting \n",
        "If the impurity criterion is not zero then we can furthr split."
      ]
    },
    {
      "cell_type": "markdown",
      "source": [
        "Season: (1) fall (dark blue) , (2) winter (light blue),\n",
        "(3) spring (green), (4) summer (red) <br>\n",
        "SSH: (-1) Loop Current South, (1) Loop Current North in the Gulf of Mexico <br>\n",
        "wind_os: Off-shore wind speed (-1) below average, (0) average, (1) above average <br>\n",
        "wind_as_ Along-shre wind speed (-1) below average, (0) average, (1) above average <br>\n",
        "river_ch: Caloosahatchee river outflow (-1) below average, (1) above average <br>\n",
        "river_pc: Peace River outflow (-1) below average, (1) above average <br>"
      ],
      "metadata": {
        "id": "bLfuZdG3N8J6"
      }
    },
    {
      "cell_type": "code",
      "execution_count": 12,
      "metadata": {
        "colab": {
          "base_uri": "https://localhost:8080/",
          "height": 784
        },
        "id": "LXvsEKuTvj9D",
        "outputId": "6a2abb10-a9c9-4ebc-bf6c-03acdbb8cb2b"
      },
      "outputs": [
        {
          "output_type": "execute_result",
          "data": {
            "text/plain": [
              "<graphviz.files.Source at 0x7fb46ab6d9d0>"
            ],
            "image/svg+xml": "<?xml version=\"1.0\" encoding=\"UTF-8\" standalone=\"no\"?>\n<!DOCTYPE svg PUBLIC \"-//W3C//DTD SVG 1.1//EN\"\n \"http://www.w3.org/Graphics/SVG/1.1/DTD/svg11.dtd\">\n<!-- Generated by graphviz version 2.40.1 (20161225.0304)\n -->\n<!-- Title: Tree Pages: 1 -->\n<svg width=\"1008pt\" height=\"557pt\"\n viewBox=\"0.00 0.00 1008.00 556.67\" xmlns=\"http://www.w3.org/2000/svg\" xmlns:xlink=\"http://www.w3.org/1999/xlink\">\n<g id=\"graph0\" class=\"graph\" transform=\"scale(.7046 .7046) rotate(0) translate(4 786)\">\n<title>Tree</title>\n<polygon fill=\"#ffffff\" stroke=\"transparent\" points=\"-4,4 -4,-786 1426.5,-786 1426.5,4 -4,4\"/>\n<!-- 0 -->\n<g id=\"node1\" class=\"node\">\n<title>0</title>\n<path fill=\"#5baee9\" stroke=\"#000000\" d=\"M693.5,-782C693.5,-782 586.5,-782 586.5,-782 580.5,-782 574.5,-776 574.5,-770 574.5,-770 574.5,-711 574.5,-711 574.5,-705 580.5,-699 586.5,-699 586.5,-699 693.5,-699 693.5,-699 699.5,-699 705.5,-705 705.5,-711 705.5,-711 705.5,-770 705.5,-770 705.5,-776 699.5,-782 693.5,-782\"/>\n<text text-anchor=\"middle\" x=\"640\" y=\"-766.8\" font-family=\"Helvetica,sans-Serif\" font-size=\"14.00\" fill=\"#000000\">river_pc &lt;= 0.0</text>\n<text text-anchor=\"middle\" x=\"640\" y=\"-751.8\" font-family=\"Helvetica,sans-Serif\" font-size=\"14.00\" fill=\"#000000\">gini = 0.249</text>\n<text text-anchor=\"middle\" x=\"640\" y=\"-736.8\" font-family=\"Helvetica,sans-Serif\" font-size=\"14.00\" fill=\"#000000\">samples = 48</text>\n<text text-anchor=\"middle\" x=\"640\" y=\"-721.8\" font-family=\"Helvetica,sans-Serif\" font-size=\"14.00\" fill=\"#000000\">value = [7, 41]</text>\n<text text-anchor=\"middle\" x=\"640\" y=\"-706.8\" font-family=\"Helvetica,sans-Serif\" font-size=\"14.00\" fill=\"#000000\">class = no_bloom</text>\n</g>\n<!-- 1 -->\n<g id=\"node2\" class=\"node\">\n<title>1</title>\n<path fill=\"#4ba6e7\" stroke=\"#000000\" d=\"M611.5,-663C611.5,-663 504.5,-663 504.5,-663 498.5,-663 492.5,-657 492.5,-651 492.5,-651 492.5,-592 492.5,-592 492.5,-586 498.5,-580 504.5,-580 504.5,-580 611.5,-580 611.5,-580 617.5,-580 623.5,-586 623.5,-592 623.5,-592 623.5,-651 623.5,-651 623.5,-657 617.5,-663 611.5,-663\"/>\n<text text-anchor=\"middle\" x=\"558\" y=\"-647.8\" font-family=\"Helvetica,sans-Serif\" font-size=\"14.00\" fill=\"#000000\">season &lt;= 2.5</text>\n<text text-anchor=\"middle\" x=\"558\" y=\"-632.8\" font-family=\"Helvetica,sans-Serif\" font-size=\"14.00\" fill=\"#000000\">gini = 0.153</text>\n<text text-anchor=\"middle\" x=\"558\" y=\"-617.8\" font-family=\"Helvetica,sans-Serif\" font-size=\"14.00\" fill=\"#000000\">samples = 36</text>\n<text text-anchor=\"middle\" x=\"558\" y=\"-602.8\" font-family=\"Helvetica,sans-Serif\" font-size=\"14.00\" fill=\"#000000\">value = [3, 33]</text>\n<text text-anchor=\"middle\" x=\"558\" y=\"-587.8\" font-family=\"Helvetica,sans-Serif\" font-size=\"14.00\" fill=\"#000000\">class = no_bloom</text>\n</g>\n<!-- 0&#45;&gt;1 -->\n<g id=\"edge1\" class=\"edge\">\n<title>0&#45;&gt;1</title>\n<path fill=\"none\" stroke=\"#000000\" d=\"M611.3204,-698.8796C605.2385,-690.0534 598.7578,-680.6485 592.4859,-671.5466\"/>\n<polygon fill=\"#000000\" stroke=\"#000000\" points=\"595.3582,-669.5465 586.802,-663.2981 589.5941,-673.5184 595.3582,-669.5465\"/>\n<text text-anchor=\"middle\" x=\"582.2761\" y=\"-684.185\" font-family=\"Helvetica,sans-Serif\" font-size=\"14.00\" fill=\"#000000\">True</text>\n</g>\n<!-- 16 -->\n<g id=\"node17\" class=\"node\">\n<title>16</title>\n<path fill=\"#9ccef2\" stroke=\"#000000\" d=\"M838.5,-663C838.5,-663 731.5,-663 731.5,-663 725.5,-663 719.5,-657 719.5,-651 719.5,-651 719.5,-592 719.5,-592 719.5,-586 725.5,-580 731.5,-580 731.5,-580 838.5,-580 838.5,-580 844.5,-580 850.5,-586 850.5,-592 850.5,-592 850.5,-651 850.5,-651 850.5,-657 844.5,-663 838.5,-663\"/>\n<text text-anchor=\"middle\" x=\"785\" y=\"-647.8\" font-family=\"Helvetica,sans-Serif\" font-size=\"14.00\" fill=\"#000000\">season &lt;= 3.5</text>\n<text text-anchor=\"middle\" x=\"785\" y=\"-632.8\" font-family=\"Helvetica,sans-Serif\" font-size=\"14.00\" fill=\"#000000\">gini = 0.444</text>\n<text text-anchor=\"middle\" x=\"785\" y=\"-617.8\" font-family=\"Helvetica,sans-Serif\" font-size=\"14.00\" fill=\"#000000\">samples = 12</text>\n<text text-anchor=\"middle\" x=\"785\" y=\"-602.8\" font-family=\"Helvetica,sans-Serif\" font-size=\"14.00\" fill=\"#000000\">value = [4, 8]</text>\n<text text-anchor=\"middle\" x=\"785\" y=\"-587.8\" font-family=\"Helvetica,sans-Serif\" font-size=\"14.00\" fill=\"#000000\">class = no_bloom</text>\n</g>\n<!-- 0&#45;&gt;16 -->\n<g id=\"edge16\" class=\"edge\">\n<title>0&#45;&gt;16</title>\n<path fill=\"none\" stroke=\"#000000\" d=\"M690.714,-698.8796C702.127,-689.513 714.3341,-679.4948 726.0515,-669.8784\"/>\n<polygon fill=\"#000000\" stroke=\"#000000\" points=\"728.5599,-672.3476 734.0696,-663.2981 724.1191,-666.9366 728.5599,-672.3476\"/>\n<text text-anchor=\"middle\" x=\"731.6193\" y=\"-684.4777\" font-family=\"Helvetica,sans-Serif\" font-size=\"14.00\" fill=\"#000000\">False</text>\n</g>\n<!-- 2 -->\n<g id=\"node3\" class=\"node\">\n<title>2</title>\n<path fill=\"#5caeea\" stroke=\"#000000\" d=\"M454.5,-544C454.5,-544 347.5,-544 347.5,-544 341.5,-544 335.5,-538 335.5,-532 335.5,-532 335.5,-473 335.5,-473 335.5,-467 341.5,-461 347.5,-461 347.5,-461 454.5,-461 454.5,-461 460.5,-461 466.5,-467 466.5,-473 466.5,-473 466.5,-532 466.5,-532 466.5,-538 460.5,-544 454.5,-544\"/>\n<text text-anchor=\"middle\" x=\"401\" y=\"-528.8\" font-family=\"Helvetica,sans-Serif\" font-size=\"14.00\" fill=\"#000000\">SSH &lt;= 0.0</text>\n<text text-anchor=\"middle\" x=\"401\" y=\"-513.8\" font-family=\"Helvetica,sans-Serif\" font-size=\"14.00\" fill=\"#000000\">gini = 0.255</text>\n<text text-anchor=\"middle\" x=\"401\" y=\"-498.8\" font-family=\"Helvetica,sans-Serif\" font-size=\"14.00\" fill=\"#000000\">samples = 20</text>\n<text text-anchor=\"middle\" x=\"401\" y=\"-483.8\" font-family=\"Helvetica,sans-Serif\" font-size=\"14.00\" fill=\"#000000\">value = [3, 17]</text>\n<text text-anchor=\"middle\" x=\"401\" y=\"-468.8\" font-family=\"Helvetica,sans-Serif\" font-size=\"14.00\" fill=\"#000000\">class = no_bloom</text>\n</g>\n<!-- 1&#45;&gt;2 -->\n<g id=\"edge2\" class=\"edge\">\n<title>1&#45;&gt;2</title>\n<path fill=\"none\" stroke=\"#000000\" d=\"M503.089,-579.8796C490.4206,-570.2774 476.8485,-559.9903 463.8705,-550.1534\"/>\n<polygon fill=\"#000000\" stroke=\"#000000\" points=\"465.9636,-547.3482 455.88,-544.0969 461.7352,-552.9268 465.9636,-547.3482\"/>\n</g>\n<!-- 15 -->\n<g id=\"node16\" class=\"node\">\n<title>15</title>\n<path fill=\"#399de5\" stroke=\"#000000\" d=\"M611.5,-536.5C611.5,-536.5 504.5,-536.5 504.5,-536.5 498.5,-536.5 492.5,-530.5 492.5,-524.5 492.5,-524.5 492.5,-480.5 492.5,-480.5 492.5,-474.5 498.5,-468.5 504.5,-468.5 504.5,-468.5 611.5,-468.5 611.5,-468.5 617.5,-468.5 623.5,-474.5 623.5,-480.5 623.5,-480.5 623.5,-524.5 623.5,-524.5 623.5,-530.5 617.5,-536.5 611.5,-536.5\"/>\n<text text-anchor=\"middle\" x=\"558\" y=\"-521.3\" font-family=\"Helvetica,sans-Serif\" font-size=\"14.00\" fill=\"#000000\">gini = 0.0</text>\n<text text-anchor=\"middle\" x=\"558\" y=\"-506.3\" font-family=\"Helvetica,sans-Serif\" font-size=\"14.00\" fill=\"#000000\">samples = 16</text>\n<text text-anchor=\"middle\" x=\"558\" y=\"-491.3\" font-family=\"Helvetica,sans-Serif\" font-size=\"14.00\" fill=\"#000000\">value = [0, 16]</text>\n<text text-anchor=\"middle\" x=\"558\" y=\"-476.3\" font-family=\"Helvetica,sans-Serif\" font-size=\"14.00\" fill=\"#000000\">class = no_bloom</text>\n</g>\n<!-- 1&#45;&gt;15 -->\n<g id=\"edge15\" class=\"edge\">\n<title>1&#45;&gt;15</title>\n<path fill=\"none\" stroke=\"#000000\" d=\"M558,-579.8796C558,-569.2134 558,-557.7021 558,-546.9015\"/>\n<polygon fill=\"#000000\" stroke=\"#000000\" points=\"561.5001,-546.8149 558,-536.8149 554.5001,-546.815 561.5001,-546.8149\"/>\n</g>\n<!-- 3 -->\n<g id=\"node4\" class=\"node\">\n<title>3</title>\n<path fill=\"#399de5\" stroke=\"#000000\" d=\"M305.5,-417.5C305.5,-417.5 198.5,-417.5 198.5,-417.5 192.5,-417.5 186.5,-411.5 186.5,-405.5 186.5,-405.5 186.5,-361.5 186.5,-361.5 186.5,-355.5 192.5,-349.5 198.5,-349.5 198.5,-349.5 305.5,-349.5 305.5,-349.5 311.5,-349.5 317.5,-355.5 317.5,-361.5 317.5,-361.5 317.5,-405.5 317.5,-405.5 317.5,-411.5 311.5,-417.5 305.5,-417.5\"/>\n<text text-anchor=\"middle\" x=\"252\" y=\"-402.3\" font-family=\"Helvetica,sans-Serif\" font-size=\"14.00\" fill=\"#000000\">gini = 0.0</text>\n<text text-anchor=\"middle\" x=\"252\" y=\"-387.3\" font-family=\"Helvetica,sans-Serif\" font-size=\"14.00\" fill=\"#000000\">samples = 9</text>\n<text text-anchor=\"middle\" x=\"252\" y=\"-372.3\" font-family=\"Helvetica,sans-Serif\" font-size=\"14.00\" fill=\"#000000\">value = [0, 9]</text>\n<text text-anchor=\"middle\" x=\"252\" y=\"-357.3\" font-family=\"Helvetica,sans-Serif\" font-size=\"14.00\" fill=\"#000000\">class = no_bloom</text>\n</g>\n<!-- 2&#45;&gt;3 -->\n<g id=\"edge3\" class=\"edge\">\n<title>2&#45;&gt;3</title>\n<path fill=\"none\" stroke=\"#000000\" d=\"M348.887,-460.8796C334.0174,-449.0038 317.836,-436.0804 303.0317,-424.2568\"/>\n<polygon fill=\"#000000\" stroke=\"#000000\" points=\"304.9638,-421.3207 294.9658,-417.8149 300.5954,-426.7904 304.9638,-421.3207\"/>\n</g>\n<!-- 4 -->\n<g id=\"node5\" class=\"node\">\n<title>4</title>\n<path fill=\"#83c2ef\" stroke=\"#000000\" d=\"M454.5,-425C454.5,-425 347.5,-425 347.5,-425 341.5,-425 335.5,-419 335.5,-413 335.5,-413 335.5,-354 335.5,-354 335.5,-348 341.5,-342 347.5,-342 347.5,-342 454.5,-342 454.5,-342 460.5,-342 466.5,-348 466.5,-354 466.5,-354 466.5,-413 466.5,-413 466.5,-419 460.5,-425 454.5,-425\"/>\n<text text-anchor=\"middle\" x=\"401\" y=\"-409.8\" font-family=\"Helvetica,sans-Serif\" font-size=\"14.00\" fill=\"#000000\">season &lt;= 1.5</text>\n<text text-anchor=\"middle\" x=\"401\" y=\"-394.8\" font-family=\"Helvetica,sans-Serif\" font-size=\"14.00\" fill=\"#000000\">gini = 0.397</text>\n<text text-anchor=\"middle\" x=\"401\" y=\"-379.8\" font-family=\"Helvetica,sans-Serif\" font-size=\"14.00\" fill=\"#000000\">samples = 11</text>\n<text text-anchor=\"middle\" x=\"401\" y=\"-364.8\" font-family=\"Helvetica,sans-Serif\" font-size=\"14.00\" fill=\"#000000\">value = [3, 8]</text>\n<text text-anchor=\"middle\" x=\"401\" y=\"-349.8\" font-family=\"Helvetica,sans-Serif\" font-size=\"14.00\" fill=\"#000000\">class = no_bloom</text>\n</g>\n<!-- 2&#45;&gt;4 -->\n<g id=\"edge4\" class=\"edge\">\n<title>2&#45;&gt;4</title>\n<path fill=\"none\" stroke=\"#000000\" d=\"M401,-460.8796C401,-452.6838 401,-443.9891 401,-435.5013\"/>\n<polygon fill=\"#000000\" stroke=\"#000000\" points=\"404.5001,-435.298 401,-425.2981 397.5001,-435.2981 404.5001,-435.298\"/>\n</g>\n<!-- 5 -->\n<g id=\"node6\" class=\"node\">\n<title>5</title>\n<path fill=\"#f2c09c\" stroke=\"#000000\" d=\"M298,-306C298,-306 176,-306 176,-306 170,-306 164,-300 164,-294 164,-294 164,-235 164,-235 164,-229 170,-223 176,-223 176,-223 298,-223 298,-223 304,-223 310,-229 310,-235 310,-235 310,-294 310,-294 310,-300 304,-306 298,-306\"/>\n<text text-anchor=\"middle\" x=\"237\" y=\"-290.8\" font-family=\"Helvetica,sans-Serif\" font-size=\"14.00\" fill=\"#000000\">river_ch &lt;= 0.0</text>\n<text text-anchor=\"middle\" x=\"237\" y=\"-275.8\" font-family=\"Helvetica,sans-Serif\" font-size=\"14.00\" fill=\"#000000\">gini = 0.444</text>\n<text text-anchor=\"middle\" x=\"237\" y=\"-260.8\" font-family=\"Helvetica,sans-Serif\" font-size=\"14.00\" fill=\"#000000\">samples = 3</text>\n<text text-anchor=\"middle\" x=\"237\" y=\"-245.8\" font-family=\"Helvetica,sans-Serif\" font-size=\"14.00\" fill=\"#000000\">value = [2, 1]</text>\n<text text-anchor=\"middle\" x=\"237\" y=\"-230.8\" font-family=\"Helvetica,sans-Serif\" font-size=\"14.00\" fill=\"#000000\">class = large_bloom</text>\n</g>\n<!-- 4&#45;&gt;5 -->\n<g id=\"edge5\" class=\"edge\">\n<title>4&#45;&gt;5</title>\n<path fill=\"none\" stroke=\"#000000\" d=\"M343.6408,-341.8796C330.4075,-332.2774 316.2303,-321.9903 302.6736,-312.1534\"/>\n<polygon fill=\"#000000\" stroke=\"#000000\" points=\"304.4762,-309.1371 294.3269,-306.0969 300.3651,-314.8027 304.4762,-309.1371\"/>\n</g>\n<!-- 10 -->\n<g id=\"node11\" class=\"node\">\n<title>10</title>\n<path fill=\"#55abe9\" stroke=\"#000000\" d=\"M454.5,-306C454.5,-306 347.5,-306 347.5,-306 341.5,-306 335.5,-300 335.5,-294 335.5,-294 335.5,-235 335.5,-235 335.5,-229 341.5,-223 347.5,-223 347.5,-223 454.5,-223 454.5,-223 460.5,-223 466.5,-229 466.5,-235 466.5,-235 466.5,-294 466.5,-294 466.5,-300 460.5,-306 454.5,-306\"/>\n<text text-anchor=\"middle\" x=\"401\" y=\"-290.8\" font-family=\"Helvetica,sans-Serif\" font-size=\"14.00\" fill=\"#000000\">wind_os &lt;= &#45;0.5</text>\n<text text-anchor=\"middle\" x=\"401\" y=\"-275.8\" font-family=\"Helvetica,sans-Serif\" font-size=\"14.00\" fill=\"#000000\">gini = 0.219</text>\n<text text-anchor=\"middle\" x=\"401\" y=\"-260.8\" font-family=\"Helvetica,sans-Serif\" font-size=\"14.00\" fill=\"#000000\">samples = 8</text>\n<text text-anchor=\"middle\" x=\"401\" y=\"-245.8\" font-family=\"Helvetica,sans-Serif\" font-size=\"14.00\" fill=\"#000000\">value = [1, 7]</text>\n<text text-anchor=\"middle\" x=\"401\" y=\"-230.8\" font-family=\"Helvetica,sans-Serif\" font-size=\"14.00\" fill=\"#000000\">class = no_bloom</text>\n</g>\n<!-- 4&#45;&gt;10 -->\n<g id=\"edge10\" class=\"edge\">\n<title>4&#45;&gt;10</title>\n<path fill=\"none\" stroke=\"#000000\" d=\"M401,-341.8796C401,-333.6838 401,-324.9891 401,-316.5013\"/>\n<polygon fill=\"#000000\" stroke=\"#000000\" points=\"404.5001,-316.298 401,-306.2981 397.5001,-316.2981 404.5001,-316.298\"/>\n</g>\n<!-- 6 -->\n<g id=\"node7\" class=\"node\">\n<title>6</title>\n<path fill=\"#e58139\" stroke=\"#000000\" d=\"M134,-179.5C134,-179.5 12,-179.5 12,-179.5 6,-179.5 0,-173.5 0,-167.5 0,-167.5 0,-123.5 0,-123.5 0,-117.5 6,-111.5 12,-111.5 12,-111.5 134,-111.5 134,-111.5 140,-111.5 146,-117.5 146,-123.5 146,-123.5 146,-167.5 146,-167.5 146,-173.5 140,-179.5 134,-179.5\"/>\n<text text-anchor=\"middle\" x=\"73\" y=\"-164.3\" font-family=\"Helvetica,sans-Serif\" font-size=\"14.00\" fill=\"#000000\">gini = 0.0</text>\n<text text-anchor=\"middle\" x=\"73\" y=\"-149.3\" font-family=\"Helvetica,sans-Serif\" font-size=\"14.00\" fill=\"#000000\">samples = 1</text>\n<text text-anchor=\"middle\" x=\"73\" y=\"-134.3\" font-family=\"Helvetica,sans-Serif\" font-size=\"14.00\" fill=\"#000000\">value = [1, 0]</text>\n<text text-anchor=\"middle\" x=\"73\" y=\"-119.3\" font-family=\"Helvetica,sans-Serif\" font-size=\"14.00\" fill=\"#000000\">class = large_bloom</text>\n</g>\n<!-- 5&#45;&gt;6 -->\n<g id=\"edge6\" class=\"edge\">\n<title>5&#45;&gt;6</title>\n<path fill=\"none\" stroke=\"#000000\" d=\"M179.6408,-222.8796C163.0439,-210.8368 144.9625,-197.7167 128.4824,-185.7586\"/>\n<polygon fill=\"#000000\" stroke=\"#000000\" points=\"130.176,-182.6632 120.0267,-179.623 126.0649,-188.3288 130.176,-182.6632\"/>\n</g>\n<!-- 7 -->\n<g id=\"node8\" class=\"node\">\n<title>7</title>\n<path fill=\"#ffffff\" stroke=\"#000000\" d=\"M298,-187C298,-187 176,-187 176,-187 170,-187 164,-181 164,-175 164,-175 164,-116 164,-116 164,-110 170,-104 176,-104 176,-104 298,-104 298,-104 304,-104 310,-110 310,-116 310,-116 310,-175 310,-175 310,-181 304,-187 298,-187\"/>\n<text text-anchor=\"middle\" x=\"237\" y=\"-171.8\" font-family=\"Helvetica,sans-Serif\" font-size=\"14.00\" fill=\"#000000\">wind_os &lt;= 0.0</text>\n<text text-anchor=\"middle\" x=\"237\" y=\"-156.8\" font-family=\"Helvetica,sans-Serif\" font-size=\"14.00\" fill=\"#000000\">gini = 0.5</text>\n<text text-anchor=\"middle\" x=\"237\" y=\"-141.8\" font-family=\"Helvetica,sans-Serif\" font-size=\"14.00\" fill=\"#000000\">samples = 2</text>\n<text text-anchor=\"middle\" x=\"237\" y=\"-126.8\" font-family=\"Helvetica,sans-Serif\" font-size=\"14.00\" fill=\"#000000\">value = [1, 1]</text>\n<text text-anchor=\"middle\" x=\"237\" y=\"-111.8\" font-family=\"Helvetica,sans-Serif\" font-size=\"14.00\" fill=\"#000000\">class = large_bloom</text>\n</g>\n<!-- 5&#45;&gt;7 -->\n<g id=\"edge7\" class=\"edge\">\n<title>5&#45;&gt;7</title>\n<path fill=\"none\" stroke=\"#000000\" d=\"M237,-222.8796C237,-214.6838 237,-205.9891 237,-197.5013\"/>\n<polygon fill=\"#000000\" stroke=\"#000000\" points=\"240.5001,-197.298 237,-187.2981 233.5001,-197.2981 240.5001,-197.298\"/>\n</g>\n<!-- 8 -->\n<g id=\"node9\" class=\"node\">\n<title>8</title>\n<path fill=\"#399de5\" stroke=\"#000000\" d=\"M135.5,-68C135.5,-68 28.5,-68 28.5,-68 22.5,-68 16.5,-62 16.5,-56 16.5,-56 16.5,-12 16.5,-12 16.5,-6 22.5,0 28.5,0 28.5,0 135.5,0 135.5,0 141.5,0 147.5,-6 147.5,-12 147.5,-12 147.5,-56 147.5,-56 147.5,-62 141.5,-68 135.5,-68\"/>\n<text text-anchor=\"middle\" x=\"82\" y=\"-52.8\" font-family=\"Helvetica,sans-Serif\" font-size=\"14.00\" fill=\"#000000\">gini = 0.0</text>\n<text text-anchor=\"middle\" x=\"82\" y=\"-37.8\" font-family=\"Helvetica,sans-Serif\" font-size=\"14.00\" fill=\"#000000\">samples = 1</text>\n<text text-anchor=\"middle\" x=\"82\" y=\"-22.8\" font-family=\"Helvetica,sans-Serif\" font-size=\"14.00\" fill=\"#000000\">value = [0, 1]</text>\n<text text-anchor=\"middle\" x=\"82\" y=\"-7.8\" font-family=\"Helvetica,sans-Serif\" font-size=\"14.00\" fill=\"#000000\">class = no_bloom</text>\n</g>\n<!-- 7&#45;&gt;8 -->\n<g id=\"edge8\" class=\"edge\">\n<title>7&#45;&gt;8</title>\n<path fill=\"none\" stroke=\"#000000\" d=\"M179.2837,-103.9815C165.7409,-94.2394 151.3343,-83.8759 137.8737,-74.193\"/>\n<polygon fill=\"#000000\" stroke=\"#000000\" points=\"139.7928,-71.2621 129.6311,-68.2637 135.7051,-76.9446 139.7928,-71.2621\"/>\n</g>\n<!-- 9 -->\n<g id=\"node10\" class=\"node\">\n<title>9</title>\n<path fill=\"#e58139\" stroke=\"#000000\" d=\"M300,-68C300,-68 178,-68 178,-68 172,-68 166,-62 166,-56 166,-56 166,-12 166,-12 166,-6 172,0 178,0 178,0 300,0 300,0 306,0 312,-6 312,-12 312,-12 312,-56 312,-56 312,-62 306,-68 300,-68\"/>\n<text text-anchor=\"middle\" x=\"239\" y=\"-52.8\" font-family=\"Helvetica,sans-Serif\" font-size=\"14.00\" fill=\"#000000\">gini = 0.0</text>\n<text text-anchor=\"middle\" x=\"239\" y=\"-37.8\" font-family=\"Helvetica,sans-Serif\" font-size=\"14.00\" fill=\"#000000\">samples = 1</text>\n<text text-anchor=\"middle\" x=\"239\" y=\"-22.8\" font-family=\"Helvetica,sans-Serif\" font-size=\"14.00\" fill=\"#000000\">value = [1, 0]</text>\n<text text-anchor=\"middle\" x=\"239\" y=\"-7.8\" font-family=\"Helvetica,sans-Serif\" font-size=\"14.00\" fill=\"#000000\">class = large_bloom</text>\n</g>\n<!-- 7&#45;&gt;9 -->\n<g id=\"edge9\" class=\"edge\">\n<title>7&#45;&gt;9</title>\n<path fill=\"none\" stroke=\"#000000\" d=\"M237.7447,-103.9815C237.8947,-95.618 238.053,-86.7965 238.2046,-78.3409\"/>\n<polygon fill=\"#000000\" stroke=\"#000000\" points=\"241.7054,-78.3249 238.3854,-68.2637 234.7065,-78.1993 241.7054,-78.3249\"/>\n</g>\n<!-- 11 -->\n<g id=\"node12\" class=\"node\">\n<title>11</title>\n<path fill=\"#ffffff\" stroke=\"#000000\" d=\"M462,-187C462,-187 340,-187 340,-187 334,-187 328,-181 328,-175 328,-175 328,-116 328,-116 328,-110 334,-104 340,-104 340,-104 462,-104 462,-104 468,-104 474,-110 474,-116 474,-116 474,-175 474,-175 474,-181 468,-187 462,-187\"/>\n<text text-anchor=\"middle\" x=\"401\" y=\"-171.8\" font-family=\"Helvetica,sans-Serif\" font-size=\"14.00\" fill=\"#000000\">river_ch &lt;= 0.0</text>\n<text text-anchor=\"middle\" x=\"401\" y=\"-156.8\" font-family=\"Helvetica,sans-Serif\" font-size=\"14.00\" fill=\"#000000\">gini = 0.5</text>\n<text text-anchor=\"middle\" x=\"401\" y=\"-141.8\" font-family=\"Helvetica,sans-Serif\" font-size=\"14.00\" fill=\"#000000\">samples = 2</text>\n<text text-anchor=\"middle\" x=\"401\" y=\"-126.8\" font-family=\"Helvetica,sans-Serif\" font-size=\"14.00\" fill=\"#000000\">value = [1, 1]</text>\n<text text-anchor=\"middle\" x=\"401\" y=\"-111.8\" font-family=\"Helvetica,sans-Serif\" font-size=\"14.00\" fill=\"#000000\">class = large_bloom</text>\n</g>\n<!-- 10&#45;&gt;11 -->\n<g id=\"edge11\" class=\"edge\">\n<title>10&#45;&gt;11</title>\n<path fill=\"none\" stroke=\"#000000\" d=\"M401,-222.8796C401,-214.6838 401,-205.9891 401,-197.5013\"/>\n<polygon fill=\"#000000\" stroke=\"#000000\" points=\"404.5001,-197.298 401,-187.2981 397.5001,-197.2981 404.5001,-197.298\"/>\n</g>\n<!-- 14 -->\n<g id=\"node15\" class=\"node\">\n<title>14</title>\n<path fill=\"#399de5\" stroke=\"#000000\" d=\"M611.5,-179.5C611.5,-179.5 504.5,-179.5 504.5,-179.5 498.5,-179.5 492.5,-173.5 492.5,-167.5 492.5,-167.5 492.5,-123.5 492.5,-123.5 492.5,-117.5 498.5,-111.5 504.5,-111.5 504.5,-111.5 611.5,-111.5 611.5,-111.5 617.5,-111.5 623.5,-117.5 623.5,-123.5 623.5,-123.5 623.5,-167.5 623.5,-167.5 623.5,-173.5 617.5,-179.5 611.5,-179.5\"/>\n<text text-anchor=\"middle\" x=\"558\" y=\"-164.3\" font-family=\"Helvetica,sans-Serif\" font-size=\"14.00\" fill=\"#000000\">gini = 0.0</text>\n<text text-anchor=\"middle\" x=\"558\" y=\"-149.3\" font-family=\"Helvetica,sans-Serif\" font-size=\"14.00\" fill=\"#000000\">samples = 6</text>\n<text text-anchor=\"middle\" x=\"558\" y=\"-134.3\" font-family=\"Helvetica,sans-Serif\" font-size=\"14.00\" fill=\"#000000\">value = [0, 6]</text>\n<text text-anchor=\"middle\" x=\"558\" y=\"-119.3\" font-family=\"Helvetica,sans-Serif\" font-size=\"14.00\" fill=\"#000000\">class = no_bloom</text>\n</g>\n<!-- 10&#45;&gt;14 -->\n<g id=\"edge14\" class=\"edge\">\n<title>10&#45;&gt;14</title>\n<path fill=\"none\" stroke=\"#000000\" d=\"M455.911,-222.8796C471.7994,-210.8368 489.1091,-197.7167 504.8857,-185.7586\"/>\n<polygon fill=\"#000000\" stroke=\"#000000\" points=\"507.1253,-188.4529 512.9805,-179.623 502.8969,-182.8743 507.1253,-188.4529\"/>\n</g>\n<!-- 12 -->\n<g id=\"node13\" class=\"node\">\n<title>12</title>\n<path fill=\"#399de5\" stroke=\"#000000\" d=\"M452.5,-68C452.5,-68 345.5,-68 345.5,-68 339.5,-68 333.5,-62 333.5,-56 333.5,-56 333.5,-12 333.5,-12 333.5,-6 339.5,0 345.5,0 345.5,0 452.5,0 452.5,0 458.5,0 464.5,-6 464.5,-12 464.5,-12 464.5,-56 464.5,-56 464.5,-62 458.5,-68 452.5,-68\"/>\n<text text-anchor=\"middle\" x=\"399\" y=\"-52.8\" font-family=\"Helvetica,sans-Serif\" font-size=\"14.00\" fill=\"#000000\">gini = 0.0</text>\n<text text-anchor=\"middle\" x=\"399\" y=\"-37.8\" font-family=\"Helvetica,sans-Serif\" font-size=\"14.00\" fill=\"#000000\">samples = 1</text>\n<text text-anchor=\"middle\" x=\"399\" y=\"-22.8\" font-family=\"Helvetica,sans-Serif\" font-size=\"14.00\" fill=\"#000000\">value = [0, 1]</text>\n<text text-anchor=\"middle\" x=\"399\" y=\"-7.8\" font-family=\"Helvetica,sans-Serif\" font-size=\"14.00\" fill=\"#000000\">class = no_bloom</text>\n</g>\n<!-- 11&#45;&gt;12 -->\n<g id=\"edge12\" class=\"edge\">\n<title>11&#45;&gt;12</title>\n<path fill=\"none\" stroke=\"#000000\" d=\"M400.2553,-103.9815C400.1053,-95.618 399.947,-86.7965 399.7954,-78.3409\"/>\n<polygon fill=\"#000000\" stroke=\"#000000\" points=\"403.2935,-78.1993 399.6146,-68.2637 396.2946,-78.3249 403.2935,-78.1993\"/>\n</g>\n<!-- 13 -->\n<g id=\"node14\" class=\"node\">\n<title>13</title>\n<path fill=\"#e58139\" stroke=\"#000000\" d=\"M617,-68C617,-68 495,-68 495,-68 489,-68 483,-62 483,-56 483,-56 483,-12 483,-12 483,-6 489,0 495,0 495,0 617,0 617,0 623,0 629,-6 629,-12 629,-12 629,-56 629,-56 629,-62 623,-68 617,-68\"/>\n<text text-anchor=\"middle\" x=\"556\" y=\"-52.8\" font-family=\"Helvetica,sans-Serif\" font-size=\"14.00\" fill=\"#000000\">gini = 0.0</text>\n<text text-anchor=\"middle\" x=\"556\" y=\"-37.8\" font-family=\"Helvetica,sans-Serif\" font-size=\"14.00\" fill=\"#000000\">samples = 1</text>\n<text text-anchor=\"middle\" x=\"556\" y=\"-22.8\" font-family=\"Helvetica,sans-Serif\" font-size=\"14.00\" fill=\"#000000\">value = [1, 0]</text>\n<text text-anchor=\"middle\" x=\"556\" y=\"-7.8\" font-family=\"Helvetica,sans-Serif\" font-size=\"14.00\" fill=\"#000000\">class = large_bloom</text>\n</g>\n<!-- 11&#45;&gt;13 -->\n<g id=\"edge13\" class=\"edge\">\n<title>11&#45;&gt;13</title>\n<path fill=\"none\" stroke=\"#000000\" d=\"M458.7163,-103.9815C472.2591,-94.2394 486.6657,-83.8759 500.1263,-74.193\"/>\n<polygon fill=\"#000000\" stroke=\"#000000\" points=\"502.2949,-76.9446 508.3689,-68.2637 498.2072,-71.2621 502.2949,-76.9446\"/>\n</g>\n<!-- 17 -->\n<g id=\"node18\" class=\"node\">\n<title>17</title>\n<path fill=\"#61b1ea\" stroke=\"#000000\" d=\"M838.5,-544C838.5,-544 731.5,-544 731.5,-544 725.5,-544 719.5,-538 719.5,-532 719.5,-532 719.5,-473 719.5,-473 719.5,-467 725.5,-461 731.5,-461 731.5,-461 838.5,-461 838.5,-461 844.5,-461 850.5,-467 850.5,-473 850.5,-473 850.5,-532 850.5,-532 850.5,-538 844.5,-544 838.5,-544\"/>\n<text text-anchor=\"middle\" x=\"785\" y=\"-528.8\" font-family=\"Helvetica,sans-Serif\" font-size=\"14.00\" fill=\"#000000\">season &lt;= 1.5</text>\n<text text-anchor=\"middle\" x=\"785\" y=\"-513.8\" font-family=\"Helvetica,sans-Serif\" font-size=\"14.00\" fill=\"#000000\">gini = 0.278</text>\n<text text-anchor=\"middle\" x=\"785\" y=\"-498.8\" font-family=\"Helvetica,sans-Serif\" font-size=\"14.00\" fill=\"#000000\">samples = 6</text>\n<text text-anchor=\"middle\" x=\"785\" y=\"-483.8\" font-family=\"Helvetica,sans-Serif\" font-size=\"14.00\" fill=\"#000000\">value = [1, 5]</text>\n<text text-anchor=\"middle\" x=\"785\" y=\"-468.8\" font-family=\"Helvetica,sans-Serif\" font-size=\"14.00\" fill=\"#000000\">class = no_bloom</text>\n</g>\n<!-- 16&#45;&gt;17 -->\n<g id=\"edge17\" class=\"edge\">\n<title>16&#45;&gt;17</title>\n<path fill=\"none\" stroke=\"#000000\" d=\"M785,-579.8796C785,-571.6838 785,-562.9891 785,-554.5013\"/>\n<polygon fill=\"#000000\" stroke=\"#000000\" points=\"788.5001,-554.298 785,-544.2981 781.5001,-554.2981 788.5001,-554.298\"/>\n</g>\n<!-- 22 -->\n<g id=\"node23\" class=\"node\">\n<title>22</title>\n<path fill=\"#ffffff\" stroke=\"#000000\" d=\"M1007,-544C1007,-544 885,-544 885,-544 879,-544 873,-538 873,-532 873,-532 873,-473 873,-473 873,-467 879,-461 885,-461 885,-461 1007,-461 1007,-461 1013,-461 1019,-467 1019,-473 1019,-473 1019,-532 1019,-532 1019,-538 1013,-544 1007,-544\"/>\n<text text-anchor=\"middle\" x=\"946\" y=\"-528.8\" font-family=\"Helvetica,sans-Serif\" font-size=\"14.00\" fill=\"#000000\">wind_os &lt;= 0.0</text>\n<text text-anchor=\"middle\" x=\"946\" y=\"-513.8\" font-family=\"Helvetica,sans-Serif\" font-size=\"14.00\" fill=\"#000000\">gini = 0.5</text>\n<text text-anchor=\"middle\" x=\"946\" y=\"-498.8\" font-family=\"Helvetica,sans-Serif\" font-size=\"14.00\" fill=\"#000000\">samples = 6</text>\n<text text-anchor=\"middle\" x=\"946\" y=\"-483.8\" font-family=\"Helvetica,sans-Serif\" font-size=\"14.00\" fill=\"#000000\">value = [3, 3]</text>\n<text text-anchor=\"middle\" x=\"946\" y=\"-468.8\" font-family=\"Helvetica,sans-Serif\" font-size=\"14.00\" fill=\"#000000\">class = large_bloom</text>\n</g>\n<!-- 16&#45;&gt;22 -->\n<g id=\"edge22\" class=\"edge\">\n<title>16&#45;&gt;22</title>\n<path fill=\"none\" stroke=\"#000000\" d=\"M841.31,-579.8796C854.3012,-570.2774 868.219,-559.9903 881.5277,-550.1534\"/>\n<polygon fill=\"#000000\" stroke=\"#000000\" points=\"883.7604,-552.8555 889.7218,-544.0969 879.5996,-547.2263 883.7604,-552.8555\"/>\n</g>\n<!-- 18 -->\n<g id=\"node19\" class=\"node\">\n<title>18</title>\n<path fill=\"#9ccef2\" stroke=\"#000000\" d=\"M693.5,-425C693.5,-425 586.5,-425 586.5,-425 580.5,-425 574.5,-419 574.5,-413 574.5,-413 574.5,-354 574.5,-354 574.5,-348 580.5,-342 586.5,-342 586.5,-342 693.5,-342 693.5,-342 699.5,-342 705.5,-348 705.5,-354 705.5,-354 705.5,-413 705.5,-413 705.5,-419 699.5,-425 693.5,-425\"/>\n<text text-anchor=\"middle\" x=\"640\" y=\"-409.8\" font-family=\"Helvetica,sans-Serif\" font-size=\"14.00\" fill=\"#000000\">wind_as &lt;= 0.0</text>\n<text text-anchor=\"middle\" x=\"640\" y=\"-394.8\" font-family=\"Helvetica,sans-Serif\" font-size=\"14.00\" fill=\"#000000\">gini = 0.444</text>\n<text text-anchor=\"middle\" x=\"640\" y=\"-379.8\" font-family=\"Helvetica,sans-Serif\" font-size=\"14.00\" fill=\"#000000\">samples = 3</text>\n<text text-anchor=\"middle\" x=\"640\" y=\"-364.8\" font-family=\"Helvetica,sans-Serif\" font-size=\"14.00\" fill=\"#000000\">value = [1, 2]</text>\n<text text-anchor=\"middle\" x=\"640\" y=\"-349.8\" font-family=\"Helvetica,sans-Serif\" font-size=\"14.00\" fill=\"#000000\">class = no_bloom</text>\n</g>\n<!-- 17&#45;&gt;18 -->\n<g id=\"edge18\" class=\"edge\">\n<title>17&#45;&gt;18</title>\n<path fill=\"none\" stroke=\"#000000\" d=\"M734.286,-460.8796C722.873,-451.513 710.6659,-441.4948 698.9485,-431.8784\"/>\n<polygon fill=\"#000000\" stroke=\"#000000\" points=\"700.8809,-428.9366 690.9304,-425.2981 696.4401,-434.3476 700.8809,-428.9366\"/>\n</g>\n<!-- 21 -->\n<g id=\"node22\" class=\"node\">\n<title>21</title>\n<path fill=\"#399de5\" stroke=\"#000000\" d=\"M842.5,-417.5C842.5,-417.5 735.5,-417.5 735.5,-417.5 729.5,-417.5 723.5,-411.5 723.5,-405.5 723.5,-405.5 723.5,-361.5 723.5,-361.5 723.5,-355.5 729.5,-349.5 735.5,-349.5 735.5,-349.5 842.5,-349.5 842.5,-349.5 848.5,-349.5 854.5,-355.5 854.5,-361.5 854.5,-361.5 854.5,-405.5 854.5,-405.5 854.5,-411.5 848.5,-417.5 842.5,-417.5\"/>\n<text text-anchor=\"middle\" x=\"789\" y=\"-402.3\" font-family=\"Helvetica,sans-Serif\" font-size=\"14.00\" fill=\"#000000\">gini = 0.0</text>\n<text text-anchor=\"middle\" x=\"789\" y=\"-387.3\" font-family=\"Helvetica,sans-Serif\" font-size=\"14.00\" fill=\"#000000\">samples = 3</text>\n<text text-anchor=\"middle\" x=\"789\" y=\"-372.3\" font-family=\"Helvetica,sans-Serif\" font-size=\"14.00\" fill=\"#000000\">value = [0, 3]</text>\n<text text-anchor=\"middle\" x=\"789\" y=\"-357.3\" font-family=\"Helvetica,sans-Serif\" font-size=\"14.00\" fill=\"#000000\">class = no_bloom</text>\n</g>\n<!-- 17&#45;&gt;21 -->\n<g id=\"edge21\" class=\"edge\">\n<title>17&#45;&gt;21</title>\n<path fill=\"none\" stroke=\"#000000\" d=\"M786.399,-460.8796C786.7575,-450.2134 787.1445,-438.7021 787.5075,-427.9015\"/>\n<polygon fill=\"#000000\" stroke=\"#000000\" points=\"791.0085,-427.9269 787.8466,-417.8149 784.0125,-427.6917 791.0085,-427.9269\"/>\n</g>\n<!-- 19 -->\n<g id=\"node20\" class=\"node\">\n<title>19</title>\n<path fill=\"#ffffff\" stroke=\"#000000\" d=\"M619,-298.5C619,-298.5 497,-298.5 497,-298.5 491,-298.5 485,-292.5 485,-286.5 485,-286.5 485,-242.5 485,-242.5 485,-236.5 491,-230.5 497,-230.5 497,-230.5 619,-230.5 619,-230.5 625,-230.5 631,-236.5 631,-242.5 631,-242.5 631,-286.5 631,-286.5 631,-292.5 625,-298.5 619,-298.5\"/>\n<text text-anchor=\"middle\" x=\"558\" y=\"-283.3\" font-family=\"Helvetica,sans-Serif\" font-size=\"14.00\" fill=\"#000000\">gini = 0.5</text>\n<text text-anchor=\"middle\" x=\"558\" y=\"-268.3\" font-family=\"Helvetica,sans-Serif\" font-size=\"14.00\" fill=\"#000000\">samples = 2</text>\n<text text-anchor=\"middle\" x=\"558\" y=\"-253.3\" font-family=\"Helvetica,sans-Serif\" font-size=\"14.00\" fill=\"#000000\">value = [1, 1]</text>\n<text text-anchor=\"middle\" x=\"558\" y=\"-238.3\" font-family=\"Helvetica,sans-Serif\" font-size=\"14.00\" fill=\"#000000\">class = large_bloom</text>\n</g>\n<!-- 18&#45;&gt;19 -->\n<g id=\"edge19\" class=\"edge\">\n<title>18&#45;&gt;19</title>\n<path fill=\"none\" stroke=\"#000000\" d=\"M611.3204,-341.8796C603.5917,-330.6636 595.2191,-318.5131 587.4492,-307.2372\"/>\n<polygon fill=\"#000000\" stroke=\"#000000\" points=\"590.2018,-305.0634 581.6456,-298.8149 584.4377,-309.0353 590.2018,-305.0634\"/>\n</g>\n<!-- 20 -->\n<g id=\"node21\" class=\"node\">\n<title>20</title>\n<path fill=\"#399de5\" stroke=\"#000000\" d=\"M768.5,-298.5C768.5,-298.5 661.5,-298.5 661.5,-298.5 655.5,-298.5 649.5,-292.5 649.5,-286.5 649.5,-286.5 649.5,-242.5 649.5,-242.5 649.5,-236.5 655.5,-230.5 661.5,-230.5 661.5,-230.5 768.5,-230.5 768.5,-230.5 774.5,-230.5 780.5,-236.5 780.5,-242.5 780.5,-242.5 780.5,-286.5 780.5,-286.5 780.5,-292.5 774.5,-298.5 768.5,-298.5\"/>\n<text text-anchor=\"middle\" x=\"715\" y=\"-283.3\" font-family=\"Helvetica,sans-Serif\" font-size=\"14.00\" fill=\"#000000\">gini = 0.0</text>\n<text text-anchor=\"middle\" x=\"715\" y=\"-268.3\" font-family=\"Helvetica,sans-Serif\" font-size=\"14.00\" fill=\"#000000\">samples = 1</text>\n<text text-anchor=\"middle\" x=\"715\" y=\"-253.3\" font-family=\"Helvetica,sans-Serif\" font-size=\"14.00\" fill=\"#000000\">value = [0, 1]</text>\n<text text-anchor=\"middle\" x=\"715\" y=\"-238.3\" font-family=\"Helvetica,sans-Serif\" font-size=\"14.00\" fill=\"#000000\">class = no_bloom</text>\n</g>\n<!-- 18&#45;&gt;20 -->\n<g id=\"edge20\" class=\"edge\">\n<title>18&#45;&gt;20</title>\n<path fill=\"none\" stroke=\"#000000\" d=\"M666.2314,-341.8796C673.231,-330.7735 680.808,-318.7513 687.8556,-307.5691\"/>\n<polygon fill=\"#000000\" stroke=\"#000000\" points=\"691.002,-309.1411 693.3729,-298.8149 685.08,-305.4087 691.002,-309.1411\"/>\n</g>\n<!-- 23 -->\n<g id=\"node24\" class=\"node\">\n<title>23</title>\n<path fill=\"#f2c09c\" stroke=\"#000000\" d=\"M1007,-425C1007,-425 885,-425 885,-425 879,-425 873,-419 873,-413 873,-413 873,-354 873,-354 873,-348 879,-342 885,-342 885,-342 1007,-342 1007,-342 1013,-342 1019,-348 1019,-354 1019,-354 1019,-413 1019,-413 1019,-419 1013,-425 1007,-425\"/>\n<text text-anchor=\"middle\" x=\"946\" y=\"-409.8\" font-family=\"Helvetica,sans-Serif\" font-size=\"14.00\" fill=\"#000000\">wind_as &lt;= 0.0</text>\n<text text-anchor=\"middle\" x=\"946\" y=\"-394.8\" font-family=\"Helvetica,sans-Serif\" font-size=\"14.00\" fill=\"#000000\">gini = 0.444</text>\n<text text-anchor=\"middle\" x=\"946\" y=\"-379.8\" font-family=\"Helvetica,sans-Serif\" font-size=\"14.00\" fill=\"#000000\">samples = 3</text>\n<text text-anchor=\"middle\" x=\"946\" y=\"-364.8\" font-family=\"Helvetica,sans-Serif\" font-size=\"14.00\" fill=\"#000000\">value = [2, 1]</text>\n<text text-anchor=\"middle\" x=\"946\" y=\"-349.8\" font-family=\"Helvetica,sans-Serif\" font-size=\"14.00\" fill=\"#000000\">class = large_bloom</text>\n</g>\n<!-- 22&#45;&gt;23 -->\n<g id=\"edge23\" class=\"edge\">\n<title>22&#45;&gt;23</title>\n<path fill=\"none\" stroke=\"#000000\" d=\"M946,-460.8796C946,-452.6838 946,-443.9891 946,-435.5013\"/>\n<polygon fill=\"#000000\" stroke=\"#000000\" points=\"949.5001,-435.298 946,-425.2981 942.5001,-435.2981 949.5001,-435.298\"/>\n</g>\n<!-- 26 -->\n<g id=\"node27\" class=\"node\">\n<title>26</title>\n<path fill=\"#9ccef2\" stroke=\"#000000\" d=\"M1253.5,-425C1253.5,-425 1146.5,-425 1146.5,-425 1140.5,-425 1134.5,-419 1134.5,-413 1134.5,-413 1134.5,-354 1134.5,-354 1134.5,-348 1140.5,-342 1146.5,-342 1146.5,-342 1253.5,-342 1253.5,-342 1259.5,-342 1265.5,-348 1265.5,-354 1265.5,-354 1265.5,-413 1265.5,-413 1265.5,-419 1259.5,-425 1253.5,-425\"/>\n<text text-anchor=\"middle\" x=\"1200\" y=\"-409.8\" font-family=\"Helvetica,sans-Serif\" font-size=\"14.00\" fill=\"#000000\">wind_as &lt;= 0.0</text>\n<text text-anchor=\"middle\" x=\"1200\" y=\"-394.8\" font-family=\"Helvetica,sans-Serif\" font-size=\"14.00\" fill=\"#000000\">gini = 0.444</text>\n<text text-anchor=\"middle\" x=\"1200\" y=\"-379.8\" font-family=\"Helvetica,sans-Serif\" font-size=\"14.00\" fill=\"#000000\">samples = 3</text>\n<text text-anchor=\"middle\" x=\"1200\" y=\"-364.8\" font-family=\"Helvetica,sans-Serif\" font-size=\"14.00\" fill=\"#000000\">value = [1, 2]</text>\n<text text-anchor=\"middle\" x=\"1200\" y=\"-349.8\" font-family=\"Helvetica,sans-Serif\" font-size=\"14.00\" fill=\"#000000\">class = no_bloom</text>\n</g>\n<!-- 22&#45;&gt;26 -->\n<g id=\"edge26\" class=\"edge\">\n<title>22&#45;&gt;26</title>\n<path fill=\"none\" stroke=\"#000000\" d=\"M1019.1266,-468.2399C1052.349,-452.6751 1091.609,-434.2816 1125.0479,-418.6154\"/>\n<polygon fill=\"#000000\" stroke=\"#000000\" points=\"1126.7446,-421.6856 1134.3152,-414.2736 1123.7748,-415.3468 1126.7446,-421.6856\"/>\n</g>\n<!-- 24 -->\n<g id=\"node25\" class=\"node\">\n<title>24</title>\n<path fill=\"#ffffff\" stroke=\"#000000\" d=\"M933,-298.5C933,-298.5 811,-298.5 811,-298.5 805,-298.5 799,-292.5 799,-286.5 799,-286.5 799,-242.5 799,-242.5 799,-236.5 805,-230.5 811,-230.5 811,-230.5 933,-230.5 933,-230.5 939,-230.5 945,-236.5 945,-242.5 945,-242.5 945,-286.5 945,-286.5 945,-292.5 939,-298.5 933,-298.5\"/>\n<text text-anchor=\"middle\" x=\"872\" y=\"-283.3\" font-family=\"Helvetica,sans-Serif\" font-size=\"14.00\" fill=\"#000000\">gini = 0.5</text>\n<text text-anchor=\"middle\" x=\"872\" y=\"-268.3\" font-family=\"Helvetica,sans-Serif\" font-size=\"14.00\" fill=\"#000000\">samples = 2</text>\n<text text-anchor=\"middle\" x=\"872\" y=\"-253.3\" font-family=\"Helvetica,sans-Serif\" font-size=\"14.00\" fill=\"#000000\">value = [1, 1]</text>\n<text text-anchor=\"middle\" x=\"872\" y=\"-238.3\" font-family=\"Helvetica,sans-Serif\" font-size=\"14.00\" fill=\"#000000\">class = large_bloom</text>\n</g>\n<!-- 23&#45;&gt;24 -->\n<g id=\"edge24\" class=\"edge\">\n<title>23&#45;&gt;24</title>\n<path fill=\"none\" stroke=\"#000000\" d=\"M920.1184,-341.8796C913.2121,-330.7735 905.7361,-318.7513 898.7825,-307.5691\"/>\n<polygon fill=\"#000000\" stroke=\"#000000\" points=\"901.5917,-305.4587 893.3387,-298.8149 895.6473,-309.1552 901.5917,-305.4587\"/>\n</g>\n<!-- 25 -->\n<g id=\"node26\" class=\"node\">\n<title>25</title>\n<path fill=\"#e58139\" stroke=\"#000000\" d=\"M1097,-298.5C1097,-298.5 975,-298.5 975,-298.5 969,-298.5 963,-292.5 963,-286.5 963,-286.5 963,-242.5 963,-242.5 963,-236.5 969,-230.5 975,-230.5 975,-230.5 1097,-230.5 1097,-230.5 1103,-230.5 1109,-236.5 1109,-242.5 1109,-242.5 1109,-286.5 1109,-286.5 1109,-292.5 1103,-298.5 1097,-298.5\"/>\n<text text-anchor=\"middle\" x=\"1036\" y=\"-283.3\" font-family=\"Helvetica,sans-Serif\" font-size=\"14.00\" fill=\"#000000\">gini = 0.0</text>\n<text text-anchor=\"middle\" x=\"1036\" y=\"-268.3\" font-family=\"Helvetica,sans-Serif\" font-size=\"14.00\" fill=\"#000000\">samples = 1</text>\n<text text-anchor=\"middle\" x=\"1036\" y=\"-253.3\" font-family=\"Helvetica,sans-Serif\" font-size=\"14.00\" fill=\"#000000\">value = [1, 0]</text>\n<text text-anchor=\"middle\" x=\"1036\" y=\"-238.3\" font-family=\"Helvetica,sans-Serif\" font-size=\"14.00\" fill=\"#000000\">class = large_bloom</text>\n</g>\n<!-- 23&#45;&gt;25 -->\n<g id=\"edge25\" class=\"edge\">\n<title>23&#45;&gt;25</title>\n<path fill=\"none\" stroke=\"#000000\" d=\"M977.4776,-341.8796C986.0435,-330.5536 995.33,-318.2748 1003.9283,-306.9058\"/>\n<polygon fill=\"#000000\" stroke=\"#000000\" points=\"1006.8069,-308.902 1010.0475,-298.8149 1001.2238,-304.6795 1006.8069,-308.902\"/>\n</g>\n<!-- 27 -->\n<g id=\"node28\" class=\"node\">\n<title>27</title>\n<path fill=\"#e58139\" stroke=\"#000000\" d=\"M1261,-298.5C1261,-298.5 1139,-298.5 1139,-298.5 1133,-298.5 1127,-292.5 1127,-286.5 1127,-286.5 1127,-242.5 1127,-242.5 1127,-236.5 1133,-230.5 1139,-230.5 1139,-230.5 1261,-230.5 1261,-230.5 1267,-230.5 1273,-236.5 1273,-242.5 1273,-242.5 1273,-286.5 1273,-286.5 1273,-292.5 1267,-298.5 1261,-298.5\"/>\n<text text-anchor=\"middle\" x=\"1200\" y=\"-283.3\" font-family=\"Helvetica,sans-Serif\" font-size=\"14.00\" fill=\"#000000\">gini = 0.0</text>\n<text text-anchor=\"middle\" x=\"1200\" y=\"-268.3\" font-family=\"Helvetica,sans-Serif\" font-size=\"14.00\" fill=\"#000000\">samples = 1</text>\n<text text-anchor=\"middle\" x=\"1200\" y=\"-253.3\" font-family=\"Helvetica,sans-Serif\" font-size=\"14.00\" fill=\"#000000\">value = [1, 0]</text>\n<text text-anchor=\"middle\" x=\"1200\" y=\"-238.3\" font-family=\"Helvetica,sans-Serif\" font-size=\"14.00\" fill=\"#000000\">class = large_bloom</text>\n</g>\n<!-- 26&#45;&gt;27 -->\n<g id=\"edge27\" class=\"edge\">\n<title>26&#45;&gt;27</title>\n<path fill=\"none\" stroke=\"#000000\" d=\"M1200,-341.8796C1200,-331.2134 1200,-319.7021 1200,-308.9015\"/>\n<polygon fill=\"#000000\" stroke=\"#000000\" points=\"1203.5001,-308.8149 1200,-298.8149 1196.5001,-308.815 1203.5001,-308.8149\"/>\n</g>\n<!-- 28 -->\n<g id=\"node29\" class=\"node\">\n<title>28</title>\n<path fill=\"#399de5\" stroke=\"#000000\" d=\"M1410.5,-298.5C1410.5,-298.5 1303.5,-298.5 1303.5,-298.5 1297.5,-298.5 1291.5,-292.5 1291.5,-286.5 1291.5,-286.5 1291.5,-242.5 1291.5,-242.5 1291.5,-236.5 1297.5,-230.5 1303.5,-230.5 1303.5,-230.5 1410.5,-230.5 1410.5,-230.5 1416.5,-230.5 1422.5,-236.5 1422.5,-242.5 1422.5,-242.5 1422.5,-286.5 1422.5,-286.5 1422.5,-292.5 1416.5,-298.5 1410.5,-298.5\"/>\n<text text-anchor=\"middle\" x=\"1357\" y=\"-283.3\" font-family=\"Helvetica,sans-Serif\" font-size=\"14.00\" fill=\"#000000\">gini = 0.0</text>\n<text text-anchor=\"middle\" x=\"1357\" y=\"-268.3\" font-family=\"Helvetica,sans-Serif\" font-size=\"14.00\" fill=\"#000000\">samples = 2</text>\n<text text-anchor=\"middle\" x=\"1357\" y=\"-253.3\" font-family=\"Helvetica,sans-Serif\" font-size=\"14.00\" fill=\"#000000\">value = [0, 2]</text>\n<text text-anchor=\"middle\" x=\"1357\" y=\"-238.3\" font-family=\"Helvetica,sans-Serif\" font-size=\"14.00\" fill=\"#000000\">class = no_bloom</text>\n</g>\n<!-- 26&#45;&gt;28 -->\n<g id=\"edge28\" class=\"edge\">\n<title>26&#45;&gt;28</title>\n<path fill=\"none\" stroke=\"#000000\" d=\"M1254.911,-341.8796C1270.7994,-329.8368 1288.1091,-316.7167 1303.8857,-304.7586\"/>\n<polygon fill=\"#000000\" stroke=\"#000000\" points=\"1306.1253,-307.4529 1311.9805,-298.623 1301.8969,-301.8743 1306.1253,-307.4529\"/>\n</g>\n<!-- \\n -->\n<g id=\"node30\" class=\"node\">\n<title>\\n</title>\n<path fill=\"#000000\" stroke=\"#000000\" d=\"M766,-758.5C766,-758.5 736,-758.5 736,-758.5 730,-758.5 724,-752.5 724,-746.5 724,-746.5 724,-734.5 724,-734.5 724,-728.5 730,-722.5 736,-722.5 736,-722.5 766,-722.5 766,-722.5 772,-722.5 778,-728.5 778,-734.5 778,-734.5 778,-746.5 778,-746.5 778,-752.5 772,-758.5 766,-758.5\"/>\n</g>\n</g>\n</svg>\n"
          },
          "metadata": {},
          "execution_count": 12
        }
      ],
      "source": [
        "#load model from a file\n",
        "model=joblib.load('Redtide_Bloom_Pred.joblib')\n",
        "\n",
        "#Export model in visual format (to know how the model makes predictions)\n",
        "dot_data=tree.export_graphviz(model,out_file=None, max_depth=None,label='all',rounded=True,filled=True,\n",
        "                     feature_names=['season','SSH','river_ch','river_pc','wind_os','wind_as'],class_names=sorted(y.unique()))\n",
        "\n",
        "#pydot to resize and saving \n",
        "pydot_graph = pydotplus.graph_from_dot_data(dot_data)\n",
        "pydot_graph.set_size('\"14,14!\"')\n",
        "\n",
        "#graphviz for screen display \n",
        "graphviz.Source(pydot_graph.to_string())\n",
        "\n"
      ]
    }
  ],
  "metadata": {
    "kernelspec": {
      "display_name": "Python 3",
      "language": "python",
      "name": "python3"
    },
    "language_info": {
      "codemirror_mode": {
        "name": "ipython",
        "version": 3
      },
      "file_extension": ".py",
      "mimetype": "text/x-python",
      "name": "python",
      "nbconvert_exporter": "python",
      "pygments_lexer": "ipython3",
      "version": "3.8.3"
    },
    "colab": {
      "name": "Redtide.ipynb",
      "provenance": [],
      "include_colab_link": true
    }
  },
  "nbformat": 4,
  "nbformat_minor": 0
}