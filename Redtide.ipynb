{
  "cells": [
    {
      "cell_type": "markdown",
      "metadata": {
        "id": "view-in-github",
        "colab_type": "text"
      },
      "source": [
        "<a href=\"https://colab.research.google.com/github/aselshall/ML_Redtide_Example/blob/main/Redtide.ipynb\" target=\"_parent\"><img src=\"https://colab.research.google.com/assets/colab-badge.svg\" alt=\"Open In Colab\"/></a>"
      ]
    },
    {
      "cell_type": "markdown",
      "metadata": {
        "id": "gw5mBq5qvj8z"
      },
      "source": [
        "### Example 2: Red tide classification problem (large bloom, no bloom)\n",
        "Decision trees with python (scikit-learn, and graphviz)"
      ]
    },
    {
      "cell_type": "code",
      "execution_count": 1,
      "metadata": {
        "id": "-fzhhPl0vj85"
      },
      "outputs": [],
      "source": [
        "#General\n",
        "import pandas as pd\n",
        "import numpy as np\n",
        "import matplotlib.pyplot as plt\n",
        "\n",
        "\n",
        "#ML\n",
        "from sklearn.model_selection import train_test_split\n",
        "from sklearn.tree import DecisionTreeClassifier\n",
        "from sklearn.ensemble import RandomForestClassifier\n",
        "from sklearn.metrics import accuracy_score\n",
        "from sklearn import tree\n",
        "import graphviz\n",
        "import pydotplus\n",
        "import joblib"
      ]
    },
    {
      "cell_type": "code",
      "source": [
        "from pathlib import Path\n",
        "import random\n",
        "\n",
        "import gdown\n",
        "from pathlib import Path\n",
        "Path('Input').mkdir(parents=True, exist_ok=True)\n",
        "Path('Output').mkdir(parents=True, exist_ok=True)\n",
        "file='maze_data.csv'\n",
        "file_ID='1z7Y7cDHtWhKmAbFNl0ABlMp3NOA2fVQr'\n",
        "url='https://drive.google.com/uc?id='\n",
        "print('Input files download')\n",
        "source=url+file_ID\n",
        "destination='Input/{}'.format(file)\n",
        "print('from {} to {}'.format(source,destination))\n",
        "gdown.download(source, destination, quiet=True)"
      ],
      "metadata": {
        "colab": {
          "base_uri": "https://localhost:8080/",
          "height": 70
        },
        "id": "CfC6nxoEwpwY",
        "outputId": "ba7ad1d1-ee8c-4433-e4f6-6841eb52e9ad"
      },
      "execution_count": 2,
      "outputs": [
        {
          "output_type": "stream",
          "name": "stdout",
          "text": [
            "Input files download\n",
            "from https://drive.google.com/uc?id=1z7Y7cDHtWhKmAbFNl0ABlMp3NOA2fVQr to Input/maze_data.csv\n"
          ]
        },
        {
          "output_type": "execute_result",
          "data": {
            "application/vnd.google.colaboratory.intrinsic+json": {
              "type": "string"
            },
            "text/plain": [
              "'Input/maze_data.csv'"
            ]
          },
          "metadata": {},
          "execution_count": 2
        }
      ]
    },
    {
      "cell_type": "code",
      "execution_count": 3,
      "metadata": {
        "id": "aee5CQ_dvj89"
      },
      "outputs": [],
      "source": [
        "df=pd.read_csv('Input/maze_data.csv')\n",
        "#display(df) "
      ]
    },
    {
      "cell_type": "markdown",
      "metadata": {
        "id": "KfLU0utuvj89"
      },
      "source": [
        "#### [2] Clean and prepare data"
      ]
    },
    {
      "cell_type": "code",
      "execution_count": 4,
      "metadata": {
        "id": "_XOsVt9wvj8-"
      },
      "outputs": [],
      "source": [
        "# Predictor variables\n",
        "X=df.drop(columns=['index','bloom','output'])\n",
        "#display(X)\n",
        "\n",
        "#Target variable(or label, or predictand)\n",
        "y=df.output\n",
        "#display(y)"
      ]
    },
    {
      "cell_type": "markdown",
      "metadata": {
        "id": "M2I0ZAeuvj8_"
      },
      "source": [
        "#### [3] Split data "
      ]
    },
    {
      "cell_type": "code",
      "execution_count": 5,
      "metadata": {
        "id": "cnl8tSURvj9A"
      },
      "outputs": [],
      "source": [
        "#Split to train and test\n",
        "X_train, X_test, y_train, y_test =train_test_split(X,y,test_size=0.2)\n",
        "\n",
        "# #Save splitted data\n",
        "# X_train.to_csv('X_train.csv') \n",
        "# X_test.to_csv('X_test.csv') \n",
        "# y_train .to_csv('y_train.csv') \n",
        "# y_test.to_csv('y_test.csv') \n",
        "\n",
        "#Display data\n",
        "#display(X_train)\n",
        "#display(y_train)"
      ]
    },
    {
      "cell_type": "markdown",
      "metadata": {
        "id": "AitakwsPvj9B"
      },
      "source": [
        "#### [4] Create, train, evaluate and save model "
      ]
    },
    {
      "cell_type": "code",
      "execution_count": 6,
      "metadata": {
        "colab": {
          "base_uri": "https://localhost:8080/"
        },
        "id": "BHaGpYmwvj9B",
        "outputId": "9517f558-5618-48c9-b431-4b3d5d19c2e8"
      },
      "outputs": [
        {
          "output_type": "stream",
          "name": "stdout",
          "text": [
            "Accuracy: 0.75\n"
          ]
        },
        {
          "output_type": "execute_result",
          "data": {
            "text/plain": [
              "['Redtide_Bloom_Pred.joblib']"
            ]
          },
          "metadata": {},
          "execution_count": 6
        }
      ],
      "source": [
        "#Split to train and test\n",
        "X_train, X_test, y_train, y_test =train_test_split(X,y,test_size=0.2)\n",
        "\n",
        "# Define model: decision treee  \n",
        "model=DecisionTreeClassifier()\n",
        "#model=RandomForestClassifier()\n",
        "\n",
        "#Train model \n",
        "model.fit(X_train,y_train)\n",
        "\n",
        "#Make predictions\n",
        "y_pred=model.predict(X_test)\n",
        "\n",
        "#Evalaute predictions\n",
        "#fine tune the model, choose another algorithm or model, or application<br>\n",
        "#Accuracy:size_train_dataset, clean data (duplicates, missing data), irrelevent data\n",
        "score=accuracy_score(y_test,y_pred)\n",
        "print('Accuracy: {:0.2f}'.format(score))\n",
        "\n",
        "#Save model to a file \n",
        "joblib.dump(model,'Redtide_Bloom_Pred.joblib')"
      ]
    },
    {
      "cell_type": "markdown",
      "metadata": {
        "id": "8F8aukzIvj9C"
      },
      "source": [
        "#### [5] Model interpretation\n",
        "https://towardsdatascience.com/understanding-decision-trees-for-classification-python-9663d683c952<br>\n",
        "Plot decision tree starting from root+decision node, to decision node, and to terminal node (leaf).<br>\n",
        "Pure node means further spliting will not lead to further information gain, so classification trees do noy split on pure nodes.However, impure nodes can split further.<br>\n",
        "The figure shows that setosa was correctly classified for all 12 points.The right side shows that many points are misclassified as no_bloom.<br>\n",
        "Classification trees are a greedy algorithm which mean\n",
        "s by default it will continue to split until it has a pure node.<br> \n",
        "The algorithm chooses the best split point (i.e., gini) for the impure node.<br>\n",
        "Decision trees split on the feature that results in the largest information gain (e.g., gini or entropy criterion).<br>\n",
        "IG = information before splitting (parent) — information after splitting \n",
        "If the impurity criterion is not zero then we can furthr split."
      ]
    },
    {
      "cell_type": "markdown",
      "source": [
        "Season: (1) fall (dark blue) , (2) winter (light blue),\n",
        "(3) spring (green), (4) summer (red) <br>\n",
        "SSH: (0) Loop Current South, (1) Loop Current North in the Gulf of Mexico <br>\n",
        "wind_os: Off-shore wind speed (0) below average, (1) above average <br>\n",
        "wind_as_ Along-shre wind speed (0) below average, (1) above average <br>\n",
        "river_ch: Caloosahatchee river outflow (0) below average, (1) above average <br>\n",
        "river_pc: Peace River outflow (0) below average, (1) above average <br>"
      ],
      "metadata": {
        "id": "bLfuZdG3N8J6"
      }
    },
    {
      "cell_type": "code",
      "execution_count": 7,
      "metadata": {
        "colab": {
          "base_uri": "https://localhost:8080/",
          "height": 1000
        },
        "id": "LXvsEKuTvj9D",
        "outputId": "0f427162-d98b-4122-cf3a-39347cf23b93"
      },
      "outputs": [
        {
          "output_type": "execute_result",
          "data": {
            "text/plain": [
              "<graphviz.files.Source at 0x7f31b7237390>"
            ],
            "image/svg+xml": "<?xml version=\"1.0\" encoding=\"UTF-8\" standalone=\"no\"?>\n<!DOCTYPE svg PUBLIC \"-//W3C//DTD SVG 1.1//EN\"\n \"http://www.w3.org/Graphics/SVG/1.1/DTD/svg11.dtd\">\n<!-- Generated by graphviz version 2.40.1 (20161225.0304)\n -->\n<!-- Title: Tree Pages: 1 -->\n<svg width=\"1008pt\" height=\"801pt\"\n viewBox=\"0.00 0.00 1008.00 801.10\" xmlns=\"http://www.w3.org/2000/svg\" xmlns:xlink=\"http://www.w3.org/1999/xlink\">\n<g id=\"graph0\" class=\"graph\" transform=\"scale(.7793 .7793) rotate(0) translate(4 1024)\">\n<title>Tree</title>\n<polygon fill=\"#ffffff\" stroke=\"transparent\" points=\"-4,4 -4,-1024 1289.5,-1024 1289.5,4 -4,4\"/>\n<!-- 0 -->\n<g id=\"node1\" class=\"node\">\n<title>0</title>\n<path fill=\"#74baed\" stroke=\"#000000\" d=\"M461.5,-1020C461.5,-1020 354.5,-1020 354.5,-1020 348.5,-1020 342.5,-1014 342.5,-1008 342.5,-1008 342.5,-949 342.5,-949 342.5,-943 348.5,-937 354.5,-937 354.5,-937 461.5,-937 461.5,-937 467.5,-937 473.5,-943 473.5,-949 473.5,-949 473.5,-1008 473.5,-1008 473.5,-1014 467.5,-1020 461.5,-1020\"/>\n<text text-anchor=\"middle\" x=\"408\" y=\"-1004.8\" font-family=\"Helvetica,sans-Serif\" font-size=\"14.00\" fill=\"#000000\">SSH &lt;= 0.0</text>\n<text text-anchor=\"middle\" x=\"408\" y=\"-989.8\" font-family=\"Helvetica,sans-Serif\" font-size=\"14.00\" fill=\"#000000\">gini = 0.353</text>\n<text text-anchor=\"middle\" x=\"408\" y=\"-974.8\" font-family=\"Helvetica,sans-Serif\" font-size=\"14.00\" fill=\"#000000\">samples = 48</text>\n<text text-anchor=\"middle\" x=\"408\" y=\"-959.8\" font-family=\"Helvetica,sans-Serif\" font-size=\"14.00\" fill=\"#000000\">value = [11, 37]</text>\n<text text-anchor=\"middle\" x=\"408\" y=\"-944.8\" font-family=\"Helvetica,sans-Serif\" font-size=\"14.00\" fill=\"#000000\">class = no_bloom</text>\n</g>\n<!-- 1 -->\n<g id=\"node2\" class=\"node\">\n<title>1</title>\n<path fill=\"#399de5\" stroke=\"#000000\" d=\"M387.5,-893.5C387.5,-893.5 280.5,-893.5 280.5,-893.5 274.5,-893.5 268.5,-887.5 268.5,-881.5 268.5,-881.5 268.5,-837.5 268.5,-837.5 268.5,-831.5 274.5,-825.5 280.5,-825.5 280.5,-825.5 387.5,-825.5 387.5,-825.5 393.5,-825.5 399.5,-831.5 399.5,-837.5 399.5,-837.5 399.5,-881.5 399.5,-881.5 399.5,-887.5 393.5,-893.5 387.5,-893.5\"/>\n<text text-anchor=\"middle\" x=\"334\" y=\"-878.3\" font-family=\"Helvetica,sans-Serif\" font-size=\"14.00\" fill=\"#000000\">gini = 0.0</text>\n<text text-anchor=\"middle\" x=\"334\" y=\"-863.3\" font-family=\"Helvetica,sans-Serif\" font-size=\"14.00\" fill=\"#000000\">samples = 11</text>\n<text text-anchor=\"middle\" x=\"334\" y=\"-848.3\" font-family=\"Helvetica,sans-Serif\" font-size=\"14.00\" fill=\"#000000\">value = [0, 11]</text>\n<text text-anchor=\"middle\" x=\"334\" y=\"-833.3\" font-family=\"Helvetica,sans-Serif\" font-size=\"14.00\" fill=\"#000000\">class = no_bloom</text>\n</g>\n<!-- 0&#45;&gt;1 -->\n<g id=\"edge1\" class=\"edge\">\n<title>0&#45;&gt;1</title>\n<path fill=\"none\" stroke=\"#000000\" d=\"M382.1184,-936.8796C375.2121,-925.7735 367.7361,-913.7513 360.7825,-902.5691\"/>\n<polygon fill=\"#000000\" stroke=\"#000000\" points=\"363.5917,-900.4587 355.3387,-893.8149 357.6473,-904.1552 363.5917,-900.4587\"/>\n<text text-anchor=\"middle\" x=\"349.6619\" y=\"-914.4619\" font-family=\"Helvetica,sans-Serif\" font-size=\"14.00\" fill=\"#000000\">True</text>\n</g>\n<!-- 2 -->\n<g id=\"node3\" class=\"node\">\n<title>2</title>\n<path fill=\"#8dc6f0\" stroke=\"#000000\" d=\"M536.5,-901C536.5,-901 429.5,-901 429.5,-901 423.5,-901 417.5,-895 417.5,-889 417.5,-889 417.5,-830 417.5,-830 417.5,-824 423.5,-818 429.5,-818 429.5,-818 536.5,-818 536.5,-818 542.5,-818 548.5,-824 548.5,-830 548.5,-830 548.5,-889 548.5,-889 548.5,-895 542.5,-901 536.5,-901\"/>\n<text text-anchor=\"middle\" x=\"483\" y=\"-885.8\" font-family=\"Helvetica,sans-Serif\" font-size=\"14.00\" fill=\"#000000\">season &lt;= 1.5</text>\n<text text-anchor=\"middle\" x=\"483\" y=\"-870.8\" font-family=\"Helvetica,sans-Serif\" font-size=\"14.00\" fill=\"#000000\">gini = 0.418</text>\n<text text-anchor=\"middle\" x=\"483\" y=\"-855.8\" font-family=\"Helvetica,sans-Serif\" font-size=\"14.00\" fill=\"#000000\">samples = 37</text>\n<text text-anchor=\"middle\" x=\"483\" y=\"-840.8\" font-family=\"Helvetica,sans-Serif\" font-size=\"14.00\" fill=\"#000000\">value = [11, 26]</text>\n<text text-anchor=\"middle\" x=\"483\" y=\"-825.8\" font-family=\"Helvetica,sans-Serif\" font-size=\"14.00\" fill=\"#000000\">class = no_bloom</text>\n</g>\n<!-- 0&#45;&gt;2 -->\n<g id=\"edge2\" class=\"edge\">\n<title>0&#45;&gt;2</title>\n<path fill=\"none\" stroke=\"#000000\" d=\"M434.2314,-936.8796C439.7373,-928.1434 445.6006,-918.8404 451.2824,-909.8253\"/>\n<polygon fill=\"#000000\" stroke=\"#000000\" points=\"454.2857,-911.6242 456.6567,-901.2981 448.3637,-907.8919 454.2857,-911.6242\"/>\n<text text-anchor=\"middle\" x=\"462.1863\" y=\"-921.9789\" font-family=\"Helvetica,sans-Serif\" font-size=\"14.00\" fill=\"#000000\">False</text>\n</g>\n<!-- 3 -->\n<g id=\"node4\" class=\"node\">\n<title>3</title>\n<path fill=\"#eeab7b\" stroke=\"#000000\" d=\"M462,-782C462,-782 340,-782 340,-782 334,-782 328,-776 328,-770 328,-770 328,-711 328,-711 328,-705 334,-699 340,-699 340,-699 462,-699 462,-699 468,-699 474,-705 474,-711 474,-711 474,-770 474,-770 474,-776 468,-782 462,-782\"/>\n<text text-anchor=\"middle\" x=\"401\" y=\"-766.8\" font-family=\"Helvetica,sans-Serif\" font-size=\"14.00\" fill=\"#000000\">wind_os &lt;= 0.0</text>\n<text text-anchor=\"middle\" x=\"401\" y=\"-751.8\" font-family=\"Helvetica,sans-Serif\" font-size=\"14.00\" fill=\"#000000\">gini = 0.375</text>\n<text text-anchor=\"middle\" x=\"401\" y=\"-736.8\" font-family=\"Helvetica,sans-Serif\" font-size=\"14.00\" fill=\"#000000\">samples = 4</text>\n<text text-anchor=\"middle\" x=\"401\" y=\"-721.8\" font-family=\"Helvetica,sans-Serif\" font-size=\"14.00\" fill=\"#000000\">value = [3, 1]</text>\n<text text-anchor=\"middle\" x=\"401\" y=\"-706.8\" font-family=\"Helvetica,sans-Serif\" font-size=\"14.00\" fill=\"#000000\">class = large_bloom</text>\n</g>\n<!-- 2&#45;&gt;3 -->\n<g id=\"edge3\" class=\"edge\">\n<title>2&#45;&gt;3</title>\n<path fill=\"none\" stroke=\"#000000\" d=\"M454.3204,-817.8796C448.2385,-809.0534 441.7578,-799.6485 435.4859,-790.5466\"/>\n<polygon fill=\"#000000\" stroke=\"#000000\" points=\"438.3582,-788.5465 429.802,-782.2981 432.5941,-792.5184 438.3582,-788.5465\"/>\n</g>\n<!-- 10 -->\n<g id=\"node11\" class=\"node\">\n<title>10</title>\n<path fill=\"#78bced\" stroke=\"#000000\" d=\"M618.5,-782C618.5,-782 511.5,-782 511.5,-782 505.5,-782 499.5,-776 499.5,-770 499.5,-770 499.5,-711 499.5,-711 499.5,-705 505.5,-699 511.5,-699 511.5,-699 618.5,-699 618.5,-699 624.5,-699 630.5,-705 630.5,-711 630.5,-711 630.5,-770 630.5,-770 630.5,-776 624.5,-782 618.5,-782\"/>\n<text text-anchor=\"middle\" x=\"565\" y=\"-766.8\" font-family=\"Helvetica,sans-Serif\" font-size=\"14.00\" fill=\"#000000\">wind_os &lt;= &#45;0.5</text>\n<text text-anchor=\"middle\" x=\"565\" y=\"-751.8\" font-family=\"Helvetica,sans-Serif\" font-size=\"14.00\" fill=\"#000000\">gini = 0.367</text>\n<text text-anchor=\"middle\" x=\"565\" y=\"-736.8\" font-family=\"Helvetica,sans-Serif\" font-size=\"14.00\" fill=\"#000000\">samples = 33</text>\n<text text-anchor=\"middle\" x=\"565\" y=\"-721.8\" font-family=\"Helvetica,sans-Serif\" font-size=\"14.00\" fill=\"#000000\">value = [8, 25]</text>\n<text text-anchor=\"middle\" x=\"565\" y=\"-706.8\" font-family=\"Helvetica,sans-Serif\" font-size=\"14.00\" fill=\"#000000\">class = no_bloom</text>\n</g>\n<!-- 2&#45;&gt;10 -->\n<g id=\"edge10\" class=\"edge\">\n<title>2&#45;&gt;10</title>\n<path fill=\"none\" stroke=\"#000000\" d=\"M511.6796,-817.8796C517.7615,-809.0534 524.2422,-799.6485 530.5141,-790.5466\"/>\n<polygon fill=\"#000000\" stroke=\"#000000\" points=\"533.4059,-792.5184 536.198,-782.2981 527.6418,-788.5465 533.4059,-792.5184\"/>\n</g>\n<!-- 4 -->\n<g id=\"node5\" class=\"node\">\n<title>4</title>\n<path fill=\"#f2c09c\" stroke=\"#000000\" d=\"M298,-663C298,-663 176,-663 176,-663 170,-663 164,-657 164,-651 164,-651 164,-592 164,-592 164,-586 170,-580 176,-580 176,-580 298,-580 298,-580 304,-580 310,-586 310,-592 310,-592 310,-651 310,-651 310,-657 304,-663 298,-663\"/>\n<text text-anchor=\"middle\" x=\"237\" y=\"-647.8\" font-family=\"Helvetica,sans-Serif\" font-size=\"14.00\" fill=\"#000000\">river_ch &lt;= 0.0</text>\n<text text-anchor=\"middle\" x=\"237\" y=\"-632.8\" font-family=\"Helvetica,sans-Serif\" font-size=\"14.00\" fill=\"#000000\">gini = 0.444</text>\n<text text-anchor=\"middle\" x=\"237\" y=\"-617.8\" font-family=\"Helvetica,sans-Serif\" font-size=\"14.00\" fill=\"#000000\">samples = 3</text>\n<text text-anchor=\"middle\" x=\"237\" y=\"-602.8\" font-family=\"Helvetica,sans-Serif\" font-size=\"14.00\" fill=\"#000000\">value = [2, 1]</text>\n<text text-anchor=\"middle\" x=\"237\" y=\"-587.8\" font-family=\"Helvetica,sans-Serif\" font-size=\"14.00\" fill=\"#000000\">class = large_bloom</text>\n</g>\n<!-- 3&#45;&gt;4 -->\n<g id=\"edge4\" class=\"edge\">\n<title>3&#45;&gt;4</title>\n<path fill=\"none\" stroke=\"#000000\" d=\"M343.6408,-698.8796C330.4075,-689.2774 316.2303,-678.9903 302.6736,-669.1534\"/>\n<polygon fill=\"#000000\" stroke=\"#000000\" points=\"304.4762,-666.1371 294.3269,-663.0969 300.3651,-671.8027 304.4762,-666.1371\"/>\n</g>\n<!-- 9 -->\n<g id=\"node10\" class=\"node\">\n<title>9</title>\n<path fill=\"#e58139\" stroke=\"#000000\" d=\"M462,-655.5C462,-655.5 340,-655.5 340,-655.5 334,-655.5 328,-649.5 328,-643.5 328,-643.5 328,-599.5 328,-599.5 328,-593.5 334,-587.5 340,-587.5 340,-587.5 462,-587.5 462,-587.5 468,-587.5 474,-593.5 474,-599.5 474,-599.5 474,-643.5 474,-643.5 474,-649.5 468,-655.5 462,-655.5\"/>\n<text text-anchor=\"middle\" x=\"401\" y=\"-640.3\" font-family=\"Helvetica,sans-Serif\" font-size=\"14.00\" fill=\"#000000\">gini = 0.0</text>\n<text text-anchor=\"middle\" x=\"401\" y=\"-625.3\" font-family=\"Helvetica,sans-Serif\" font-size=\"14.00\" fill=\"#000000\">samples = 1</text>\n<text text-anchor=\"middle\" x=\"401\" y=\"-610.3\" font-family=\"Helvetica,sans-Serif\" font-size=\"14.00\" fill=\"#000000\">value = [1, 0]</text>\n<text text-anchor=\"middle\" x=\"401\" y=\"-595.3\" font-family=\"Helvetica,sans-Serif\" font-size=\"14.00\" fill=\"#000000\">class = large_bloom</text>\n</g>\n<!-- 3&#45;&gt;9 -->\n<g id=\"edge9\" class=\"edge\">\n<title>3&#45;&gt;9</title>\n<path fill=\"none\" stroke=\"#000000\" d=\"M401,-698.8796C401,-688.2134 401,-676.7021 401,-665.9015\"/>\n<polygon fill=\"#000000\" stroke=\"#000000\" points=\"404.5001,-665.8149 401,-655.8149 397.5001,-665.815 404.5001,-665.8149\"/>\n</g>\n<!-- 5 -->\n<g id=\"node6\" class=\"node\">\n<title>5</title>\n<path fill=\"#e58139\" stroke=\"#000000\" d=\"M134,-536.5C134,-536.5 12,-536.5 12,-536.5 6,-536.5 0,-530.5 0,-524.5 0,-524.5 0,-480.5 0,-480.5 0,-474.5 6,-468.5 12,-468.5 12,-468.5 134,-468.5 134,-468.5 140,-468.5 146,-474.5 146,-480.5 146,-480.5 146,-524.5 146,-524.5 146,-530.5 140,-536.5 134,-536.5\"/>\n<text text-anchor=\"middle\" x=\"73\" y=\"-521.3\" font-family=\"Helvetica,sans-Serif\" font-size=\"14.00\" fill=\"#000000\">gini = 0.0</text>\n<text text-anchor=\"middle\" x=\"73\" y=\"-506.3\" font-family=\"Helvetica,sans-Serif\" font-size=\"14.00\" fill=\"#000000\">samples = 1</text>\n<text text-anchor=\"middle\" x=\"73\" y=\"-491.3\" font-family=\"Helvetica,sans-Serif\" font-size=\"14.00\" fill=\"#000000\">value = [1, 0]</text>\n<text text-anchor=\"middle\" x=\"73\" y=\"-476.3\" font-family=\"Helvetica,sans-Serif\" font-size=\"14.00\" fill=\"#000000\">class = large_bloom</text>\n</g>\n<!-- 4&#45;&gt;5 -->\n<g id=\"edge5\" class=\"edge\">\n<title>4&#45;&gt;5</title>\n<path fill=\"none\" stroke=\"#000000\" d=\"M179.6408,-579.8796C163.0439,-567.8368 144.9625,-554.7167 128.4824,-542.7586\"/>\n<polygon fill=\"#000000\" stroke=\"#000000\" points=\"130.176,-539.6632 120.0267,-536.623 126.0649,-545.3288 130.176,-539.6632\"/>\n</g>\n<!-- 6 -->\n<g id=\"node7\" class=\"node\">\n<title>6</title>\n<path fill=\"#ffffff\" stroke=\"#000000\" d=\"M298,-544C298,-544 176,-544 176,-544 170,-544 164,-538 164,-532 164,-532 164,-473 164,-473 164,-467 170,-461 176,-461 176,-461 298,-461 298,-461 304,-461 310,-467 310,-473 310,-473 310,-532 310,-532 310,-538 304,-544 298,-544\"/>\n<text text-anchor=\"middle\" x=\"237\" y=\"-528.8\" font-family=\"Helvetica,sans-Serif\" font-size=\"14.00\" fill=\"#000000\">river_pc &lt;= 0.0</text>\n<text text-anchor=\"middle\" x=\"237\" y=\"-513.8\" font-family=\"Helvetica,sans-Serif\" font-size=\"14.00\" fill=\"#000000\">gini = 0.5</text>\n<text text-anchor=\"middle\" x=\"237\" y=\"-498.8\" font-family=\"Helvetica,sans-Serif\" font-size=\"14.00\" fill=\"#000000\">samples = 2</text>\n<text text-anchor=\"middle\" x=\"237\" y=\"-483.8\" font-family=\"Helvetica,sans-Serif\" font-size=\"14.00\" fill=\"#000000\">value = [1, 1]</text>\n<text text-anchor=\"middle\" x=\"237\" y=\"-468.8\" font-family=\"Helvetica,sans-Serif\" font-size=\"14.00\" fill=\"#000000\">class = large_bloom</text>\n</g>\n<!-- 4&#45;&gt;6 -->\n<g id=\"edge6\" class=\"edge\">\n<title>4&#45;&gt;6</title>\n<path fill=\"none\" stroke=\"#000000\" d=\"M237,-579.8796C237,-571.6838 237,-562.9891 237,-554.5013\"/>\n<polygon fill=\"#000000\" stroke=\"#000000\" points=\"240.5001,-554.298 237,-544.2981 233.5001,-554.2981 240.5001,-554.298\"/>\n</g>\n<!-- 7 -->\n<g id=\"node8\" class=\"node\">\n<title>7</title>\n<path fill=\"#399de5\" stroke=\"#000000\" d=\"M133.5,-417.5C133.5,-417.5 26.5,-417.5 26.5,-417.5 20.5,-417.5 14.5,-411.5 14.5,-405.5 14.5,-405.5 14.5,-361.5 14.5,-361.5 14.5,-355.5 20.5,-349.5 26.5,-349.5 26.5,-349.5 133.5,-349.5 133.5,-349.5 139.5,-349.5 145.5,-355.5 145.5,-361.5 145.5,-361.5 145.5,-405.5 145.5,-405.5 145.5,-411.5 139.5,-417.5 133.5,-417.5\"/>\n<text text-anchor=\"middle\" x=\"80\" y=\"-402.3\" font-family=\"Helvetica,sans-Serif\" font-size=\"14.00\" fill=\"#000000\">gini = 0.0</text>\n<text text-anchor=\"middle\" x=\"80\" y=\"-387.3\" font-family=\"Helvetica,sans-Serif\" font-size=\"14.00\" fill=\"#000000\">samples = 1</text>\n<text text-anchor=\"middle\" x=\"80\" y=\"-372.3\" font-family=\"Helvetica,sans-Serif\" font-size=\"14.00\" fill=\"#000000\">value = [0, 1]</text>\n<text text-anchor=\"middle\" x=\"80\" y=\"-357.3\" font-family=\"Helvetica,sans-Serif\" font-size=\"14.00\" fill=\"#000000\">class = no_bloom</text>\n</g>\n<!-- 6&#45;&gt;7 -->\n<g id=\"edge7\" class=\"edge\">\n<title>6&#45;&gt;7</title>\n<path fill=\"none\" stroke=\"#000000\" d=\"M182.089,-460.8796C166.2006,-448.8368 148.8909,-435.7167 133.1143,-423.7586\"/>\n<polygon fill=\"#000000\" stroke=\"#000000\" points=\"135.1031,-420.8743 125.0195,-417.623 130.8747,-426.4529 135.1031,-420.8743\"/>\n</g>\n<!-- 8 -->\n<g id=\"node9\" class=\"node\">\n<title>8</title>\n<path fill=\"#e58139\" stroke=\"#000000\" d=\"M298,-417.5C298,-417.5 176,-417.5 176,-417.5 170,-417.5 164,-411.5 164,-405.5 164,-405.5 164,-361.5 164,-361.5 164,-355.5 170,-349.5 176,-349.5 176,-349.5 298,-349.5 298,-349.5 304,-349.5 310,-355.5 310,-361.5 310,-361.5 310,-405.5 310,-405.5 310,-411.5 304,-417.5 298,-417.5\"/>\n<text text-anchor=\"middle\" x=\"237\" y=\"-402.3\" font-family=\"Helvetica,sans-Serif\" font-size=\"14.00\" fill=\"#000000\">gini = 0.0</text>\n<text text-anchor=\"middle\" x=\"237\" y=\"-387.3\" font-family=\"Helvetica,sans-Serif\" font-size=\"14.00\" fill=\"#000000\">samples = 1</text>\n<text text-anchor=\"middle\" x=\"237\" y=\"-372.3\" font-family=\"Helvetica,sans-Serif\" font-size=\"14.00\" fill=\"#000000\">value = [1, 0]</text>\n<text text-anchor=\"middle\" x=\"237\" y=\"-357.3\" font-family=\"Helvetica,sans-Serif\" font-size=\"14.00\" fill=\"#000000\">class = large_bloom</text>\n</g>\n<!-- 6&#45;&gt;8 -->\n<g id=\"edge8\" class=\"edge\">\n<title>6&#45;&gt;8</title>\n<path fill=\"none\" stroke=\"#000000\" d=\"M237,-460.8796C237,-450.2134 237,-438.7021 237,-427.9015\"/>\n<polygon fill=\"#000000\" stroke=\"#000000\" points=\"240.5001,-427.8149 237,-417.8149 233.5001,-427.815 240.5001,-427.8149\"/>\n</g>\n<!-- 11 -->\n<g id=\"node12\" class=\"node\">\n<title>11</title>\n<path fill=\"#ffffff\" stroke=\"#000000\" d=\"M626,-663C626,-663 504,-663 504,-663 498,-663 492,-657 492,-651 492,-651 492,-592 492,-592 492,-586 498,-580 504,-580 504,-580 626,-580 626,-580 632,-580 638,-586 638,-592 638,-592 638,-651 638,-651 638,-657 632,-663 626,-663\"/>\n<text text-anchor=\"middle\" x=\"565\" y=\"-647.8\" font-family=\"Helvetica,sans-Serif\" font-size=\"14.00\" fill=\"#000000\">river_ch &lt;= 0.0</text>\n<text text-anchor=\"middle\" x=\"565\" y=\"-632.8\" font-family=\"Helvetica,sans-Serif\" font-size=\"14.00\" fill=\"#000000\">gini = 0.5</text>\n<text text-anchor=\"middle\" x=\"565\" y=\"-617.8\" font-family=\"Helvetica,sans-Serif\" font-size=\"14.00\" fill=\"#000000\">samples = 6</text>\n<text text-anchor=\"middle\" x=\"565\" y=\"-602.8\" font-family=\"Helvetica,sans-Serif\" font-size=\"14.00\" fill=\"#000000\">value = [3, 3]</text>\n<text text-anchor=\"middle\" x=\"565\" y=\"-587.8\" font-family=\"Helvetica,sans-Serif\" font-size=\"14.00\" fill=\"#000000\">class = large_bloom</text>\n</g>\n<!-- 10&#45;&gt;11 -->\n<g id=\"edge11\" class=\"edge\">\n<title>10&#45;&gt;11</title>\n<path fill=\"none\" stroke=\"#000000\" d=\"M565,-698.8796C565,-690.6838 565,-681.9891 565,-673.5013\"/>\n<polygon fill=\"#000000\" stroke=\"#000000\" points=\"568.5001,-673.298 565,-663.2981 561.5001,-673.2981 568.5001,-673.298\"/>\n</g>\n<!-- 16 -->\n<g id=\"node17\" class=\"node\">\n<title>16</title>\n<path fill=\"#66b3eb\" stroke=\"#000000\" d=\"M849.5,-663C849.5,-663 742.5,-663 742.5,-663 736.5,-663 730.5,-657 730.5,-651 730.5,-651 730.5,-592 730.5,-592 730.5,-586 736.5,-580 742.5,-580 742.5,-580 849.5,-580 849.5,-580 855.5,-580 861.5,-586 861.5,-592 861.5,-592 861.5,-651 861.5,-651 861.5,-657 855.5,-663 849.5,-663\"/>\n<text text-anchor=\"middle\" x=\"796\" y=\"-647.8\" font-family=\"Helvetica,sans-Serif\" font-size=\"14.00\" fill=\"#000000\">river_pc &lt;= 0.0</text>\n<text text-anchor=\"middle\" x=\"796\" y=\"-632.8\" font-family=\"Helvetica,sans-Serif\" font-size=\"14.00\" fill=\"#000000\">gini = 0.302</text>\n<text text-anchor=\"middle\" x=\"796\" y=\"-617.8\" font-family=\"Helvetica,sans-Serif\" font-size=\"14.00\" fill=\"#000000\">samples = 27</text>\n<text text-anchor=\"middle\" x=\"796\" y=\"-602.8\" font-family=\"Helvetica,sans-Serif\" font-size=\"14.00\" fill=\"#000000\">value = [5, 22]</text>\n<text text-anchor=\"middle\" x=\"796\" y=\"-587.8\" font-family=\"Helvetica,sans-Serif\" font-size=\"14.00\" fill=\"#000000\">class = no_bloom</text>\n</g>\n<!-- 10&#45;&gt;16 -->\n<g id=\"edge16\" class=\"edge\">\n<title>10&#45;&gt;16</title>\n<path fill=\"none\" stroke=\"#000000\" d=\"M630.5774,-706.7177C658.8636,-692.146 692.0965,-675.0261 721.3258,-659.9685\"/>\n<polygon fill=\"#000000\" stroke=\"#000000\" points=\"722.9717,-663.0578 730.2586,-655.3668 719.766,-656.835 722.9717,-663.0578\"/>\n</g>\n<!-- 12 -->\n<g id=\"node13\" class=\"node\">\n<title>12</title>\n<path fill=\"#9ccef2\" stroke=\"#000000\" d=\"M461.5,-536.5C461.5,-536.5 354.5,-536.5 354.5,-536.5 348.5,-536.5 342.5,-530.5 342.5,-524.5 342.5,-524.5 342.5,-480.5 342.5,-480.5 342.5,-474.5 348.5,-468.5 354.5,-468.5 354.5,-468.5 461.5,-468.5 461.5,-468.5 467.5,-468.5 473.5,-474.5 473.5,-480.5 473.5,-480.5 473.5,-524.5 473.5,-524.5 473.5,-530.5 467.5,-536.5 461.5,-536.5\"/>\n<text text-anchor=\"middle\" x=\"408\" y=\"-521.3\" font-family=\"Helvetica,sans-Serif\" font-size=\"14.00\" fill=\"#000000\">gini = 0.444</text>\n<text text-anchor=\"middle\" x=\"408\" y=\"-506.3\" font-family=\"Helvetica,sans-Serif\" font-size=\"14.00\" fill=\"#000000\">samples = 3</text>\n<text text-anchor=\"middle\" x=\"408\" y=\"-491.3\" font-family=\"Helvetica,sans-Serif\" font-size=\"14.00\" fill=\"#000000\">value = [1, 2]</text>\n<text text-anchor=\"middle\" x=\"408\" y=\"-476.3\" font-family=\"Helvetica,sans-Serif\" font-size=\"14.00\" fill=\"#000000\">class = no_bloom</text>\n</g>\n<!-- 11&#45;&gt;12 -->\n<g id=\"edge12\" class=\"edge\">\n<title>11&#45;&gt;12</title>\n<path fill=\"none\" stroke=\"#000000\" d=\"M510.089,-579.8796C494.2006,-567.8368 476.8909,-554.7167 461.1143,-542.7586\"/>\n<polygon fill=\"#000000\" stroke=\"#000000\" points=\"463.1031,-539.8743 453.0195,-536.623 458.8747,-545.4529 463.1031,-539.8743\"/>\n</g>\n<!-- 13 -->\n<g id=\"node14\" class=\"node\">\n<title>13</title>\n<path fill=\"#f2c09c\" stroke=\"#000000\" d=\"M626,-544C626,-544 504,-544 504,-544 498,-544 492,-538 492,-532 492,-532 492,-473 492,-473 492,-467 498,-461 504,-461 504,-461 626,-461 626,-461 632,-461 638,-467 638,-473 638,-473 638,-532 638,-532 638,-538 632,-544 626,-544\"/>\n<text text-anchor=\"middle\" x=\"565\" y=\"-528.8\" font-family=\"Helvetica,sans-Serif\" font-size=\"14.00\" fill=\"#000000\">river_pc &lt;= 0.0</text>\n<text text-anchor=\"middle\" x=\"565\" y=\"-513.8\" font-family=\"Helvetica,sans-Serif\" font-size=\"14.00\" fill=\"#000000\">gini = 0.444</text>\n<text text-anchor=\"middle\" x=\"565\" y=\"-498.8\" font-family=\"Helvetica,sans-Serif\" font-size=\"14.00\" fill=\"#000000\">samples = 3</text>\n<text text-anchor=\"middle\" x=\"565\" y=\"-483.8\" font-family=\"Helvetica,sans-Serif\" font-size=\"14.00\" fill=\"#000000\">value = [2, 1]</text>\n<text text-anchor=\"middle\" x=\"565\" y=\"-468.8\" font-family=\"Helvetica,sans-Serif\" font-size=\"14.00\" fill=\"#000000\">class = large_bloom</text>\n</g>\n<!-- 11&#45;&gt;13 -->\n<g id=\"edge13\" class=\"edge\">\n<title>11&#45;&gt;13</title>\n<path fill=\"none\" stroke=\"#000000\" d=\"M565,-579.8796C565,-571.6838 565,-562.9891 565,-554.5013\"/>\n<polygon fill=\"#000000\" stroke=\"#000000\" points=\"568.5001,-554.298 565,-544.2981 561.5001,-554.2981 568.5001,-554.298\"/>\n</g>\n<!-- 14 -->\n<g id=\"node15\" class=\"node\">\n<title>14</title>\n<path fill=\"#e58139\" stroke=\"#000000\" d=\"M462,-417.5C462,-417.5 340,-417.5 340,-417.5 334,-417.5 328,-411.5 328,-405.5 328,-405.5 328,-361.5 328,-361.5 328,-355.5 334,-349.5 340,-349.5 340,-349.5 462,-349.5 462,-349.5 468,-349.5 474,-355.5 474,-361.5 474,-361.5 474,-405.5 474,-405.5 474,-411.5 468,-417.5 462,-417.5\"/>\n<text text-anchor=\"middle\" x=\"401\" y=\"-402.3\" font-family=\"Helvetica,sans-Serif\" font-size=\"14.00\" fill=\"#000000\">gini = 0.0</text>\n<text text-anchor=\"middle\" x=\"401\" y=\"-387.3\" font-family=\"Helvetica,sans-Serif\" font-size=\"14.00\" fill=\"#000000\">samples = 1</text>\n<text text-anchor=\"middle\" x=\"401\" y=\"-372.3\" font-family=\"Helvetica,sans-Serif\" font-size=\"14.00\" fill=\"#000000\">value = [1, 0]</text>\n<text text-anchor=\"middle\" x=\"401\" y=\"-357.3\" font-family=\"Helvetica,sans-Serif\" font-size=\"14.00\" fill=\"#000000\">class = large_bloom</text>\n</g>\n<!-- 13&#45;&gt;14 -->\n<g id=\"edge14\" class=\"edge\">\n<title>13&#45;&gt;14</title>\n<path fill=\"none\" stroke=\"#000000\" d=\"M507.6408,-460.8796C491.0439,-448.8368 472.9625,-435.7167 456.4824,-423.7586\"/>\n<polygon fill=\"#000000\" stroke=\"#000000\" points=\"458.176,-420.6632 448.0267,-417.623 454.0649,-426.3288 458.176,-420.6632\"/>\n</g>\n<!-- 15 -->\n<g id=\"node16\" class=\"node\">\n<title>15</title>\n<path fill=\"#ffffff\" stroke=\"#000000\" d=\"M626,-417.5C626,-417.5 504,-417.5 504,-417.5 498,-417.5 492,-411.5 492,-405.5 492,-405.5 492,-361.5 492,-361.5 492,-355.5 498,-349.5 504,-349.5 504,-349.5 626,-349.5 626,-349.5 632,-349.5 638,-355.5 638,-361.5 638,-361.5 638,-405.5 638,-405.5 638,-411.5 632,-417.5 626,-417.5\"/>\n<text text-anchor=\"middle\" x=\"565\" y=\"-402.3\" font-family=\"Helvetica,sans-Serif\" font-size=\"14.00\" fill=\"#000000\">gini = 0.5</text>\n<text text-anchor=\"middle\" x=\"565\" y=\"-387.3\" font-family=\"Helvetica,sans-Serif\" font-size=\"14.00\" fill=\"#000000\">samples = 2</text>\n<text text-anchor=\"middle\" x=\"565\" y=\"-372.3\" font-family=\"Helvetica,sans-Serif\" font-size=\"14.00\" fill=\"#000000\">value = [1, 1]</text>\n<text text-anchor=\"middle\" x=\"565\" y=\"-357.3\" font-family=\"Helvetica,sans-Serif\" font-size=\"14.00\" fill=\"#000000\">class = large_bloom</text>\n</g>\n<!-- 13&#45;&gt;15 -->\n<g id=\"edge15\" class=\"edge\">\n<title>13&#45;&gt;15</title>\n<path fill=\"none\" stroke=\"#000000\" d=\"M565,-460.8796C565,-450.2134 565,-438.7021 565,-427.9015\"/>\n<polygon fill=\"#000000\" stroke=\"#000000\" points=\"568.5001,-427.8149 565,-417.8149 561.5001,-427.815 568.5001,-427.8149\"/>\n</g>\n<!-- 17 -->\n<g id=\"node18\" class=\"node\">\n<title>17</title>\n<path fill=\"#58ace9\" stroke=\"#000000\" d=\"M849.5,-544C849.5,-544 742.5,-544 742.5,-544 736.5,-544 730.5,-538 730.5,-532 730.5,-532 730.5,-473 730.5,-473 730.5,-467 736.5,-461 742.5,-461 742.5,-461 849.5,-461 849.5,-461 855.5,-461 861.5,-467 861.5,-473 861.5,-473 861.5,-532 861.5,-532 861.5,-538 855.5,-544 849.5,-544\"/>\n<text text-anchor=\"middle\" x=\"796\" y=\"-528.8\" font-family=\"Helvetica,sans-Serif\" font-size=\"14.00\" fill=\"#000000\">wind_as &lt;= &#45;0.5</text>\n<text text-anchor=\"middle\" x=\"796\" y=\"-513.8\" font-family=\"Helvetica,sans-Serif\" font-size=\"14.00\" fill=\"#000000\">gini = 0.236</text>\n<text text-anchor=\"middle\" x=\"796\" y=\"-498.8\" font-family=\"Helvetica,sans-Serif\" font-size=\"14.00\" fill=\"#000000\">samples = 22</text>\n<text text-anchor=\"middle\" x=\"796\" y=\"-483.8\" font-family=\"Helvetica,sans-Serif\" font-size=\"14.00\" fill=\"#000000\">value = [3, 19]</text>\n<text text-anchor=\"middle\" x=\"796\" y=\"-468.8\" font-family=\"Helvetica,sans-Serif\" font-size=\"14.00\" fill=\"#000000\">class = no_bloom</text>\n</g>\n<!-- 16&#45;&gt;17 -->\n<g id=\"edge17\" class=\"edge\">\n<title>16&#45;&gt;17</title>\n<path fill=\"none\" stroke=\"#000000\" d=\"M796,-579.8796C796,-571.6838 796,-562.9891 796,-554.5013\"/>\n<polygon fill=\"#000000\" stroke=\"#000000\" points=\"799.5001,-554.298 796,-544.2981 792.5001,-554.2981 799.5001,-554.298\"/>\n</g>\n<!-- 26 -->\n<g id=\"node27\" class=\"node\">\n<title>26</title>\n<path fill=\"#bddef6\" stroke=\"#000000\" d=\"M1073.5,-544C1073.5,-544 966.5,-544 966.5,-544 960.5,-544 954.5,-538 954.5,-532 954.5,-532 954.5,-473 954.5,-473 954.5,-467 960.5,-461 966.5,-461 966.5,-461 1073.5,-461 1073.5,-461 1079.5,-461 1085.5,-467 1085.5,-473 1085.5,-473 1085.5,-532 1085.5,-532 1085.5,-538 1079.5,-544 1073.5,-544\"/>\n<text text-anchor=\"middle\" x=\"1020\" y=\"-528.8\" font-family=\"Helvetica,sans-Serif\" font-size=\"14.00\" fill=\"#000000\">season &lt;= 3.5</text>\n<text text-anchor=\"middle\" x=\"1020\" y=\"-513.8\" font-family=\"Helvetica,sans-Serif\" font-size=\"14.00\" fill=\"#000000\">gini = 0.48</text>\n<text text-anchor=\"middle\" x=\"1020\" y=\"-498.8\" font-family=\"Helvetica,sans-Serif\" font-size=\"14.00\" fill=\"#000000\">samples = 5</text>\n<text text-anchor=\"middle\" x=\"1020\" y=\"-483.8\" font-family=\"Helvetica,sans-Serif\" font-size=\"14.00\" fill=\"#000000\">value = [2, 3]</text>\n<text text-anchor=\"middle\" x=\"1020\" y=\"-468.8\" font-family=\"Helvetica,sans-Serif\" font-size=\"14.00\" fill=\"#000000\">class = no_bloom</text>\n</g>\n<!-- 16&#45;&gt;26 -->\n<g id=\"edge26\" class=\"edge\">\n<title>16&#45;&gt;26</title>\n<path fill=\"none\" stroke=\"#000000\" d=\"M861.6939,-586.6001C887.9059,-572.675 918.225,-556.5679 945.2713,-542.1996\"/>\n<polygon fill=\"#000000\" stroke=\"#000000\" points=\"947.1182,-545.1818 954.3073,-537.3992 943.8341,-538.9999 947.1182,-545.1818\"/>\n</g>\n<!-- 18 -->\n<g id=\"node19\" class=\"node\">\n<title>18</title>\n<path fill=\"#74baed\" stroke=\"#000000\" d=\"M775.5,-425C775.5,-425 668.5,-425 668.5,-425 662.5,-425 656.5,-419 656.5,-413 656.5,-413 656.5,-354 656.5,-354 656.5,-348 662.5,-342 668.5,-342 668.5,-342 775.5,-342 775.5,-342 781.5,-342 787.5,-348 787.5,-354 787.5,-354 787.5,-413 787.5,-413 787.5,-419 781.5,-425 775.5,-425\"/>\n<text text-anchor=\"middle\" x=\"722\" y=\"-409.8\" font-family=\"Helvetica,sans-Serif\" font-size=\"14.00\" fill=\"#000000\">wind_os &lt;= 0.5</text>\n<text text-anchor=\"middle\" x=\"722\" y=\"-394.8\" font-family=\"Helvetica,sans-Serif\" font-size=\"14.00\" fill=\"#000000\">gini = 0.355</text>\n<text text-anchor=\"middle\" x=\"722\" y=\"-379.8\" font-family=\"Helvetica,sans-Serif\" font-size=\"14.00\" fill=\"#000000\">samples = 13</text>\n<text text-anchor=\"middle\" x=\"722\" y=\"-364.8\" font-family=\"Helvetica,sans-Serif\" font-size=\"14.00\" fill=\"#000000\">value = [3, 10]</text>\n<text text-anchor=\"middle\" x=\"722\" y=\"-349.8\" font-family=\"Helvetica,sans-Serif\" font-size=\"14.00\" fill=\"#000000\">class = no_bloom</text>\n</g>\n<!-- 17&#45;&gt;18 -->\n<g id=\"edge18\" class=\"edge\">\n<title>17&#45;&gt;18</title>\n<path fill=\"none\" stroke=\"#000000\" d=\"M770.1184,-460.8796C764.6858,-452.1434 758.9008,-442.8404 753.2947,-433.8253\"/>\n<polygon fill=\"#000000\" stroke=\"#000000\" points=\"756.2451,-431.9418 747.9921,-425.2981 750.3007,-435.6383 756.2451,-431.9418\"/>\n</g>\n<!-- 25 -->\n<g id=\"node26\" class=\"node\">\n<title>25</title>\n<path fill=\"#399de5\" stroke=\"#000000\" d=\"M924.5,-417.5C924.5,-417.5 817.5,-417.5 817.5,-417.5 811.5,-417.5 805.5,-411.5 805.5,-405.5 805.5,-405.5 805.5,-361.5 805.5,-361.5 805.5,-355.5 811.5,-349.5 817.5,-349.5 817.5,-349.5 924.5,-349.5 924.5,-349.5 930.5,-349.5 936.5,-355.5 936.5,-361.5 936.5,-361.5 936.5,-405.5 936.5,-405.5 936.5,-411.5 930.5,-417.5 924.5,-417.5\"/>\n<text text-anchor=\"middle\" x=\"871\" y=\"-402.3\" font-family=\"Helvetica,sans-Serif\" font-size=\"14.00\" fill=\"#000000\">gini = 0.0</text>\n<text text-anchor=\"middle\" x=\"871\" y=\"-387.3\" font-family=\"Helvetica,sans-Serif\" font-size=\"14.00\" fill=\"#000000\">samples = 9</text>\n<text text-anchor=\"middle\" x=\"871\" y=\"-372.3\" font-family=\"Helvetica,sans-Serif\" font-size=\"14.00\" fill=\"#000000\">value = [0, 9]</text>\n<text text-anchor=\"middle\" x=\"871\" y=\"-357.3\" font-family=\"Helvetica,sans-Serif\" font-size=\"14.00\" fill=\"#000000\">class = no_bloom</text>\n</g>\n<!-- 17&#45;&gt;25 -->\n<g id=\"edge25\" class=\"edge\">\n<title>17&#45;&gt;25</title>\n<path fill=\"none\" stroke=\"#000000\" d=\"M822.2314,-460.8796C829.231,-449.7735 836.808,-437.7513 843.8556,-426.5691\"/>\n<polygon fill=\"#000000\" stroke=\"#000000\" points=\"847.002,-428.1411 849.3729,-417.8149 841.08,-424.4087 847.002,-428.1411\"/>\n</g>\n<!-- 19 -->\n<g id=\"node20\" class=\"node\">\n<title>19</title>\n<path fill=\"#e58139\" stroke=\"#000000\" d=\"M740,-298.5C740,-298.5 618,-298.5 618,-298.5 612,-298.5 606,-292.5 606,-286.5 606,-286.5 606,-242.5 606,-242.5 606,-236.5 612,-230.5 618,-230.5 618,-230.5 740,-230.5 740,-230.5 746,-230.5 752,-236.5 752,-242.5 752,-242.5 752,-286.5 752,-286.5 752,-292.5 746,-298.5 740,-298.5\"/>\n<text text-anchor=\"middle\" x=\"679\" y=\"-283.3\" font-family=\"Helvetica,sans-Serif\" font-size=\"14.00\" fill=\"#000000\">gini = 0.0</text>\n<text text-anchor=\"middle\" x=\"679\" y=\"-268.3\" font-family=\"Helvetica,sans-Serif\" font-size=\"14.00\" fill=\"#000000\">samples = 1</text>\n<text text-anchor=\"middle\" x=\"679\" y=\"-253.3\" font-family=\"Helvetica,sans-Serif\" font-size=\"14.00\" fill=\"#000000\">value = [1, 0]</text>\n<text text-anchor=\"middle\" x=\"679\" y=\"-238.3\" font-family=\"Helvetica,sans-Serif\" font-size=\"14.00\" fill=\"#000000\">class = large_bloom</text>\n</g>\n<!-- 18&#45;&gt;19 -->\n<g id=\"edge19\" class=\"edge\">\n<title>18&#45;&gt;19</title>\n<path fill=\"none\" stroke=\"#000000\" d=\"M706.9607,-341.8796C703.027,-330.9935 698.7753,-319.227 694.8032,-308.2344\"/>\n<polygon fill=\"#000000\" stroke=\"#000000\" points=\"698.0897,-307.0303 691.3995,-298.8149 691.5063,-309.4092 698.0897,-307.0303\"/>\n</g>\n<!-- 20 -->\n<g id=\"node21\" class=\"node\">\n<title>20</title>\n<path fill=\"#61b1ea\" stroke=\"#000000\" d=\"M889.5,-306C889.5,-306 782.5,-306 782.5,-306 776.5,-306 770.5,-300 770.5,-294 770.5,-294 770.5,-235 770.5,-235 770.5,-229 776.5,-223 782.5,-223 782.5,-223 889.5,-223 889.5,-223 895.5,-223 901.5,-229 901.5,-235 901.5,-235 901.5,-294 901.5,-294 901.5,-300 895.5,-306 889.5,-306\"/>\n<text text-anchor=\"middle\" x=\"836\" y=\"-290.8\" font-family=\"Helvetica,sans-Serif\" font-size=\"14.00\" fill=\"#000000\">river_ch &lt;= 0.0</text>\n<text text-anchor=\"middle\" x=\"836\" y=\"-275.8\" font-family=\"Helvetica,sans-Serif\" font-size=\"14.00\" fill=\"#000000\">gini = 0.278</text>\n<text text-anchor=\"middle\" x=\"836\" y=\"-260.8\" font-family=\"Helvetica,sans-Serif\" font-size=\"14.00\" fill=\"#000000\">samples = 12</text>\n<text text-anchor=\"middle\" x=\"836\" y=\"-245.8\" font-family=\"Helvetica,sans-Serif\" font-size=\"14.00\" fill=\"#000000\">value = [2, 10]</text>\n<text text-anchor=\"middle\" x=\"836\" y=\"-230.8\" font-family=\"Helvetica,sans-Serif\" font-size=\"14.00\" fill=\"#000000\">class = no_bloom</text>\n</g>\n<!-- 18&#45;&gt;20 -->\n<g id=\"edge20\" class=\"edge\">\n<title>18&#45;&gt;20</title>\n<path fill=\"none\" stroke=\"#000000\" d=\"M761.8717,-341.8796C770.5858,-332.7832 779.8888,-323.0722 788.8562,-313.7116\"/>\n<polygon fill=\"#000000\" stroke=\"#000000\" points=\"791.5678,-315.9405 795.9581,-306.2981 786.513,-311.098 791.5678,-315.9405\"/>\n</g>\n<!-- 21 -->\n<g id=\"node22\" class=\"node\">\n<title>21</title>\n<path fill=\"#72b9ec\" stroke=\"#000000\" d=\"M814.5,-187C814.5,-187 707.5,-187 707.5,-187 701.5,-187 695.5,-181 695.5,-175 695.5,-175 695.5,-116 695.5,-116 695.5,-110 701.5,-104 707.5,-104 707.5,-104 814.5,-104 814.5,-104 820.5,-104 826.5,-110 826.5,-116 826.5,-116 826.5,-175 826.5,-175 826.5,-181 820.5,-187 814.5,-187\"/>\n<text text-anchor=\"middle\" x=\"761\" y=\"-171.8\" font-family=\"Helvetica,sans-Serif\" font-size=\"14.00\" fill=\"#000000\">season &lt;= 2.5</text>\n<text text-anchor=\"middle\" x=\"761\" y=\"-156.8\" font-family=\"Helvetica,sans-Serif\" font-size=\"14.00\" fill=\"#000000\">gini = 0.346</text>\n<text text-anchor=\"middle\" x=\"761\" y=\"-141.8\" font-family=\"Helvetica,sans-Serif\" font-size=\"14.00\" fill=\"#000000\">samples = 9</text>\n<text text-anchor=\"middle\" x=\"761\" y=\"-126.8\" font-family=\"Helvetica,sans-Serif\" font-size=\"14.00\" fill=\"#000000\">value = [2, 7]</text>\n<text text-anchor=\"middle\" x=\"761\" y=\"-111.8\" font-family=\"Helvetica,sans-Serif\" font-size=\"14.00\" fill=\"#000000\">class = no_bloom</text>\n</g>\n<!-- 20&#45;&gt;21 -->\n<g id=\"edge21\" class=\"edge\">\n<title>20&#45;&gt;21</title>\n<path fill=\"none\" stroke=\"#000000\" d=\"M809.7686,-222.8796C804.2627,-214.1434 798.3994,-204.8404 792.7176,-195.8253\"/>\n<polygon fill=\"#000000\" stroke=\"#000000\" points=\"795.6363,-193.8919 787.3433,-187.2981 789.7143,-197.6242 795.6363,-193.8919\"/>\n</g>\n<!-- 24 -->\n<g id=\"node25\" class=\"node\">\n<title>24</title>\n<path fill=\"#399de5\" stroke=\"#000000\" d=\"M963.5,-179.5C963.5,-179.5 856.5,-179.5 856.5,-179.5 850.5,-179.5 844.5,-173.5 844.5,-167.5 844.5,-167.5 844.5,-123.5 844.5,-123.5 844.5,-117.5 850.5,-111.5 856.5,-111.5 856.5,-111.5 963.5,-111.5 963.5,-111.5 969.5,-111.5 975.5,-117.5 975.5,-123.5 975.5,-123.5 975.5,-167.5 975.5,-167.5 975.5,-173.5 969.5,-179.5 963.5,-179.5\"/>\n<text text-anchor=\"middle\" x=\"910\" y=\"-164.3\" font-family=\"Helvetica,sans-Serif\" font-size=\"14.00\" fill=\"#000000\">gini = 0.0</text>\n<text text-anchor=\"middle\" x=\"910\" y=\"-149.3\" font-family=\"Helvetica,sans-Serif\" font-size=\"14.00\" fill=\"#000000\">samples = 3</text>\n<text text-anchor=\"middle\" x=\"910\" y=\"-134.3\" font-family=\"Helvetica,sans-Serif\" font-size=\"14.00\" fill=\"#000000\">value = [0, 3]</text>\n<text text-anchor=\"middle\" x=\"910\" y=\"-119.3\" font-family=\"Helvetica,sans-Serif\" font-size=\"14.00\" fill=\"#000000\">class = no_bloom</text>\n</g>\n<!-- 20&#45;&gt;24 -->\n<g id=\"edge24\" class=\"edge\">\n<title>20&#45;&gt;24</title>\n<path fill=\"none\" stroke=\"#000000\" d=\"M861.8816,-222.8796C868.7879,-211.7735 876.2639,-199.7513 883.2175,-188.5691\"/>\n<polygon fill=\"#000000\" stroke=\"#000000\" points=\"886.3527,-190.1552 888.6613,-179.8149 880.4083,-186.4587 886.3527,-190.1552\"/>\n</g>\n<!-- 22 -->\n<g id=\"node23\" class=\"node\">\n<title>22</title>\n<path fill=\"#7bbeee\" stroke=\"#000000\" d=\"M740.5,-68C740.5,-68 633.5,-68 633.5,-68 627.5,-68 621.5,-62 621.5,-56 621.5,-56 621.5,-12 621.5,-12 621.5,-6 627.5,0 633.5,0 633.5,0 740.5,0 740.5,0 746.5,0 752.5,-6 752.5,-12 752.5,-12 752.5,-56 752.5,-56 752.5,-62 746.5,-68 740.5,-68\"/>\n<text text-anchor=\"middle\" x=\"687\" y=\"-52.8\" font-family=\"Helvetica,sans-Serif\" font-size=\"14.00\" fill=\"#000000\">gini = 0.375</text>\n<text text-anchor=\"middle\" x=\"687\" y=\"-37.8\" font-family=\"Helvetica,sans-Serif\" font-size=\"14.00\" fill=\"#000000\">samples = 4</text>\n<text text-anchor=\"middle\" x=\"687\" y=\"-22.8\" font-family=\"Helvetica,sans-Serif\" font-size=\"14.00\" fill=\"#000000\">value = [1, 3]</text>\n<text text-anchor=\"middle\" x=\"687\" y=\"-7.8\" font-family=\"Helvetica,sans-Serif\" font-size=\"14.00\" fill=\"#000000\">class = no_bloom</text>\n</g>\n<!-- 21&#45;&gt;22 -->\n<g id=\"edge22\" class=\"edge\">\n<title>21&#45;&gt;22</title>\n<path fill=\"none\" stroke=\"#000000\" d=\"M733.4451,-103.9815C727.5285,-95.0666 721.2665,-85.6313 715.3213,-76.6734\"/>\n<polygon fill=\"#000000\" stroke=\"#000000\" points=\"718.186,-74.6602 709.74,-68.2637 712.3536,-78.5311 718.186,-74.6602\"/>\n</g>\n<!-- 23 -->\n<g id=\"node24\" class=\"node\">\n<title>23</title>\n<path fill=\"#6ab6ec\" stroke=\"#000000\" d=\"M889.5,-68C889.5,-68 782.5,-68 782.5,-68 776.5,-68 770.5,-62 770.5,-56 770.5,-56 770.5,-12 770.5,-12 770.5,-6 776.5,0 782.5,0 782.5,0 889.5,0 889.5,0 895.5,0 901.5,-6 901.5,-12 901.5,-12 901.5,-56 901.5,-56 901.5,-62 895.5,-68 889.5,-68\"/>\n<text text-anchor=\"middle\" x=\"836\" y=\"-52.8\" font-family=\"Helvetica,sans-Serif\" font-size=\"14.00\" fill=\"#000000\">gini = 0.32</text>\n<text text-anchor=\"middle\" x=\"836\" y=\"-37.8\" font-family=\"Helvetica,sans-Serif\" font-size=\"14.00\" fill=\"#000000\">samples = 5</text>\n<text text-anchor=\"middle\" x=\"836\" y=\"-22.8\" font-family=\"Helvetica,sans-Serif\" font-size=\"14.00\" fill=\"#000000\">value = [1, 4]</text>\n<text text-anchor=\"middle\" x=\"836\" y=\"-7.8\" font-family=\"Helvetica,sans-Serif\" font-size=\"14.00\" fill=\"#000000\">class = no_bloom</text>\n</g>\n<!-- 21&#45;&gt;23 -->\n<g id=\"edge23\" class=\"edge\">\n<title>21&#45;&gt;23</title>\n<path fill=\"none\" stroke=\"#000000\" d=\"M788.9272,-103.9815C794.9238,-95.0666 801.2704,-85.6313 807.2959,-76.6734\"/>\n<polygon fill=\"#000000\" stroke=\"#000000\" points=\"810.2755,-78.5147 812.9527,-68.2637 804.4672,-74.6078 810.2755,-78.5147\"/>\n</g>\n<!-- 27 -->\n<g id=\"node28\" class=\"node\">\n<title>27</title>\n<path fill=\"#399de5\" stroke=\"#000000\" d=\"M1073.5,-417.5C1073.5,-417.5 966.5,-417.5 966.5,-417.5 960.5,-417.5 954.5,-411.5 954.5,-405.5 954.5,-405.5 954.5,-361.5 954.5,-361.5 954.5,-355.5 960.5,-349.5 966.5,-349.5 966.5,-349.5 1073.5,-349.5 1073.5,-349.5 1079.5,-349.5 1085.5,-355.5 1085.5,-361.5 1085.5,-361.5 1085.5,-405.5 1085.5,-405.5 1085.5,-411.5 1079.5,-417.5 1073.5,-417.5\"/>\n<text text-anchor=\"middle\" x=\"1020\" y=\"-402.3\" font-family=\"Helvetica,sans-Serif\" font-size=\"14.00\" fill=\"#000000\">gini = 0.0</text>\n<text text-anchor=\"middle\" x=\"1020\" y=\"-387.3\" font-family=\"Helvetica,sans-Serif\" font-size=\"14.00\" fill=\"#000000\">samples = 1</text>\n<text text-anchor=\"middle\" x=\"1020\" y=\"-372.3\" font-family=\"Helvetica,sans-Serif\" font-size=\"14.00\" fill=\"#000000\">value = [0, 1]</text>\n<text text-anchor=\"middle\" x=\"1020\" y=\"-357.3\" font-family=\"Helvetica,sans-Serif\" font-size=\"14.00\" fill=\"#000000\">class = no_bloom</text>\n</g>\n<!-- 26&#45;&gt;27 -->\n<g id=\"edge27\" class=\"edge\">\n<title>26&#45;&gt;27</title>\n<path fill=\"none\" stroke=\"#000000\" d=\"M1020,-460.8796C1020,-450.2134 1020,-438.7021 1020,-427.9015\"/>\n<polygon fill=\"#000000\" stroke=\"#000000\" points=\"1023.5001,-427.8149 1020,-417.8149 1016.5001,-427.815 1023.5001,-427.8149\"/>\n</g>\n<!-- 28 -->\n<g id=\"node29\" class=\"node\">\n<title>28</title>\n<path fill=\"#ffffff\" stroke=\"#000000\" d=\"M1238,-425C1238,-425 1116,-425 1116,-425 1110,-425 1104,-419 1104,-413 1104,-413 1104,-354 1104,-354 1104,-348 1110,-342 1116,-342 1116,-342 1238,-342 1238,-342 1244,-342 1250,-348 1250,-354 1250,-354 1250,-413 1250,-413 1250,-419 1244,-425 1238,-425\"/>\n<text text-anchor=\"middle\" x=\"1177\" y=\"-409.8\" font-family=\"Helvetica,sans-Serif\" font-size=\"14.00\" fill=\"#000000\">wind_as &lt;= 0.0</text>\n<text text-anchor=\"middle\" x=\"1177\" y=\"-394.8\" font-family=\"Helvetica,sans-Serif\" font-size=\"14.00\" fill=\"#000000\">gini = 0.5</text>\n<text text-anchor=\"middle\" x=\"1177\" y=\"-379.8\" font-family=\"Helvetica,sans-Serif\" font-size=\"14.00\" fill=\"#000000\">samples = 4</text>\n<text text-anchor=\"middle\" x=\"1177\" y=\"-364.8\" font-family=\"Helvetica,sans-Serif\" font-size=\"14.00\" fill=\"#000000\">value = [2, 2]</text>\n<text text-anchor=\"middle\" x=\"1177\" y=\"-349.8\" font-family=\"Helvetica,sans-Serif\" font-size=\"14.00\" fill=\"#000000\">class = large_bloom</text>\n</g>\n<!-- 26&#45;&gt;28 -->\n<g id=\"edge28\" class=\"edge\">\n<title>26&#45;&gt;28</title>\n<path fill=\"none\" stroke=\"#000000\" d=\"M1074.911,-460.8796C1087.5794,-451.2774 1101.1515,-440.9903 1114.1295,-431.1534\"/>\n<polygon fill=\"#000000\" stroke=\"#000000\" points=\"1116.2648,-433.9268 1122.12,-425.0969 1112.0364,-428.3482 1116.2648,-433.9268\"/>\n</g>\n<!-- 29 -->\n<g id=\"node30\" class=\"node\">\n<title>29</title>\n<path fill=\"#e58139\" stroke=\"#000000\" d=\"M1124,-298.5C1124,-298.5 1002,-298.5 1002,-298.5 996,-298.5 990,-292.5 990,-286.5 990,-286.5 990,-242.5 990,-242.5 990,-236.5 996,-230.5 1002,-230.5 1002,-230.5 1124,-230.5 1124,-230.5 1130,-230.5 1136,-236.5 1136,-242.5 1136,-242.5 1136,-286.5 1136,-286.5 1136,-292.5 1130,-298.5 1124,-298.5\"/>\n<text text-anchor=\"middle\" x=\"1063\" y=\"-283.3\" font-family=\"Helvetica,sans-Serif\" font-size=\"14.00\" fill=\"#000000\">gini = 0.0</text>\n<text text-anchor=\"middle\" x=\"1063\" y=\"-268.3\" font-family=\"Helvetica,sans-Serif\" font-size=\"14.00\" fill=\"#000000\">samples = 1</text>\n<text text-anchor=\"middle\" x=\"1063\" y=\"-253.3\" font-family=\"Helvetica,sans-Serif\" font-size=\"14.00\" fill=\"#000000\">value = [1, 0]</text>\n<text text-anchor=\"middle\" x=\"1063\" y=\"-238.3\" font-family=\"Helvetica,sans-Serif\" font-size=\"14.00\" fill=\"#000000\">class = large_bloom</text>\n</g>\n<!-- 28&#45;&gt;29 -->\n<g id=\"edge29\" class=\"edge\">\n<title>28&#45;&gt;29</title>\n<path fill=\"none\" stroke=\"#000000\" d=\"M1137.1283,-341.8796C1126.0676,-330.3337 1114.0582,-317.7976 1102.9906,-306.2446\"/>\n<polygon fill=\"#000000\" stroke=\"#000000\" points=\"1105.3183,-303.6149 1095.8731,-298.8149 1100.2635,-308.4573 1105.3183,-303.6149\"/>\n</g>\n<!-- 30 -->\n<g id=\"node31\" class=\"node\">\n<title>30</title>\n<path fill=\"#9ccef2\" stroke=\"#000000\" d=\"M1273.5,-298.5C1273.5,-298.5 1166.5,-298.5 1166.5,-298.5 1160.5,-298.5 1154.5,-292.5 1154.5,-286.5 1154.5,-286.5 1154.5,-242.5 1154.5,-242.5 1154.5,-236.5 1160.5,-230.5 1166.5,-230.5 1166.5,-230.5 1273.5,-230.5 1273.5,-230.5 1279.5,-230.5 1285.5,-236.5 1285.5,-242.5 1285.5,-242.5 1285.5,-286.5 1285.5,-286.5 1285.5,-292.5 1279.5,-298.5 1273.5,-298.5\"/>\n<text text-anchor=\"middle\" x=\"1220\" y=\"-283.3\" font-family=\"Helvetica,sans-Serif\" font-size=\"14.00\" fill=\"#000000\">gini = 0.444</text>\n<text text-anchor=\"middle\" x=\"1220\" y=\"-268.3\" font-family=\"Helvetica,sans-Serif\" font-size=\"14.00\" fill=\"#000000\">samples = 3</text>\n<text text-anchor=\"middle\" x=\"1220\" y=\"-253.3\" font-family=\"Helvetica,sans-Serif\" font-size=\"14.00\" fill=\"#000000\">value = [1, 2]</text>\n<text text-anchor=\"middle\" x=\"1220\" y=\"-238.3\" font-family=\"Helvetica,sans-Serif\" font-size=\"14.00\" fill=\"#000000\">class = no_bloom</text>\n</g>\n<!-- 28&#45;&gt;30 -->\n<g id=\"edge30\" class=\"edge\">\n<title>28&#45;&gt;30</title>\n<path fill=\"none\" stroke=\"#000000\" d=\"M1192.0393,-341.8796C1195.973,-330.9935 1200.2247,-319.227 1204.1968,-308.2344\"/>\n<polygon fill=\"#000000\" stroke=\"#000000\" points=\"1207.4937,-309.4092 1207.6005,-298.8149 1200.9103,-307.0303 1207.4937,-309.4092\"/>\n</g>\n<!-- \\n -->\n<g id=\"node32\" class=\"node\">\n<title>\\n</title>\n<path fill=\"#000000\" stroke=\"#000000\" d=\"M534,-996.5C534,-996.5 504,-996.5 504,-996.5 498,-996.5 492,-990.5 492,-984.5 492,-984.5 492,-972.5 492,-972.5 492,-966.5 498,-960.5 504,-960.5 504,-960.5 534,-960.5 534,-960.5 540,-960.5 546,-966.5 546,-972.5 546,-972.5 546,-984.5 546,-984.5 546,-990.5 540,-996.5 534,-996.5\"/>\n</g>\n</g>\n</svg>\n"
          },
          "metadata": {},
          "execution_count": 7
        }
      ],
      "source": [
        "#load model from a file\n",
        "model=joblib.load('Redtide_Bloom_Pred.joblib')\n",
        "\n",
        "#Export model in visual format (to know how the model makes predictions)\n",
        "dot_data=tree.export_graphviz(model,out_file=None, max_depth=None,label='all',rounded=True,filled=True,\n",
        "                     feature_names=['season','SSH','river_ch','river_pc','wind_os','wind_as'],class_names=sorted(y.unique()))\n",
        "\n",
        "#pydot to resize and saving \n",
        "pydot_graph = pydotplus.graph_from_dot_data(dot_data)\n",
        "pydot_graph.set_size('\"14,14!\"')\n",
        "\n",
        "#graphviz for screen display \n",
        "graphviz.Source(pydot_graph.to_string())\n",
        "\n"
      ]
    },
    {
      "cell_type": "code",
      "execution_count": 7,
      "metadata": {
        "id": "G6vuvpWpvj9D"
      },
      "outputs": [],
      "source": [
        ""
      ]
    }
  ],
  "metadata": {
    "kernelspec": {
      "display_name": "Python 3",
      "language": "python",
      "name": "python3"
    },
    "language_info": {
      "codemirror_mode": {
        "name": "ipython",
        "version": 3
      },
      "file_extension": ".py",
      "mimetype": "text/x-python",
      "name": "python",
      "nbconvert_exporter": "python",
      "pygments_lexer": "ipython3",
      "version": "3.8.3"
    },
    "colab": {
      "name": "Redtide.ipynb",
      "provenance": [],
      "include_colab_link": true
    }
  },
  "nbformat": 4,
  "nbformat_minor": 0
}