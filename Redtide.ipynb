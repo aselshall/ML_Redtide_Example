{
  "cells": [
    {
      "cell_type": "markdown",
      "metadata": {
        "id": "view-in-github",
        "colab_type": "text"
      },
      "source": [
        "<a href=\"https://colab.research.google.com/github/aselshall/ML_Redtide_Example/blob/main/Redtide.ipynb\" target=\"_parent\"><img src=\"https://colab.research.google.com/assets/colab-badge.svg\" alt=\"Open In Colab\"/></a>"
      ]
    },
    {
      "cell_type": "markdown",
      "metadata": {
        "id": "gw5mBq5qvj8z"
      },
      "source": [
        "### Example 2: Red tide classification problem (large bloom, no bloom)\n",
        "Decision trees with python (scikit-learn, and graphviz)"
      ]
    },
    {
      "cell_type": "code",
      "execution_count": 27,
      "metadata": {
        "id": "-fzhhPl0vj85"
      },
      "outputs": [],
      "source": [
        "#General\n",
        "import pandas as pd\n",
        "import numpy as np\n",
        "import matplotlib.pyplot as plt\n",
        "\n",
        "\n",
        "#ML\n",
        "from sklearn.model_selection import train_test_split\n",
        "from sklearn.tree import DecisionTreeClassifier\n",
        "from sklearn.ensemble import RandomForestClassifier\n",
        "from sklearn.metrics import accuracy_score\n",
        "from sklearn import tree\n",
        "import graphviz\n",
        "import pydotplus\n",
        "import joblib"
      ]
    },
    {
      "cell_type": "code",
      "source": [
        "from pathlib import Path\n",
        "import random\n",
        "\n",
        "import gdown\n",
        "from pathlib import Path\n",
        "Path('Input').mkdir(parents=True, exist_ok=True)\n",
        "Path('Output').mkdir(parents=True, exist_ok=True)\n",
        "file='maze_data.csv'\n",
        "#file_ID='1465jAe_fR7fXVZYduif8HPAWLEEDwP9P'\n",
        "\n",
        "url='https://drive.google.com/uc?id='\n",
        "\n",
        "print('Input files download')\n",
        "source=url+file_ID\n",
        "destination='Input/{}'.format(file)\n",
        "print('from {} to {}'.format(source,destination))\n",
        "gdown.download(source, destination, quiet=True)"
      ],
      "metadata": {
        "colab": {
          "base_uri": "https://localhost:8080/",
          "height": 70
        },
        "id": "CfC6nxoEwpwY",
        "outputId": "56d48e1a-a8cf-4474-b6c3-7495386f20d7"
      },
      "execution_count": 28,
      "outputs": [
        {
          "output_type": "stream",
          "name": "stdout",
          "text": [
            "Input files download\n",
            "from https://drive.google.com/uc?id=1z7Y7cDHtWhKmAbFNl0ABlMp3NOA2fVQr to Input/maze_data.csv\n"
          ]
        },
        {
          "output_type": "execute_result",
          "data": {
            "application/vnd.google.colaboratory.intrinsic+json": {
              "type": "string"
            },
            "text/plain": [
              "'Input/maze_data.csv'"
            ]
          },
          "metadata": {},
          "execution_count": 28
        }
      ]
    },
    {
      "cell_type": "code",
      "execution_count": 29,
      "metadata": {
        "id": "aee5CQ_dvj89"
      },
      "outputs": [],
      "source": [
        "df=pd.read_csv('Input/maze_data.csv')\n",
        "#display(df) "
      ]
    },
    {
      "cell_type": "markdown",
      "metadata": {
        "id": "KfLU0utuvj89"
      },
      "source": [
        "#### [2] Clean and prepare data"
      ]
    },
    {
      "cell_type": "code",
      "execution_count": 30,
      "metadata": {
        "id": "_XOsVt9wvj8-"
      },
      "outputs": [],
      "source": [
        "# Predictor variables\n",
        "X=df.drop(columns=['index','bloom','output'])\n",
        "#display(X)\n",
        "\n",
        "#Target variable(or label, or predictand)\n",
        "y=df.output\n",
        "#display(y)"
      ]
    },
    {
      "cell_type": "markdown",
      "metadata": {
        "id": "M2I0ZAeuvj8_"
      },
      "source": [
        "#### [3] Split data "
      ]
    },
    {
      "cell_type": "code",
      "execution_count": 31,
      "metadata": {
        "id": "cnl8tSURvj9A"
      },
      "outputs": [],
      "source": [
        "#Split to train and test\n",
        "X_train, X_test, y_train, y_test =train_test_split(X,y,test_size=0.2)\n",
        "\n",
        "# #Save splitted data\n",
        "# X_train.to_csv('X_train.csv') \n",
        "# X_test.to_csv('X_test.csv') \n",
        "# y_train .to_csv('y_train.csv') \n",
        "# y_test.to_csv('y_test.csv') \n",
        "\n",
        "#Display data\n",
        "#display(X_train)\n",
        "#display(y_train)"
      ]
    },
    {
      "cell_type": "markdown",
      "metadata": {
        "id": "AitakwsPvj9B"
      },
      "source": [
        "#### [4] Create, train, evaluate and save model "
      ]
    },
    {
      "cell_type": "code",
      "execution_count": 32,
      "metadata": {
        "colab": {
          "base_uri": "https://localhost:8080/"
        },
        "id": "BHaGpYmwvj9B",
        "outputId": "f4861449-b7d7-4496-835f-1f238732c60b"
      },
      "outputs": [
        {
          "output_type": "stream",
          "name": "stdout",
          "text": [
            "Accuracy: 0.67\n"
          ]
        },
        {
          "output_type": "execute_result",
          "data": {
            "text/plain": [
              "['Redtide_Bloom_Pred.joblib']"
            ]
          },
          "metadata": {},
          "execution_count": 32
        }
      ],
      "source": [
        "#Split to train and test\n",
        "X_train, X_test, y_train, y_test =train_test_split(X,y,test_size=0.2)\n",
        "\n",
        "# Define model: decision treee  \n",
        "model=DecisionTreeClassifier()\n",
        "#model=RandomForestClassifier()\n",
        "\n",
        "#Train model \n",
        "model.fit(X_train,y_train)\n",
        "\n",
        "#Make predictions\n",
        "y_pred=model.predict(X_test)\n",
        "\n",
        "#Evalaute predictions\n",
        "#fine tune the model, choose another algorithm or model, or application<br>\n",
        "#Accuracy:size_train_dataset, clean data (duplicates, missing data), irrelevent data\n",
        "score=accuracy_score(y_test,y_pred)\n",
        "print('Accuracy: {:0.2f}'.format(score))\n",
        "\n",
        "#Save model to a file \n",
        "joblib.dump(model,'Redtide_Bloom_Pred.joblib')"
      ]
    },
    {
      "cell_type": "markdown",
      "metadata": {
        "id": "8F8aukzIvj9C"
      },
      "source": [
        "#### [5] Model interpretation\n",
        "https://towardsdatascience.com/understanding-decision-trees-for-classification-python-9663d683c952<br>\n",
        "Plot decision tree starting from root+decision node, to decision node, and to terminal node (leaf).<br>\n",
        "Pure node means further spliting will not lead to further information gain, so classification trees do noy split on pure nodes.However, impure nodes can split further.<br>\n",
        "The figure shows that setosa was correctly classified for all 12 points.The right side shows that many points are misclassified as no_bloom.<br>\n",
        "Classification trees are a greedy algorithm which mean\n",
        "s by default it will continue to split until it has a pure node.<br> \n",
        "The algorithm chooses the best split point (i.e., gini) for the impure node.<br>\n",
        "Decision trees split on the feature that results in the largest information gain (e.g., gini or entropy criterion).<br>\n",
        "IG = information before splitting (parent) — information after splitting \n",
        "If the impurity criterion is not zero then we can furthr split."
      ]
    },
    {
      "cell_type": "markdown",
      "source": [
        "Season: (1) fall (dark blue) , (2) winter (light blue),\n",
        "(3) spring (green), (4) summer (red) <br>\n",
        "SSH: (-1) Loop Current South, (1) Loop Current North in the Gulf of Mexico <br>\n",
        "wind_os: Off-shore wind speed (-1) below average, (0) average, (1) above average <br>\n",
        "wind_as_ Along-shre wind speed (-1) below average, (0) average, (1) above average <br>\n",
        "river_ch: Caloosahatchee river outflow (-1) below average, (1) above average <br>\n",
        "river_pc: Peace River outflow (-1) below average, (1) above average <br>"
      ],
      "metadata": {
        "id": "bLfuZdG3N8J6"
      }
    },
    {
      "cell_type": "code",
      "execution_count": 33,
      "metadata": {
        "colab": {
          "base_uri": "https://localhost:8080/",
          "height": 1000
        },
        "id": "LXvsEKuTvj9D",
        "outputId": "597a0675-f4be-42db-9063-f567c674ecf6"
      },
      "outputs": [
        {
          "output_type": "execute_result",
          "data": {
            "text/plain": [
              "<graphviz.files.Source at 0x7ff79ae69a90>"
            ],
            "image/svg+xml": "<?xml version=\"1.0\" encoding=\"UTF-8\" standalone=\"no\"?>\n<!DOCTYPE svg PUBLIC \"-//W3C//DTD SVG 1.1//EN\"\n \"http://www.w3.org/Graphics/SVG/1.1/DTD/svg11.dtd\">\n<!-- Generated by graphviz version 2.40.1 (20161225.0304)\n -->\n<!-- Title: Tree Pages: 1 -->\n<svg width=\"1008pt\" height=\"969pt\"\n viewBox=\"0.00 0.00 1008.00 968.58\" xmlns=\"http://www.w3.org/2000/svg\" xmlns:xlink=\"http://www.w3.org/1999/xlink\">\n<g id=\"graph0\" class=\"graph\" transform=\"scale(1.0655 1.0655) rotate(0) translate(4 905)\">\n<title>Tree</title>\n<polygon fill=\"#ffffff\" stroke=\"transparent\" points=\"-4,4 -4,-905 942,-905 942,4 -4,4\"/>\n<!-- 0 -->\n<g id=\"node1\" class=\"node\">\n<title>0</title>\n<path fill=\"#61b1ea\" stroke=\"#000000\" d=\"M450.5,-901C450.5,-901 343.5,-901 343.5,-901 337.5,-901 331.5,-895 331.5,-889 331.5,-889 331.5,-830 331.5,-830 331.5,-824 337.5,-818 343.5,-818 343.5,-818 450.5,-818 450.5,-818 456.5,-818 462.5,-824 462.5,-830 462.5,-830 462.5,-889 462.5,-889 462.5,-895 456.5,-901 450.5,-901\"/>\n<text text-anchor=\"middle\" x=\"397\" y=\"-885.8\" font-family=\"Helvetica,sans-Serif\" font-size=\"14.00\" fill=\"#000000\">SSH &lt;= 0.0</text>\n<text text-anchor=\"middle\" x=\"397\" y=\"-870.8\" font-family=\"Helvetica,sans-Serif\" font-size=\"14.00\" fill=\"#000000\">gini = 0.278</text>\n<text text-anchor=\"middle\" x=\"397\" y=\"-855.8\" font-family=\"Helvetica,sans-Serif\" font-size=\"14.00\" fill=\"#000000\">samples = 48</text>\n<text text-anchor=\"middle\" x=\"397\" y=\"-840.8\" font-family=\"Helvetica,sans-Serif\" font-size=\"14.00\" fill=\"#000000\">value = [8, 40]</text>\n<text text-anchor=\"middle\" x=\"397\" y=\"-825.8\" font-family=\"Helvetica,sans-Serif\" font-size=\"14.00\" fill=\"#000000\">class = no_bloom</text>\n</g>\n<!-- 1 -->\n<g id=\"node2\" class=\"node\">\n<title>1</title>\n<path fill=\"#399de5\" stroke=\"#000000\" d=\"M376.5,-774.5C376.5,-774.5 269.5,-774.5 269.5,-774.5 263.5,-774.5 257.5,-768.5 257.5,-762.5 257.5,-762.5 257.5,-718.5 257.5,-718.5 257.5,-712.5 263.5,-706.5 269.5,-706.5 269.5,-706.5 376.5,-706.5 376.5,-706.5 382.5,-706.5 388.5,-712.5 388.5,-718.5 388.5,-718.5 388.5,-762.5 388.5,-762.5 388.5,-768.5 382.5,-774.5 376.5,-774.5\"/>\n<text text-anchor=\"middle\" x=\"323\" y=\"-759.3\" font-family=\"Helvetica,sans-Serif\" font-size=\"14.00\" fill=\"#000000\">gini = 0.0</text>\n<text text-anchor=\"middle\" x=\"323\" y=\"-744.3\" font-family=\"Helvetica,sans-Serif\" font-size=\"14.00\" fill=\"#000000\">samples = 15</text>\n<text text-anchor=\"middle\" x=\"323\" y=\"-729.3\" font-family=\"Helvetica,sans-Serif\" font-size=\"14.00\" fill=\"#000000\">value = [0, 15]</text>\n<text text-anchor=\"middle\" x=\"323\" y=\"-714.3\" font-family=\"Helvetica,sans-Serif\" font-size=\"14.00\" fill=\"#000000\">class = no_bloom</text>\n</g>\n<!-- 0&#45;&gt;1 -->\n<g id=\"edge1\" class=\"edge\">\n<title>0&#45;&gt;1</title>\n<path fill=\"none\" stroke=\"#000000\" d=\"M371.1184,-817.8796C364.2121,-806.7735 356.7361,-794.7513 349.7825,-783.5691\"/>\n<polygon fill=\"#000000\" stroke=\"#000000\" points=\"352.5917,-781.4587 344.3387,-774.8149 346.6473,-785.1552 352.5917,-781.4587\"/>\n<text text-anchor=\"middle\" x=\"338.6619\" y=\"-795.4619\" font-family=\"Helvetica,sans-Serif\" font-size=\"14.00\" fill=\"#000000\">True</text>\n</g>\n<!-- 2 -->\n<g id=\"node3\" class=\"node\">\n<title>2</title>\n<path fill=\"#78bced\" stroke=\"#000000\" d=\"M525.5,-782C525.5,-782 418.5,-782 418.5,-782 412.5,-782 406.5,-776 406.5,-770 406.5,-770 406.5,-711 406.5,-711 406.5,-705 412.5,-699 418.5,-699 418.5,-699 525.5,-699 525.5,-699 531.5,-699 537.5,-705 537.5,-711 537.5,-711 537.5,-770 537.5,-770 537.5,-776 531.5,-782 525.5,-782\"/>\n<text text-anchor=\"middle\" x=\"472\" y=\"-766.8\" font-family=\"Helvetica,sans-Serif\" font-size=\"14.00\" fill=\"#000000\">season &lt;= 1.5</text>\n<text text-anchor=\"middle\" x=\"472\" y=\"-751.8\" font-family=\"Helvetica,sans-Serif\" font-size=\"14.00\" fill=\"#000000\">gini = 0.367</text>\n<text text-anchor=\"middle\" x=\"472\" y=\"-736.8\" font-family=\"Helvetica,sans-Serif\" font-size=\"14.00\" fill=\"#000000\">samples = 33</text>\n<text text-anchor=\"middle\" x=\"472\" y=\"-721.8\" font-family=\"Helvetica,sans-Serif\" font-size=\"14.00\" fill=\"#000000\">value = [8, 25]</text>\n<text text-anchor=\"middle\" x=\"472\" y=\"-706.8\" font-family=\"Helvetica,sans-Serif\" font-size=\"14.00\" fill=\"#000000\">class = no_bloom</text>\n</g>\n<!-- 0&#45;&gt;2 -->\n<g id=\"edge2\" class=\"edge\">\n<title>0&#45;&gt;2</title>\n<path fill=\"none\" stroke=\"#000000\" d=\"M423.2314,-817.8796C428.7373,-809.1434 434.6006,-799.8404 440.2824,-790.8253\"/>\n<polygon fill=\"#000000\" stroke=\"#000000\" points=\"443.2857,-792.6242 445.6567,-782.2981 437.3637,-788.8919 443.2857,-792.6242\"/>\n<text text-anchor=\"middle\" x=\"451.1863\" y=\"-802.9789\" font-family=\"Helvetica,sans-Serif\" font-size=\"14.00\" fill=\"#000000\">False</text>\n</g>\n<!-- 3 -->\n<g id=\"node4\" class=\"node\">\n<title>3</title>\n<path fill=\"#f6d5bd\" stroke=\"#000000\" d=\"M455,-663C455,-663 333,-663 333,-663 327,-663 321,-657 321,-651 321,-651 321,-592 321,-592 321,-586 327,-580 333,-580 333,-580 455,-580 455,-580 461,-580 467,-586 467,-592 467,-592 467,-651 467,-651 467,-657 461,-663 455,-663\"/>\n<text text-anchor=\"middle\" x=\"394\" y=\"-647.8\" font-family=\"Helvetica,sans-Serif\" font-size=\"14.00\" fill=\"#000000\">wind_os &lt;= 0.0</text>\n<text text-anchor=\"middle\" x=\"394\" y=\"-632.8\" font-family=\"Helvetica,sans-Serif\" font-size=\"14.00\" fill=\"#000000\">gini = 0.48</text>\n<text text-anchor=\"middle\" x=\"394\" y=\"-617.8\" font-family=\"Helvetica,sans-Serif\" font-size=\"14.00\" fill=\"#000000\">samples = 5</text>\n<text text-anchor=\"middle\" x=\"394\" y=\"-602.8\" font-family=\"Helvetica,sans-Serif\" font-size=\"14.00\" fill=\"#000000\">value = [3, 2]</text>\n<text text-anchor=\"middle\" x=\"394\" y=\"-587.8\" font-family=\"Helvetica,sans-Serif\" font-size=\"14.00\" fill=\"#000000\">class = large_bloom</text>\n</g>\n<!-- 2&#45;&gt;3 -->\n<g id=\"edge3\" class=\"edge\">\n<title>2&#45;&gt;3</title>\n<path fill=\"none\" stroke=\"#000000\" d=\"M444.7194,-698.8796C438.9932,-690.1434 432.8954,-680.8404 426.9863,-671.8253\"/>\n<polygon fill=\"#000000\" stroke=\"#000000\" points=\"429.8063,-669.7429 421.3971,-663.2981 423.9518,-673.5803 429.8063,-669.7429\"/>\n</g>\n<!-- 10 -->\n<g id=\"node11\" class=\"node\">\n<title>10</title>\n<path fill=\"#64b2eb\" stroke=\"#000000\" d=\"M604.5,-663C604.5,-663 497.5,-663 497.5,-663 491.5,-663 485.5,-657 485.5,-651 485.5,-651 485.5,-592 485.5,-592 485.5,-586 491.5,-580 497.5,-580 497.5,-580 604.5,-580 604.5,-580 610.5,-580 616.5,-586 616.5,-592 616.5,-592 616.5,-651 616.5,-651 616.5,-657 610.5,-663 604.5,-663\"/>\n<text text-anchor=\"middle\" x=\"551\" y=\"-647.8\" font-family=\"Helvetica,sans-Serif\" font-size=\"14.00\" fill=\"#000000\">wind_os &lt;= &#45;0.5</text>\n<text text-anchor=\"middle\" x=\"551\" y=\"-632.8\" font-family=\"Helvetica,sans-Serif\" font-size=\"14.00\" fill=\"#000000\">gini = 0.293</text>\n<text text-anchor=\"middle\" x=\"551\" y=\"-617.8\" font-family=\"Helvetica,sans-Serif\" font-size=\"14.00\" fill=\"#000000\">samples = 28</text>\n<text text-anchor=\"middle\" x=\"551\" y=\"-602.8\" font-family=\"Helvetica,sans-Serif\" font-size=\"14.00\" fill=\"#000000\">value = [5, 23]</text>\n<text text-anchor=\"middle\" x=\"551\" y=\"-587.8\" font-family=\"Helvetica,sans-Serif\" font-size=\"14.00\" fill=\"#000000\">class = no_bloom</text>\n</g>\n<!-- 2&#45;&gt;10 -->\n<g id=\"edge10\" class=\"edge\">\n<title>2&#45;&gt;10</title>\n<path fill=\"none\" stroke=\"#000000\" d=\"M499.6304,-698.8796C505.43,-690.1434 511.6059,-680.8404 517.5908,-671.8253\"/>\n<polygon fill=\"#000000\" stroke=\"#000000\" points=\"520.6368,-673.5652 523.2517,-663.2981 514.8049,-669.6935 520.6368,-673.5652\"/>\n</g>\n<!-- 4 -->\n<g id=\"node5\" class=\"node\">\n<title>4</title>\n<path fill=\"#ffffff\" stroke=\"#000000\" d=\"M291,-544C291,-544 169,-544 169,-544 163,-544 157,-538 157,-532 157,-532 157,-473 157,-473 157,-467 163,-461 169,-461 169,-461 291,-461 291,-461 297,-461 303,-467 303,-473 303,-473 303,-532 303,-532 303,-538 297,-544 291,-544\"/>\n<text text-anchor=\"middle\" x=\"230\" y=\"-528.8\" font-family=\"Helvetica,sans-Serif\" font-size=\"14.00\" fill=\"#000000\">river_ch &lt;= 0.0</text>\n<text text-anchor=\"middle\" x=\"230\" y=\"-513.8\" font-family=\"Helvetica,sans-Serif\" font-size=\"14.00\" fill=\"#000000\">gini = 0.5</text>\n<text text-anchor=\"middle\" x=\"230\" y=\"-498.8\" font-family=\"Helvetica,sans-Serif\" font-size=\"14.00\" fill=\"#000000\">samples = 4</text>\n<text text-anchor=\"middle\" x=\"230\" y=\"-483.8\" font-family=\"Helvetica,sans-Serif\" font-size=\"14.00\" fill=\"#000000\">value = [2, 2]</text>\n<text text-anchor=\"middle\" x=\"230\" y=\"-468.8\" font-family=\"Helvetica,sans-Serif\" font-size=\"14.00\" fill=\"#000000\">class = large_bloom</text>\n</g>\n<!-- 3&#45;&gt;4 -->\n<g id=\"edge4\" class=\"edge\">\n<title>3&#45;&gt;4</title>\n<path fill=\"none\" stroke=\"#000000\" d=\"M336.6408,-579.8796C323.4075,-570.2774 309.2303,-559.9903 295.6736,-550.1534\"/>\n<polygon fill=\"#000000\" stroke=\"#000000\" points=\"297.4762,-547.1371 287.3269,-544.0969 293.3651,-552.8027 297.4762,-547.1371\"/>\n</g>\n<!-- 9 -->\n<g id=\"node10\" class=\"node\">\n<title>9</title>\n<path fill=\"#e58139\" stroke=\"#000000\" d=\"M455,-536.5C455,-536.5 333,-536.5 333,-536.5 327,-536.5 321,-530.5 321,-524.5 321,-524.5 321,-480.5 321,-480.5 321,-474.5 327,-468.5 333,-468.5 333,-468.5 455,-468.5 455,-468.5 461,-468.5 467,-474.5 467,-480.5 467,-480.5 467,-524.5 467,-524.5 467,-530.5 461,-536.5 455,-536.5\"/>\n<text text-anchor=\"middle\" x=\"394\" y=\"-521.3\" font-family=\"Helvetica,sans-Serif\" font-size=\"14.00\" fill=\"#000000\">gini = 0.0</text>\n<text text-anchor=\"middle\" x=\"394\" y=\"-506.3\" font-family=\"Helvetica,sans-Serif\" font-size=\"14.00\" fill=\"#000000\">samples = 1</text>\n<text text-anchor=\"middle\" x=\"394\" y=\"-491.3\" font-family=\"Helvetica,sans-Serif\" font-size=\"14.00\" fill=\"#000000\">value = [1, 0]</text>\n<text text-anchor=\"middle\" x=\"394\" y=\"-476.3\" font-family=\"Helvetica,sans-Serif\" font-size=\"14.00\" fill=\"#000000\">class = large_bloom</text>\n</g>\n<!-- 3&#45;&gt;9 -->\n<g id=\"edge9\" class=\"edge\">\n<title>3&#45;&gt;9</title>\n<path fill=\"none\" stroke=\"#000000\" d=\"M394,-579.8796C394,-569.2134 394,-557.7021 394,-546.9015\"/>\n<polygon fill=\"#000000\" stroke=\"#000000\" points=\"397.5001,-546.8149 394,-536.8149 390.5001,-546.815 397.5001,-546.8149\"/>\n</g>\n<!-- 5 -->\n<g id=\"node6\" class=\"node\">\n<title>5</title>\n<path fill=\"#e58139\" stroke=\"#000000\" d=\"M134,-417.5C134,-417.5 12,-417.5 12,-417.5 6,-417.5 0,-411.5 0,-405.5 0,-405.5 0,-361.5 0,-361.5 0,-355.5 6,-349.5 12,-349.5 12,-349.5 134,-349.5 134,-349.5 140,-349.5 146,-355.5 146,-361.5 146,-361.5 146,-405.5 146,-405.5 146,-411.5 140,-417.5 134,-417.5\"/>\n<text text-anchor=\"middle\" x=\"73\" y=\"-402.3\" font-family=\"Helvetica,sans-Serif\" font-size=\"14.00\" fill=\"#000000\">gini = 0.0</text>\n<text text-anchor=\"middle\" x=\"73\" y=\"-387.3\" font-family=\"Helvetica,sans-Serif\" font-size=\"14.00\" fill=\"#000000\">samples = 1</text>\n<text text-anchor=\"middle\" x=\"73\" y=\"-372.3\" font-family=\"Helvetica,sans-Serif\" font-size=\"14.00\" fill=\"#000000\">value = [1, 0]</text>\n<text text-anchor=\"middle\" x=\"73\" y=\"-357.3\" font-family=\"Helvetica,sans-Serif\" font-size=\"14.00\" fill=\"#000000\">class = large_bloom</text>\n</g>\n<!-- 4&#45;&gt;5 -->\n<g id=\"edge5\" class=\"edge\">\n<title>4&#45;&gt;5</title>\n<path fill=\"none\" stroke=\"#000000\" d=\"M175.089,-460.8796C159.2006,-448.8368 141.8909,-435.7167 126.1143,-423.7586\"/>\n<polygon fill=\"#000000\" stroke=\"#000000\" points=\"128.1031,-420.8743 118.0195,-417.623 123.8747,-426.4529 128.1031,-420.8743\"/>\n</g>\n<!-- 6 -->\n<g id=\"node7\" class=\"node\">\n<title>6</title>\n<path fill=\"#9ccef2\" stroke=\"#000000\" d=\"M283.5,-425C283.5,-425 176.5,-425 176.5,-425 170.5,-425 164.5,-419 164.5,-413 164.5,-413 164.5,-354 164.5,-354 164.5,-348 170.5,-342 176.5,-342 176.5,-342 283.5,-342 283.5,-342 289.5,-342 295.5,-348 295.5,-354 295.5,-354 295.5,-413 295.5,-413 295.5,-419 289.5,-425 283.5,-425\"/>\n<text text-anchor=\"middle\" x=\"230\" y=\"-409.8\" font-family=\"Helvetica,sans-Serif\" font-size=\"14.00\" fill=\"#000000\">river_pc &lt;= 0.0</text>\n<text text-anchor=\"middle\" x=\"230\" y=\"-394.8\" font-family=\"Helvetica,sans-Serif\" font-size=\"14.00\" fill=\"#000000\">gini = 0.444</text>\n<text text-anchor=\"middle\" x=\"230\" y=\"-379.8\" font-family=\"Helvetica,sans-Serif\" font-size=\"14.00\" fill=\"#000000\">samples = 3</text>\n<text text-anchor=\"middle\" x=\"230\" y=\"-364.8\" font-family=\"Helvetica,sans-Serif\" font-size=\"14.00\" fill=\"#000000\">value = [1, 2]</text>\n<text text-anchor=\"middle\" x=\"230\" y=\"-349.8\" font-family=\"Helvetica,sans-Serif\" font-size=\"14.00\" fill=\"#000000\">class = no_bloom</text>\n</g>\n<!-- 4&#45;&gt;6 -->\n<g id=\"edge6\" class=\"edge\">\n<title>4&#45;&gt;6</title>\n<path fill=\"none\" stroke=\"#000000\" d=\"M230,-460.8796C230,-452.6838 230,-443.9891 230,-435.5013\"/>\n<polygon fill=\"#000000\" stroke=\"#000000\" points=\"233.5001,-435.298 230,-425.2981 226.5001,-435.2981 233.5001,-435.298\"/>\n</g>\n<!-- 7 -->\n<g id=\"node8\" class=\"node\">\n<title>7</title>\n<path fill=\"#399de5\" stroke=\"#000000\" d=\"M127.5,-298.5C127.5,-298.5 20.5,-298.5 20.5,-298.5 14.5,-298.5 8.5,-292.5 8.5,-286.5 8.5,-286.5 8.5,-242.5 8.5,-242.5 8.5,-236.5 14.5,-230.5 20.5,-230.5 20.5,-230.5 127.5,-230.5 127.5,-230.5 133.5,-230.5 139.5,-236.5 139.5,-242.5 139.5,-242.5 139.5,-286.5 139.5,-286.5 139.5,-292.5 133.5,-298.5 127.5,-298.5\"/>\n<text text-anchor=\"middle\" x=\"74\" y=\"-283.3\" font-family=\"Helvetica,sans-Serif\" font-size=\"14.00\" fill=\"#000000\">gini = 0.0</text>\n<text text-anchor=\"middle\" x=\"74\" y=\"-268.3\" font-family=\"Helvetica,sans-Serif\" font-size=\"14.00\" fill=\"#000000\">samples = 1</text>\n<text text-anchor=\"middle\" x=\"74\" y=\"-253.3\" font-family=\"Helvetica,sans-Serif\" font-size=\"14.00\" fill=\"#000000\">value = [0, 1]</text>\n<text text-anchor=\"middle\" x=\"74\" y=\"-238.3\" font-family=\"Helvetica,sans-Serif\" font-size=\"14.00\" fill=\"#000000\">class = no_bloom</text>\n</g>\n<!-- 6&#45;&gt;7 -->\n<g id=\"edge7\" class=\"edge\">\n<title>6&#45;&gt;7</title>\n<path fill=\"none\" stroke=\"#000000\" d=\"M175.4388,-341.8796C159.6516,-329.8368 142.4521,-316.7167 126.7759,-304.7586\"/>\n<polygon fill=\"#000000\" stroke=\"#000000\" points=\"128.8063,-301.9053 118.7327,-298.623 124.5608,-307.4709 128.8063,-301.9053\"/>\n</g>\n<!-- 8 -->\n<g id=\"node9\" class=\"node\">\n<title>8</title>\n<path fill=\"#ffffff\" stroke=\"#000000\" d=\"M292,-298.5C292,-298.5 170,-298.5 170,-298.5 164,-298.5 158,-292.5 158,-286.5 158,-286.5 158,-242.5 158,-242.5 158,-236.5 164,-230.5 170,-230.5 170,-230.5 292,-230.5 292,-230.5 298,-230.5 304,-236.5 304,-242.5 304,-242.5 304,-286.5 304,-286.5 304,-292.5 298,-298.5 292,-298.5\"/>\n<text text-anchor=\"middle\" x=\"231\" y=\"-283.3\" font-family=\"Helvetica,sans-Serif\" font-size=\"14.00\" fill=\"#000000\">gini = 0.5</text>\n<text text-anchor=\"middle\" x=\"231\" y=\"-268.3\" font-family=\"Helvetica,sans-Serif\" font-size=\"14.00\" fill=\"#000000\">samples = 2</text>\n<text text-anchor=\"middle\" x=\"231\" y=\"-253.3\" font-family=\"Helvetica,sans-Serif\" font-size=\"14.00\" fill=\"#000000\">value = [1, 1]</text>\n<text text-anchor=\"middle\" x=\"231\" y=\"-238.3\" font-family=\"Helvetica,sans-Serif\" font-size=\"14.00\" fill=\"#000000\">class = large_bloom</text>\n</g>\n<!-- 6&#45;&gt;8 -->\n<g id=\"edge8\" class=\"edge\">\n<title>6&#45;&gt;8</title>\n<path fill=\"none\" stroke=\"#000000\" d=\"M230.3498,-341.8796C230.4394,-331.2134 230.5361,-319.7021 230.6269,-308.9015\"/>\n<polygon fill=\"#000000\" stroke=\"#000000\" points=\"234.1274,-308.844 230.7116,-298.8149 227.1276,-308.7851 234.1274,-308.844\"/>\n</g>\n<!-- 11 -->\n<g id=\"node12\" class=\"node\">\n<title>11</title>\n<path fill=\"#b0d8f5\" stroke=\"#000000\" d=\"M604.5,-544C604.5,-544 497.5,-544 497.5,-544 491.5,-544 485.5,-538 485.5,-532 485.5,-532 485.5,-473 485.5,-473 485.5,-467 491.5,-461 497.5,-461 497.5,-461 604.5,-461 604.5,-461 610.5,-461 616.5,-467 616.5,-473 616.5,-473 616.5,-532 616.5,-532 616.5,-538 610.5,-544 604.5,-544\"/>\n<text text-anchor=\"middle\" x=\"551\" y=\"-528.8\" font-family=\"Helvetica,sans-Serif\" font-size=\"14.00\" fill=\"#000000\">wind_as &lt;= 0.0</text>\n<text text-anchor=\"middle\" x=\"551\" y=\"-513.8\" font-family=\"Helvetica,sans-Serif\" font-size=\"14.00\" fill=\"#000000\">gini = 0.469</text>\n<text text-anchor=\"middle\" x=\"551\" y=\"-498.8\" font-family=\"Helvetica,sans-Serif\" font-size=\"14.00\" fill=\"#000000\">samples = 8</text>\n<text text-anchor=\"middle\" x=\"551\" y=\"-483.8\" font-family=\"Helvetica,sans-Serif\" font-size=\"14.00\" fill=\"#000000\">value = [3, 5]</text>\n<text text-anchor=\"middle\" x=\"551\" y=\"-468.8\" font-family=\"Helvetica,sans-Serif\" font-size=\"14.00\" fill=\"#000000\">class = no_bloom</text>\n</g>\n<!-- 10&#45;&gt;11 -->\n<g id=\"edge11\" class=\"edge\">\n<title>10&#45;&gt;11</title>\n<path fill=\"none\" stroke=\"#000000\" d=\"M551,-579.8796C551,-571.6838 551,-562.9891 551,-554.5013\"/>\n<polygon fill=\"#000000\" stroke=\"#000000\" points=\"554.5001,-554.298 551,-544.2981 547.5001,-554.2981 554.5001,-554.298\"/>\n</g>\n<!-- 20 -->\n<g id=\"node21\" class=\"node\">\n<title>20</title>\n<path fill=\"#4fa8e8\" stroke=\"#000000\" d=\"M761.5,-544C761.5,-544 654.5,-544 654.5,-544 648.5,-544 642.5,-538 642.5,-532 642.5,-532 642.5,-473 642.5,-473 642.5,-467 648.5,-461 654.5,-461 654.5,-461 761.5,-461 761.5,-461 767.5,-461 773.5,-467 773.5,-473 773.5,-473 773.5,-532 773.5,-532 773.5,-538 767.5,-544 761.5,-544\"/>\n<text text-anchor=\"middle\" x=\"708\" y=\"-528.8\" font-family=\"Helvetica,sans-Serif\" font-size=\"14.00\" fill=\"#000000\">wind_as &lt;= &#45;0.5</text>\n<text text-anchor=\"middle\" x=\"708\" y=\"-513.8\" font-family=\"Helvetica,sans-Serif\" font-size=\"14.00\" fill=\"#000000\">gini = 0.18</text>\n<text text-anchor=\"middle\" x=\"708\" y=\"-498.8\" font-family=\"Helvetica,sans-Serif\" font-size=\"14.00\" fill=\"#000000\">samples = 20</text>\n<text text-anchor=\"middle\" x=\"708\" y=\"-483.8\" font-family=\"Helvetica,sans-Serif\" font-size=\"14.00\" fill=\"#000000\">value = [2, 18]</text>\n<text text-anchor=\"middle\" x=\"708\" y=\"-468.8\" font-family=\"Helvetica,sans-Serif\" font-size=\"14.00\" fill=\"#000000\">class = no_bloom</text>\n</g>\n<!-- 10&#45;&gt;20 -->\n<g id=\"edge20\" class=\"edge\">\n<title>10&#45;&gt;20</title>\n<path fill=\"none\" stroke=\"#000000\" d=\"M605.911,-579.8796C618.5794,-570.2774 632.1515,-559.9903 645.1295,-550.1534\"/>\n<polygon fill=\"#000000\" stroke=\"#000000\" points=\"647.2648,-552.9268 653.12,-544.0969 643.0364,-547.3482 647.2648,-552.9268\"/>\n</g>\n<!-- 12 -->\n<g id=\"node13\" class=\"node\">\n<title>12</title>\n<path fill=\"#88c4ef\" stroke=\"#000000\" d=\"M447.5,-425C447.5,-425 340.5,-425 340.5,-425 334.5,-425 328.5,-419 328.5,-413 328.5,-413 328.5,-354 328.5,-354 328.5,-348 334.5,-342 340.5,-342 340.5,-342 447.5,-342 447.5,-342 453.5,-342 459.5,-348 459.5,-354 459.5,-354 459.5,-413 459.5,-413 459.5,-419 453.5,-425 447.5,-425\"/>\n<text text-anchor=\"middle\" x=\"394\" y=\"-409.8\" font-family=\"Helvetica,sans-Serif\" font-size=\"14.00\" fill=\"#000000\">river_ch &lt;= 0.0</text>\n<text text-anchor=\"middle\" x=\"394\" y=\"-394.8\" font-family=\"Helvetica,sans-Serif\" font-size=\"14.00\" fill=\"#000000\">gini = 0.408</text>\n<text text-anchor=\"middle\" x=\"394\" y=\"-379.8\" font-family=\"Helvetica,sans-Serif\" font-size=\"14.00\" fill=\"#000000\">samples = 7</text>\n<text text-anchor=\"middle\" x=\"394\" y=\"-364.8\" font-family=\"Helvetica,sans-Serif\" font-size=\"14.00\" fill=\"#000000\">value = [2, 5]</text>\n<text text-anchor=\"middle\" x=\"394\" y=\"-349.8\" font-family=\"Helvetica,sans-Serif\" font-size=\"14.00\" fill=\"#000000\">class = no_bloom</text>\n</g>\n<!-- 11&#45;&gt;12 -->\n<g id=\"edge12\" class=\"edge\">\n<title>11&#45;&gt;12</title>\n<path fill=\"none\" stroke=\"#000000\" d=\"M496.089,-460.8796C483.4206,-451.2774 469.8485,-440.9903 456.8705,-431.1534\"/>\n<polygon fill=\"#000000\" stroke=\"#000000\" points=\"458.9636,-428.3482 448.88,-425.0969 454.7352,-433.9268 458.9636,-428.3482\"/>\n</g>\n<!-- 19 -->\n<g id=\"node20\" class=\"node\">\n<title>19</title>\n<path fill=\"#e58139\" stroke=\"#000000\" d=\"M612,-417.5C612,-417.5 490,-417.5 490,-417.5 484,-417.5 478,-411.5 478,-405.5 478,-405.5 478,-361.5 478,-361.5 478,-355.5 484,-349.5 490,-349.5 490,-349.5 612,-349.5 612,-349.5 618,-349.5 624,-355.5 624,-361.5 624,-361.5 624,-405.5 624,-405.5 624,-411.5 618,-417.5 612,-417.5\"/>\n<text text-anchor=\"middle\" x=\"551\" y=\"-402.3\" font-family=\"Helvetica,sans-Serif\" font-size=\"14.00\" fill=\"#000000\">gini = 0.0</text>\n<text text-anchor=\"middle\" x=\"551\" y=\"-387.3\" font-family=\"Helvetica,sans-Serif\" font-size=\"14.00\" fill=\"#000000\">samples = 1</text>\n<text text-anchor=\"middle\" x=\"551\" y=\"-372.3\" font-family=\"Helvetica,sans-Serif\" font-size=\"14.00\" fill=\"#000000\">value = [1, 0]</text>\n<text text-anchor=\"middle\" x=\"551\" y=\"-357.3\" font-family=\"Helvetica,sans-Serif\" font-size=\"14.00\" fill=\"#000000\">class = large_bloom</text>\n</g>\n<!-- 11&#45;&gt;19 -->\n<g id=\"edge19\" class=\"edge\">\n<title>11&#45;&gt;19</title>\n<path fill=\"none\" stroke=\"#000000\" d=\"M551,-460.8796C551,-450.2134 551,-438.7021 551,-427.9015\"/>\n<polygon fill=\"#000000\" stroke=\"#000000\" points=\"554.5001,-427.8149 551,-417.8149 547.5001,-427.815 554.5001,-427.8149\"/>\n</g>\n<!-- 13 -->\n<g id=\"node14\" class=\"node\">\n<title>13</title>\n<path fill=\"#399de5\" stroke=\"#000000\" d=\"M443.5,-298.5C443.5,-298.5 336.5,-298.5 336.5,-298.5 330.5,-298.5 324.5,-292.5 324.5,-286.5 324.5,-286.5 324.5,-242.5 324.5,-242.5 324.5,-236.5 330.5,-230.5 336.5,-230.5 336.5,-230.5 443.5,-230.5 443.5,-230.5 449.5,-230.5 455.5,-236.5 455.5,-242.5 455.5,-242.5 455.5,-286.5 455.5,-286.5 455.5,-292.5 449.5,-298.5 443.5,-298.5\"/>\n<text text-anchor=\"middle\" x=\"390\" y=\"-283.3\" font-family=\"Helvetica,sans-Serif\" font-size=\"14.00\" fill=\"#000000\">gini = 0.0</text>\n<text text-anchor=\"middle\" x=\"390\" y=\"-268.3\" font-family=\"Helvetica,sans-Serif\" font-size=\"14.00\" fill=\"#000000\">samples = 3</text>\n<text text-anchor=\"middle\" x=\"390\" y=\"-253.3\" font-family=\"Helvetica,sans-Serif\" font-size=\"14.00\" fill=\"#000000\">value = [0, 3]</text>\n<text text-anchor=\"middle\" x=\"390\" y=\"-238.3\" font-family=\"Helvetica,sans-Serif\" font-size=\"14.00\" fill=\"#000000\">class = no_bloom</text>\n</g>\n<!-- 12&#45;&gt;13 -->\n<g id=\"edge13\" class=\"edge\">\n<title>12&#45;&gt;13</title>\n<path fill=\"none\" stroke=\"#000000\" d=\"M392.601,-341.8796C392.2425,-331.2134 391.8555,-319.7021 391.4925,-308.9015\"/>\n<polygon fill=\"#000000\" stroke=\"#000000\" points=\"394.9875,-308.6917 391.1534,-298.8149 387.9915,-308.9269 394.9875,-308.6917\"/>\n</g>\n<!-- 14 -->\n<g id=\"node15\" class=\"node\">\n<title>14</title>\n<path fill=\"#ffffff\" stroke=\"#000000\" d=\"M608,-306C608,-306 486,-306 486,-306 480,-306 474,-300 474,-294 474,-294 474,-235 474,-235 474,-229 480,-223 486,-223 486,-223 608,-223 608,-223 614,-223 620,-229 620,-235 620,-235 620,-294 620,-294 620,-300 614,-306 608,-306\"/>\n<text text-anchor=\"middle\" x=\"547\" y=\"-290.8\" font-family=\"Helvetica,sans-Serif\" font-size=\"14.00\" fill=\"#000000\">river_pc &lt;= 0.0</text>\n<text text-anchor=\"middle\" x=\"547\" y=\"-275.8\" font-family=\"Helvetica,sans-Serif\" font-size=\"14.00\" fill=\"#000000\">gini = 0.5</text>\n<text text-anchor=\"middle\" x=\"547\" y=\"-260.8\" font-family=\"Helvetica,sans-Serif\" font-size=\"14.00\" fill=\"#000000\">samples = 4</text>\n<text text-anchor=\"middle\" x=\"547\" y=\"-245.8\" font-family=\"Helvetica,sans-Serif\" font-size=\"14.00\" fill=\"#000000\">value = [2, 2]</text>\n<text text-anchor=\"middle\" x=\"547\" y=\"-230.8\" font-family=\"Helvetica,sans-Serif\" font-size=\"14.00\" fill=\"#000000\">class = large_bloom</text>\n</g>\n<!-- 12&#45;&gt;14 -->\n<g id=\"edge14\" class=\"edge\">\n<title>12&#45;&gt;14</title>\n<path fill=\"none\" stroke=\"#000000\" d=\"M447.512,-341.8796C459.7412,-332.368 472.8344,-322.1843 485.3732,-312.432\"/>\n<polygon fill=\"#000000\" stroke=\"#000000\" points=\"487.7735,-314.9991 493.5182,-306.0969 483.4759,-309.4736 487.7735,-314.9991\"/>\n</g>\n<!-- 15 -->\n<g id=\"node16\" class=\"node\">\n<title>15</title>\n<path fill=\"#e58139\" stroke=\"#000000\" d=\"M452,-179.5C452,-179.5 330,-179.5 330,-179.5 324,-179.5 318,-173.5 318,-167.5 318,-167.5 318,-123.5 318,-123.5 318,-117.5 324,-111.5 330,-111.5 330,-111.5 452,-111.5 452,-111.5 458,-111.5 464,-117.5 464,-123.5 464,-123.5 464,-167.5 464,-167.5 464,-173.5 458,-179.5 452,-179.5\"/>\n<text text-anchor=\"middle\" x=\"391\" y=\"-164.3\" font-family=\"Helvetica,sans-Serif\" font-size=\"14.00\" fill=\"#000000\">gini = 0.0</text>\n<text text-anchor=\"middle\" x=\"391\" y=\"-149.3\" font-family=\"Helvetica,sans-Serif\" font-size=\"14.00\" fill=\"#000000\">samples = 1</text>\n<text text-anchor=\"middle\" x=\"391\" y=\"-134.3\" font-family=\"Helvetica,sans-Serif\" font-size=\"14.00\" fill=\"#000000\">value = [1, 0]</text>\n<text text-anchor=\"middle\" x=\"391\" y=\"-119.3\" font-family=\"Helvetica,sans-Serif\" font-size=\"14.00\" fill=\"#000000\">class = large_bloom</text>\n</g>\n<!-- 14&#45;&gt;15 -->\n<g id=\"edge15\" class=\"edge\">\n<title>14&#45;&gt;15</title>\n<path fill=\"none\" stroke=\"#000000\" d=\"M492.4388,-222.8796C476.6516,-210.8368 459.4521,-197.7167 443.7759,-185.7586\"/>\n<polygon fill=\"#000000\" stroke=\"#000000\" points=\"445.8063,-182.9053 435.7327,-179.623 441.5608,-188.4709 445.8063,-182.9053\"/>\n</g>\n<!-- 16 -->\n<g id=\"node17\" class=\"node\">\n<title>16</title>\n<path fill=\"#9ccef2\" stroke=\"#000000\" d=\"M601.5,-187C601.5,-187 494.5,-187 494.5,-187 488.5,-187 482.5,-181 482.5,-175 482.5,-175 482.5,-116 482.5,-116 482.5,-110 488.5,-104 494.5,-104 494.5,-104 601.5,-104 601.5,-104 607.5,-104 613.5,-110 613.5,-116 613.5,-116 613.5,-175 613.5,-175 613.5,-181 607.5,-187 601.5,-187\"/>\n<text text-anchor=\"middle\" x=\"548\" y=\"-171.8\" font-family=\"Helvetica,sans-Serif\" font-size=\"14.00\" fill=\"#000000\">season &lt;= 3.0</text>\n<text text-anchor=\"middle\" x=\"548\" y=\"-156.8\" font-family=\"Helvetica,sans-Serif\" font-size=\"14.00\" fill=\"#000000\">gini = 0.444</text>\n<text text-anchor=\"middle\" x=\"548\" y=\"-141.8\" font-family=\"Helvetica,sans-Serif\" font-size=\"14.00\" fill=\"#000000\">samples = 3</text>\n<text text-anchor=\"middle\" x=\"548\" y=\"-126.8\" font-family=\"Helvetica,sans-Serif\" font-size=\"14.00\" fill=\"#000000\">value = [1, 2]</text>\n<text text-anchor=\"middle\" x=\"548\" y=\"-111.8\" font-family=\"Helvetica,sans-Serif\" font-size=\"14.00\" fill=\"#000000\">class = no_bloom</text>\n</g>\n<!-- 14&#45;&gt;16 -->\n<g id=\"edge16\" class=\"edge\">\n<title>14&#45;&gt;16</title>\n<path fill=\"none\" stroke=\"#000000\" d=\"M547.3498,-222.8796C547.4186,-214.6838 547.4917,-205.9891 547.563,-197.5013\"/>\n<polygon fill=\"#000000\" stroke=\"#000000\" points=\"551.0645,-197.3272 547.6488,-187.2981 544.0648,-197.2683 551.0645,-197.3272\"/>\n</g>\n<!-- 17 -->\n<g id=\"node18\" class=\"node\">\n<title>17</title>\n<path fill=\"#399de5\" stroke=\"#000000\" d=\"M444.5,-68C444.5,-68 337.5,-68 337.5,-68 331.5,-68 325.5,-62 325.5,-56 325.5,-56 325.5,-12 325.5,-12 325.5,-6 331.5,0 337.5,0 337.5,0 444.5,0 444.5,0 450.5,0 456.5,-6 456.5,-12 456.5,-12 456.5,-56 456.5,-56 456.5,-62 450.5,-68 444.5,-68\"/>\n<text text-anchor=\"middle\" x=\"391\" y=\"-52.8\" font-family=\"Helvetica,sans-Serif\" font-size=\"14.00\" fill=\"#000000\">gini = 0.0</text>\n<text text-anchor=\"middle\" x=\"391\" y=\"-37.8\" font-family=\"Helvetica,sans-Serif\" font-size=\"14.00\" fill=\"#000000\">samples = 1</text>\n<text text-anchor=\"middle\" x=\"391\" y=\"-22.8\" font-family=\"Helvetica,sans-Serif\" font-size=\"14.00\" fill=\"#000000\">value = [0, 1]</text>\n<text text-anchor=\"middle\" x=\"391\" y=\"-7.8\" font-family=\"Helvetica,sans-Serif\" font-size=\"14.00\" fill=\"#000000\">class = no_bloom</text>\n</g>\n<!-- 16&#45;&gt;17 -->\n<g id=\"edge17\" class=\"edge\">\n<title>16&#45;&gt;17</title>\n<path fill=\"none\" stroke=\"#000000\" d=\"M489.539,-103.9815C475.7492,-94.1881 461.0753,-83.7668 447.3795,-74.0402\"/>\n<polygon fill=\"#000000\" stroke=\"#000000\" points=\"449.1747,-71.0223 438.995,-68.0856 445.1215,-76.7295 449.1747,-71.0223\"/>\n</g>\n<!-- 18 -->\n<g id=\"node19\" class=\"node\">\n<title>18</title>\n<path fill=\"#ffffff\" stroke=\"#000000\" d=\"M609,-68C609,-68 487,-68 487,-68 481,-68 475,-62 475,-56 475,-56 475,-12 475,-12 475,-6 481,0 487,0 487,0 609,0 609,0 615,0 621,-6 621,-12 621,-12 621,-56 621,-56 621,-62 615,-68 609,-68\"/>\n<text text-anchor=\"middle\" x=\"548\" y=\"-52.8\" font-family=\"Helvetica,sans-Serif\" font-size=\"14.00\" fill=\"#000000\">gini = 0.5</text>\n<text text-anchor=\"middle\" x=\"548\" y=\"-37.8\" font-family=\"Helvetica,sans-Serif\" font-size=\"14.00\" fill=\"#000000\">samples = 2</text>\n<text text-anchor=\"middle\" x=\"548\" y=\"-22.8\" font-family=\"Helvetica,sans-Serif\" font-size=\"14.00\" fill=\"#000000\">value = [1, 1]</text>\n<text text-anchor=\"middle\" x=\"548\" y=\"-7.8\" font-family=\"Helvetica,sans-Serif\" font-size=\"14.00\" fill=\"#000000\">class = large_bloom</text>\n</g>\n<!-- 16&#45;&gt;18 -->\n<g id=\"edge18\" class=\"edge\">\n<title>16&#45;&gt;18</title>\n<path fill=\"none\" stroke=\"#000000\" d=\"M548,-103.9815C548,-95.618 548,-86.7965 548,-78.3409\"/>\n<polygon fill=\"#000000\" stroke=\"#000000\" points=\"551.5001,-78.2636 548,-68.2637 544.5001,-78.2637 551.5001,-78.2636\"/>\n</g>\n<!-- 21 -->\n<g id=\"node22\" class=\"node\">\n<title>21</title>\n<path fill=\"#65b3eb\" stroke=\"#000000\" d=\"M761.5,-425C761.5,-425 654.5,-425 654.5,-425 648.5,-425 642.5,-419 642.5,-413 642.5,-413 642.5,-354 642.5,-354 642.5,-348 648.5,-342 654.5,-342 654.5,-342 761.5,-342 761.5,-342 767.5,-342 773.5,-348 773.5,-354 773.5,-354 773.5,-413 773.5,-413 773.5,-419 767.5,-425 761.5,-425\"/>\n<text text-anchor=\"middle\" x=\"708\" y=\"-409.8\" font-family=\"Helvetica,sans-Serif\" font-size=\"14.00\" fill=\"#000000\">season &lt;= 3.5</text>\n<text text-anchor=\"middle\" x=\"708\" y=\"-394.8\" font-family=\"Helvetica,sans-Serif\" font-size=\"14.00\" fill=\"#000000\">gini = 0.298</text>\n<text text-anchor=\"middle\" x=\"708\" y=\"-379.8\" font-family=\"Helvetica,sans-Serif\" font-size=\"14.00\" fill=\"#000000\">samples = 11</text>\n<text text-anchor=\"middle\" x=\"708\" y=\"-364.8\" font-family=\"Helvetica,sans-Serif\" font-size=\"14.00\" fill=\"#000000\">value = [2, 9]</text>\n<text text-anchor=\"middle\" x=\"708\" y=\"-349.8\" font-family=\"Helvetica,sans-Serif\" font-size=\"14.00\" fill=\"#000000\">class = no_bloom</text>\n</g>\n<!-- 20&#45;&gt;21 -->\n<g id=\"edge21\" class=\"edge\">\n<title>20&#45;&gt;21</title>\n<path fill=\"none\" stroke=\"#000000\" d=\"M708,-460.8796C708,-452.6838 708,-443.9891 708,-435.5013\"/>\n<polygon fill=\"#000000\" stroke=\"#000000\" points=\"711.5001,-435.298 708,-425.2981 704.5001,-435.2981 711.5001,-435.298\"/>\n</g>\n<!-- 28 -->\n<g id=\"node29\" class=\"node\">\n<title>28</title>\n<path fill=\"#399de5\" stroke=\"#000000\" d=\"M910.5,-417.5C910.5,-417.5 803.5,-417.5 803.5,-417.5 797.5,-417.5 791.5,-411.5 791.5,-405.5 791.5,-405.5 791.5,-361.5 791.5,-361.5 791.5,-355.5 797.5,-349.5 803.5,-349.5 803.5,-349.5 910.5,-349.5 910.5,-349.5 916.5,-349.5 922.5,-355.5 922.5,-361.5 922.5,-361.5 922.5,-405.5 922.5,-405.5 922.5,-411.5 916.5,-417.5 910.5,-417.5\"/>\n<text text-anchor=\"middle\" x=\"857\" y=\"-402.3\" font-family=\"Helvetica,sans-Serif\" font-size=\"14.00\" fill=\"#000000\">gini = 0.0</text>\n<text text-anchor=\"middle\" x=\"857\" y=\"-387.3\" font-family=\"Helvetica,sans-Serif\" font-size=\"14.00\" fill=\"#000000\">samples = 9</text>\n<text text-anchor=\"middle\" x=\"857\" y=\"-372.3\" font-family=\"Helvetica,sans-Serif\" font-size=\"14.00\" fill=\"#000000\">value = [0, 9]</text>\n<text text-anchor=\"middle\" x=\"857\" y=\"-357.3\" font-family=\"Helvetica,sans-Serif\" font-size=\"14.00\" fill=\"#000000\">class = no_bloom</text>\n</g>\n<!-- 20&#45;&gt;28 -->\n<g id=\"edge28\" class=\"edge\">\n<title>20&#45;&gt;28</title>\n<path fill=\"none\" stroke=\"#000000\" d=\"M760.113,-460.8796C774.9826,-449.0038 791.164,-436.0804 805.9683,-424.2568\"/>\n<polygon fill=\"#000000\" stroke=\"#000000\" points=\"808.4046,-426.7904 814.0342,-417.8149 804.0362,-421.3207 808.4046,-426.7904\"/>\n</g>\n<!-- 22 -->\n<g id=\"node23\" class=\"node\">\n<title>22</title>\n<path fill=\"#4fa8e8\" stroke=\"#000000\" d=\"M761.5,-306C761.5,-306 654.5,-306 654.5,-306 648.5,-306 642.5,-300 642.5,-294 642.5,-294 642.5,-235 642.5,-235 642.5,-229 648.5,-223 654.5,-223 654.5,-223 761.5,-223 761.5,-223 767.5,-223 773.5,-229 773.5,-235 773.5,-235 773.5,-294 773.5,-294 773.5,-300 767.5,-306 761.5,-306\"/>\n<text text-anchor=\"middle\" x=\"708\" y=\"-290.8\" font-family=\"Helvetica,sans-Serif\" font-size=\"14.00\" fill=\"#000000\">season &lt;= 2.5</text>\n<text text-anchor=\"middle\" x=\"708\" y=\"-275.8\" font-family=\"Helvetica,sans-Serif\" font-size=\"14.00\" fill=\"#000000\">gini = 0.18</text>\n<text text-anchor=\"middle\" x=\"708\" y=\"-260.8\" font-family=\"Helvetica,sans-Serif\" font-size=\"14.00\" fill=\"#000000\">samples = 10</text>\n<text text-anchor=\"middle\" x=\"708\" y=\"-245.8\" font-family=\"Helvetica,sans-Serif\" font-size=\"14.00\" fill=\"#000000\">value = [1, 9]</text>\n<text text-anchor=\"middle\" x=\"708\" y=\"-230.8\" font-family=\"Helvetica,sans-Serif\" font-size=\"14.00\" fill=\"#000000\">class = no_bloom</text>\n</g>\n<!-- 21&#45;&gt;22 -->\n<g id=\"edge22\" class=\"edge\">\n<title>21&#45;&gt;22</title>\n<path fill=\"none\" stroke=\"#000000\" d=\"M708,-341.8796C708,-333.6838 708,-324.9891 708,-316.5013\"/>\n<polygon fill=\"#000000\" stroke=\"#000000\" points=\"711.5001,-316.298 708,-306.2981 704.5001,-316.2981 711.5001,-316.298\"/>\n</g>\n<!-- 27 -->\n<g id=\"node28\" class=\"node\">\n<title>27</title>\n<path fill=\"#e58139\" stroke=\"#000000\" d=\"M926,-298.5C926,-298.5 804,-298.5 804,-298.5 798,-298.5 792,-292.5 792,-286.5 792,-286.5 792,-242.5 792,-242.5 792,-236.5 798,-230.5 804,-230.5 804,-230.5 926,-230.5 926,-230.5 932,-230.5 938,-236.5 938,-242.5 938,-242.5 938,-286.5 938,-286.5 938,-292.5 932,-298.5 926,-298.5\"/>\n<text text-anchor=\"middle\" x=\"865\" y=\"-283.3\" font-family=\"Helvetica,sans-Serif\" font-size=\"14.00\" fill=\"#000000\">gini = 0.0</text>\n<text text-anchor=\"middle\" x=\"865\" y=\"-268.3\" font-family=\"Helvetica,sans-Serif\" font-size=\"14.00\" fill=\"#000000\">samples = 1</text>\n<text text-anchor=\"middle\" x=\"865\" y=\"-253.3\" font-family=\"Helvetica,sans-Serif\" font-size=\"14.00\" fill=\"#000000\">value = [1, 0]</text>\n<text text-anchor=\"middle\" x=\"865\" y=\"-238.3\" font-family=\"Helvetica,sans-Serif\" font-size=\"14.00\" fill=\"#000000\">class = large_bloom</text>\n</g>\n<!-- 21&#45;&gt;27 -->\n<g id=\"edge27\" class=\"edge\">\n<title>21&#45;&gt;27</title>\n<path fill=\"none\" stroke=\"#000000\" d=\"M762.911,-341.8796C778.7994,-329.8368 796.1091,-316.7167 811.8857,-304.7586\"/>\n<polygon fill=\"#000000\" stroke=\"#000000\" points=\"814.1253,-307.4529 819.9805,-298.623 809.8969,-301.8743 814.1253,-307.4529\"/>\n</g>\n<!-- 23 -->\n<g id=\"node24\" class=\"node\">\n<title>23</title>\n<path fill=\"#6ab6ec\" stroke=\"#000000\" d=\"M761.5,-187C761.5,-187 654.5,-187 654.5,-187 648.5,-187 642.5,-181 642.5,-175 642.5,-175 642.5,-116 642.5,-116 642.5,-110 648.5,-104 654.5,-104 654.5,-104 761.5,-104 761.5,-104 767.5,-104 773.5,-110 773.5,-116 773.5,-116 773.5,-175 773.5,-175 773.5,-181 767.5,-187 761.5,-187\"/>\n<text text-anchor=\"middle\" x=\"708\" y=\"-171.8\" font-family=\"Helvetica,sans-Serif\" font-size=\"14.00\" fill=\"#000000\">river_ch &lt;= 0.0</text>\n<text text-anchor=\"middle\" x=\"708\" y=\"-156.8\" font-family=\"Helvetica,sans-Serif\" font-size=\"14.00\" fill=\"#000000\">gini = 0.32</text>\n<text text-anchor=\"middle\" x=\"708\" y=\"-141.8\" font-family=\"Helvetica,sans-Serif\" font-size=\"14.00\" fill=\"#000000\">samples = 5</text>\n<text text-anchor=\"middle\" x=\"708\" y=\"-126.8\" font-family=\"Helvetica,sans-Serif\" font-size=\"14.00\" fill=\"#000000\">value = [1, 4]</text>\n<text text-anchor=\"middle\" x=\"708\" y=\"-111.8\" font-family=\"Helvetica,sans-Serif\" font-size=\"14.00\" fill=\"#000000\">class = no_bloom</text>\n</g>\n<!-- 22&#45;&gt;23 -->\n<g id=\"edge23\" class=\"edge\">\n<title>22&#45;&gt;23</title>\n<path fill=\"none\" stroke=\"#000000\" d=\"M708,-222.8796C708,-214.6838 708,-205.9891 708,-197.5013\"/>\n<polygon fill=\"#000000\" stroke=\"#000000\" points=\"711.5001,-197.298 708,-187.2981 704.5001,-197.2981 711.5001,-197.298\"/>\n</g>\n<!-- 26 -->\n<g id=\"node27\" class=\"node\">\n<title>26</title>\n<path fill=\"#399de5\" stroke=\"#000000\" d=\"M910.5,-179.5C910.5,-179.5 803.5,-179.5 803.5,-179.5 797.5,-179.5 791.5,-173.5 791.5,-167.5 791.5,-167.5 791.5,-123.5 791.5,-123.5 791.5,-117.5 797.5,-111.5 803.5,-111.5 803.5,-111.5 910.5,-111.5 910.5,-111.5 916.5,-111.5 922.5,-117.5 922.5,-123.5 922.5,-123.5 922.5,-167.5 922.5,-167.5 922.5,-173.5 916.5,-179.5 910.5,-179.5\"/>\n<text text-anchor=\"middle\" x=\"857\" y=\"-164.3\" font-family=\"Helvetica,sans-Serif\" font-size=\"14.00\" fill=\"#000000\">gini = 0.0</text>\n<text text-anchor=\"middle\" x=\"857\" y=\"-149.3\" font-family=\"Helvetica,sans-Serif\" font-size=\"14.00\" fill=\"#000000\">samples = 5</text>\n<text text-anchor=\"middle\" x=\"857\" y=\"-134.3\" font-family=\"Helvetica,sans-Serif\" font-size=\"14.00\" fill=\"#000000\">value = [0, 5]</text>\n<text text-anchor=\"middle\" x=\"857\" y=\"-119.3\" font-family=\"Helvetica,sans-Serif\" font-size=\"14.00\" fill=\"#000000\">class = no_bloom</text>\n</g>\n<!-- 22&#45;&gt;26 -->\n<g id=\"edge26\" class=\"edge\">\n<title>22&#45;&gt;26</title>\n<path fill=\"none\" stroke=\"#000000\" d=\"M760.113,-222.8796C774.9826,-211.0038 791.164,-198.0804 805.9683,-186.2568\"/>\n<polygon fill=\"#000000\" stroke=\"#000000\" points=\"808.4046,-188.7904 814.0342,-179.8149 804.0362,-183.3207 808.4046,-188.7904\"/>\n</g>\n<!-- 24 -->\n<g id=\"node25\" class=\"node\">\n<title>24</title>\n<path fill=\"#7bbeee\" stroke=\"#000000\" d=\"M761.5,-68C761.5,-68 654.5,-68 654.5,-68 648.5,-68 642.5,-62 642.5,-56 642.5,-56 642.5,-12 642.5,-12 642.5,-6 648.5,0 654.5,0 654.5,0 761.5,0 761.5,0 767.5,0 773.5,-6 773.5,-12 773.5,-12 773.5,-56 773.5,-56 773.5,-62 767.5,-68 761.5,-68\"/>\n<text text-anchor=\"middle\" x=\"708\" y=\"-52.8\" font-family=\"Helvetica,sans-Serif\" font-size=\"14.00\" fill=\"#000000\">gini = 0.375</text>\n<text text-anchor=\"middle\" x=\"708\" y=\"-37.8\" font-family=\"Helvetica,sans-Serif\" font-size=\"14.00\" fill=\"#000000\">samples = 4</text>\n<text text-anchor=\"middle\" x=\"708\" y=\"-22.8\" font-family=\"Helvetica,sans-Serif\" font-size=\"14.00\" fill=\"#000000\">value = [1, 3]</text>\n<text text-anchor=\"middle\" x=\"708\" y=\"-7.8\" font-family=\"Helvetica,sans-Serif\" font-size=\"14.00\" fill=\"#000000\">class = no_bloom</text>\n</g>\n<!-- 23&#45;&gt;24 -->\n<g id=\"edge24\" class=\"edge\">\n<title>23&#45;&gt;24</title>\n<path fill=\"none\" stroke=\"#000000\" d=\"M708,-103.9815C708,-95.618 708,-86.7965 708,-78.3409\"/>\n<polygon fill=\"#000000\" stroke=\"#000000\" points=\"711.5001,-78.2636 708,-68.2637 704.5001,-78.2637 711.5001,-78.2636\"/>\n</g>\n<!-- 25 -->\n<g id=\"node26\" class=\"node\">\n<title>25</title>\n<path fill=\"#399de5\" stroke=\"#000000\" d=\"M910.5,-68C910.5,-68 803.5,-68 803.5,-68 797.5,-68 791.5,-62 791.5,-56 791.5,-56 791.5,-12 791.5,-12 791.5,-6 797.5,0 803.5,0 803.5,0 910.5,0 910.5,0 916.5,0 922.5,-6 922.5,-12 922.5,-12 922.5,-56 922.5,-56 922.5,-62 916.5,-68 910.5,-68\"/>\n<text text-anchor=\"middle\" x=\"857\" y=\"-52.8\" font-family=\"Helvetica,sans-Serif\" font-size=\"14.00\" fill=\"#000000\">gini = 0.0</text>\n<text text-anchor=\"middle\" x=\"857\" y=\"-37.8\" font-family=\"Helvetica,sans-Serif\" font-size=\"14.00\" fill=\"#000000\">samples = 1</text>\n<text text-anchor=\"middle\" x=\"857\" y=\"-22.8\" font-family=\"Helvetica,sans-Serif\" font-size=\"14.00\" fill=\"#000000\">value = [0, 1]</text>\n<text text-anchor=\"middle\" x=\"857\" y=\"-7.8\" font-family=\"Helvetica,sans-Serif\" font-size=\"14.00\" fill=\"#000000\">class = no_bloom</text>\n</g>\n<!-- 23&#45;&gt;25 -->\n<g id=\"edge25\" class=\"edge\">\n<title>23&#45;&gt;25</title>\n<path fill=\"none\" stroke=\"#000000\" d=\"M763.4821,-103.9815C776.3779,-94.3313 790.0884,-84.0714 802.9227,-74.4673\"/>\n<polygon fill=\"#000000\" stroke=\"#000000\" points=\"805.3032,-77.0574 811.2127,-68.2637 801.1092,-71.4528 805.3032,-77.0574\"/>\n</g>\n<!-- \\n -->\n<g id=\"node30\" class=\"node\">\n<title>\\n</title>\n<path fill=\"#000000\" stroke=\"#000000\" d=\"M523,-877.5C523,-877.5 493,-877.5 493,-877.5 487,-877.5 481,-871.5 481,-865.5 481,-865.5 481,-853.5 481,-853.5 481,-847.5 487,-841.5 493,-841.5 493,-841.5 523,-841.5 523,-841.5 529,-841.5 535,-847.5 535,-853.5 535,-853.5 535,-865.5 535,-865.5 535,-871.5 529,-877.5 523,-877.5\"/>\n</g>\n</g>\n</svg>\n"
          },
          "metadata": {},
          "execution_count": 33
        }
      ],
      "source": [
        "#load model from a file\n",
        "model=joblib.load('Redtide_Bloom_Pred.joblib')\n",
        "\n",
        "#Export model in visual format (to know how the model makes predictions)\n",
        "dot_data=tree.export_graphviz(model,out_file=None, max_depth=None,label='all',rounded=True,filled=True,\n",
        "                     feature_names=['season','SSH','river_ch','river_pc','wind_os','wind_as'],class_names=sorted(y.unique()))\n",
        "\n",
        "#pydot to resize and saving \n",
        "pydot_graph = pydotplus.graph_from_dot_data(dot_data)\n",
        "pydot_graph.set_size('\"14,14!\"')\n",
        "\n",
        "#graphviz for screen display \n",
        "graphviz.Source(pydot_graph.to_string())\n",
        "\n"
      ]
    },
    {
      "cell_type": "code",
      "execution_count": 33,
      "metadata": {
        "id": "G6vuvpWpvj9D"
      },
      "outputs": [],
      "source": [
        ""
      ]
    }
  ],
  "metadata": {
    "kernelspec": {
      "display_name": "Python 3",
      "language": "python",
      "name": "python3"
    },
    "language_info": {
      "codemirror_mode": {
        "name": "ipython",
        "version": 3
      },
      "file_extension": ".py",
      "mimetype": "text/x-python",
      "name": "python",
      "nbconvert_exporter": "python",
      "pygments_lexer": "ipython3",
      "version": "3.8.3"
    },
    "colab": {
      "name": "Redtide.ipynb",
      "provenance": [],
      "include_colab_link": true
    }
  },
  "nbformat": 4,
  "nbformat_minor": 0
}